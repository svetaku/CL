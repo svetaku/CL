{
 "cells": [
  {
   "cell_type": "code",
   "execution_count": 5,
   "metadata": {},
   "outputs": [],
   "source": [
    "import string\n",
    "from gensim.utils import tokenize\n",
    "from gensim.summarization.textcleaner import split_sentences\n",
    "from nltk import sent_tokenize\n",
    "from nltk.tokenize import word_tokenize, wordpunct_tokenize\n",
    "from pymorphy2 import MorphAnalyzer\n",
    "from pymystem3 import Mystem\n",
    "from nltk.corpus import stopwords\n",
    "from string import punctuation\n",
    "import re, os, json\n",
    "mystem = Mystem()\n",
    "morph = MorphAnalyzer()"
   ]
  },
  {
   "cell_type": "code",
   "execution_count": 6,
   "metadata": {},
   "outputs": [],
   "source": [
    "import os"
   ]
  },
  {
   "cell_type": "code",
   "execution_count": 73,
   "metadata": {},
   "outputs": [],
   "source": [
    "city_smells = open('city_smells.txt', 'r', encoding = \"utf-8\")\n",
    "city_read = city_smells.read()\n",
    "city_smells.close()"
   ]
  },
  {
   "cell_type": "code",
   "execution_count": 74,
   "metadata": {},
   "outputs": [
    {
     "name": "stdout",
     "output_type": "stream",
     "text": [
      "5\n"
     ]
    }
   ],
   "source": [
    "# определяем среднюю длину слова в тексте\n",
    "# сначала обрабатываем и превращаем в список слов\n",
    "string.punctuation += '«»—…“”'\n",
    "city_read1 = city_read.lower()\n",
    "city_read1 = [word.strip(string.punctuation) for word in city_read1.split()]\n",
    "\n",
    "wordcount = len(city_read1)\n",
    "letter = 0\n",
    "ind = 0\n",
    "for i in city_read1:\n",
    "    letter += len(city_read1[ind])\n",
    "    ind += 1\n",
    "average_word = letter // wordcount\n",
    "print(average_word)\n",
    "    "
   ]
  },
  {
   "cell_type": "code",
   "execution_count": 83,
   "metadata": {},
   "outputs": [
    {
     "name": "stdout",
     "output_type": "stream",
     "text": [
      "16\n"
     ]
    }
   ],
   "source": [
    "# определяем среднюю длину предложения\n",
    "city_sent = split_sentences(city_read)\n",
    "average_sent = wordcount // len(city_sent)\n",
    "print(average_sent)"
   ]
  },
  {
   "cell_type": "code",
   "execution_count": 76,
   "metadata": {},
   "outputs": [
    {
     "name": "stdout",
     "output_type": "stream",
     "text": [
      "25.0\n"
     ]
    }
   ],
   "source": [
    "#  считаем, во сколько раз самое длинное предложение длиннее самого короткого\n",
    "\n",
    "city_sent = split_sentences(city_read)\n",
    "longest = 0\n",
    "shortest = len(city_sent[0])\n",
    "ind = 0\n",
    "for i in city_sent:\n",
    "    if len(city_sent[ind]) > longest:\n",
    "        longest = len(city_sent[ind])\n",
    "    if len(city_sent[ind]) < shortest:\n",
    "        shortest = len(city_sent[ind])\n",
    "    ind += 1  \n",
    "result1 = longest // shortest\n",
    "print(result1)\n",
    "    \n",
    "    "
   ]
  },
  {
   "cell_type": "code",
   "execution_count": 77,
   "metadata": {},
   "outputs": [
    {
     "name": "stdout",
     "output_type": "stream",
     "text": [
      "2\n"
     ]
    }
   ],
   "source": [
    "# считаем среднее количество пунктуационных знаков в предложении\n",
    "string.punctuation += '«»—…“”'\n",
    "city_sent = split_sentences(city_read)\n",
    "ind = 0\n",
    "punkt = 0\n",
    "for i in city_sent:\n",
    "    for x in city_sent[ind]:\n",
    "        if x in string.punctuation:\n",
    "            punkt +=1\n",
    "result2 = punkt // len(city_sent)\n",
    "print(result2)\n",
    "    \n"
   ]
  },
  {
   "cell_type": "code",
   "execution_count": 78,
   "metadata": {},
   "outputs": [
    {
     "name": "stdout",
     "output_type": "stream",
     "text": [
      "66.0 %\n"
     ]
    }
   ],
   "source": [
    "# считаем количество уникальных слов и пророрцию общему количеству слов в тексте\n",
    "\n",
    "city_read_set = set(city_read1)      # берем переменную city_read1 из 4 ячейки, превращаем в множество\n",
    "unique = len(city_read_set)\n",
    "proportion = unique // (len(city_read1) * 0.01)\n",
    "print(proportion, '%')"
   ]
  },
  {
   "cell_type": "code",
   "execution_count": 121,
   "metadata": {},
   "outputs": [
    {
     "name": "stdout",
     "output_type": "stream",
     "text": [
      "{'Flickr', 'Instagram', 'Smelly Maps', 'Open Street Map'}\n"
     ]
    }
   ],
   "source": [
    "# Извлечем из текста все имена собственные на латинице без повторов\n",
    "en_names = re.findall(r'[A-Z][A-Za-z\\s]+?(?=[А-Яа-я.,!?—\\-\\\"\\n])', city_read)\n",
    "en_names = [word.rstrip() for word in en_names]\n",
    "en_names = set(en_names)\n",
    "print(en_names)"
   ]
  },
  {
   "cell_type": "code",
   "execution_count": 123,
   "metadata": {},
   "outputs": [
    {
     "name": "stdout",
     "output_type": "stream",
     "text": [
      "Результаты обработки текста \"Запахи города\"\n",
      "Средняя длина слова: 5 букв\n",
      "Средняя длина предложения: 16 слов\n",
      "Самое длинное предложение длиннее самого короткого в 25.0 раз\n",
      "Среднее количество знаков препинания в предложении: 2\n",
      "Количество уникальных слов в тексте: 403\n",
      "Процент уникальных слов в тексте: 66.0%\n",
      "В тексте упоминаются следующие имена собственные на латинице: {'Flickr', 'Instagram', 'Smelly Maps', 'Open Street Map'}\n"
     ]
    },
    {
     "data": {
      "text/plain": [
       "<function TextIOWrapper.close()>"
      ]
     },
     "execution_count": 123,
     "metadata": {},
     "output_type": "execute_result"
    }
   ],
   "source": [
    "# создаем файл с результатами\n",
    "\n",
    "f = open('Результаты обработки текста.txt', 'w')\n",
    "f.write(\"Результаты обработки текста \\\"Запахи города\\\"\"+ '\\n' +\n",
    "       'Средняя длина слова: ' + str(average_word) + \" букв\"'\\n' +\n",
    "        'Средняя длина предложения: ' + str(average_sent) + \" слов\" + '\\n' +\n",
    "       'Самое длинное предложение длиннее самого короткого в ' + str(result1) + ' раз' + '\\n' +\n",
    "       'Среднее количество знаков препинания в предложении: ' + str(result2) + '\\n' +\n",
    "       'Количество уникальных слов в тексте: ' + str(unique) + '\\n' +\n",
    "        'Процент уникальных слов в тексте: ' + str(proportion) + '%' + '\\n' +\n",
    "       'В тексте упоминаются следующие имена собственные на латинице: ' + str(en_names))\n",
    "f.close\n",
    "f = open('Результаты обработки текста.txt', 'r')\n",
    "text = f.read()\n",
    "print(text)\n",
    "f.close"
   ]
  }
 ],
 "metadata": {
  "kernelspec": {
   "display_name": "Python 3",
   "language": "python",
   "name": "python3"
  },
  "language_info": {
   "codemirror_mode": {
    "name": "ipython",
    "version": 3
   },
   "file_extension": ".py",
   "mimetype": "text/x-python",
   "name": "python",
   "nbconvert_exporter": "python",
   "pygments_lexer": "ipython3",
   "version": "3.9.0"
  }
 },
 "nbformat": 4,
 "nbformat_minor": 4
}
