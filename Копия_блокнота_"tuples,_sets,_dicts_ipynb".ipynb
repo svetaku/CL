{
  "nbformat": 4,
  "nbformat_minor": 0,
  "metadata": {
    "colab": {
      "name": "Копия блокнота \"tuples, sets, dicts.ipynb\"",
      "provenance": [],
      "collapsed_sections": [
        "YPY75dCcrW7f",
        "LKlVNlBfjJHx",
        "zDDJ_qsdqvk-"
      ],
      "include_colab_link": true
    },
    "kernelspec": {
      "display_name": "Python 3",
      "language": "python",
      "name": "python3"
    },
    "language_info": {
      "codemirror_mode": {
        "name": "ipython",
        "version": 3
      },
      "file_extension": ".py",
      "mimetype": "text/x-python",
      "name": "python",
      "nbconvert_exporter": "python",
      "pygments_lexer": "ipython3",
      "version": "3.8.2"
    }
  },
  "cells": [
    {
      "cell_type": "markdown",
      "metadata": {
        "id": "view-in-github",
        "colab_type": "text"
      },
      "source": [
        "<a href=\"https://colab.research.google.com/github/svetaku/CL/blob/homework/%D0%9A%D0%BE%D0%BF%D0%B8%D1%8F_%D0%B1%D0%BB%D0%BE%D0%BA%D0%BD%D0%BE%D1%82%D0%B0_%22tuples%2C_sets%2C_dicts_ipynb%22.ipynb\" target=\"_parent\"><img src=\"https://colab.research.google.com/assets/colab-badge.svg\" alt=\"Open In Colab\"/></a>"
      ]
    },
    {
      "cell_type": "markdown",
      "metadata": {
        "id": "fKK1NqdSabRi"
      },
      "source": [
        "*Сегодня мы поговорим о новых типах данных: кортежах, множествах и словарях*"
      ]
    },
    {
      "cell_type": "markdown",
      "metadata": {
        "id": "YPY75dCcrW7f"
      },
      "source": [
        "##**Кортеж (tuple)**\n",
        "\n",
        "это неизменяемый список.\n",
        "\n",
        "Зачем нужны кортежи, если есть списки?\n",
        "\n",
        "    1. Защита данных. Кортеж защищен от изменений, как намеренных (что плохо), так и случайных (что хорошо).\n",
        "    2. Меньший размер. Вам нужно меньше памяти, чтобы хранить данные"
      ]
    },
    {
      "cell_type": "code",
      "metadata": {
        "id": "XgCyWbsYr-JO",
        "outputId": "56a9cebb-dd01-4fa9-bc57-dcef7a928357",
        "colab": {
          "base_uri": "https://localhost:8080/",
          "height": 68
        }
      },
      "source": [
        "# сравним размеры\n",
        "\n",
        "a = (1, 2, 3, 4, 5, 6) # кортеж\n",
        "b = [1, 2, 3, 4, 5, 6] # лист/список\n",
        "\n",
        "print(\"\\nSize of the tuple: \",a.__sizeof__(),\"\\nsize of the list: \",b.__sizeof__()) \n",
        "\n",
        "# если вы не понимаете, что происходит в этой ячейке, не переживайте: метод .__sizeof__() пока можно воспринимать как асбтракцию\n"
      ],
      "execution_count": 6,
      "outputs": [
        {
          "output_type": "stream",
          "text": [
            "\n",
            "Size of the tuple:  72 \n",
            "size of the list:  88\n"
          ],
          "name": "stdout"
        }
      ]
    },
    {
      "cell_type": "markdown",
      "metadata": {
        "id": "kwkjBl0T12UV"
      },
      "source": [
        "Как работать с кортежами? Примерно так же, как и со списками. Давайте создадим кортеж: \n",
        "\n",
        "    1. С помощью встроенной функции tuple()\n",
        "\n"
      ]
    },
    {
      "cell_type": "code",
      "metadata": {
        "id": "kriHPlVcspMc",
        "outputId": "fef18808-6822-416d-ab17-69264e68b063",
        "colab": {
          "base_uri": "https://localhost:8080/",
          "height": 51
        }
      },
      "source": [
        "a = tuple() \n",
        "print(a, \"\\n\",type(a))"
      ],
      "execution_count": 7,
      "outputs": [
        {
          "output_type": "stream",
          "text": [
            "() \n",
            " <class 'tuple'>\n"
          ],
          "name": "stdout"
        }
      ]
    },
    {
      "cell_type": "markdown",
      "metadata": {
        "id": "Z1Jd5U1M7PT1"
      },
      "source": [
        "    2. С помощью литерала кортежа ()"
      ]
    },
    {
      "cell_type": "code",
      "metadata": {
        "id": "yLIrwtKd7P30",
        "outputId": "4612575e-062a-4937-a679-7a36c5f79fe8",
        "colab": {
          "base_uri": "https://localhost:8080/",
          "height": 51
        }
      },
      "source": [
        "b = ()\n",
        "print(b, \"\\n\",type(b))\n"
      ],
      "execution_count": 8,
      "outputs": [
        {
          "output_type": "stream",
          "text": [
            "() \n",
            " <class 'tuple'>\n"
          ],
          "name": "stdout"
        }
      ]
    },
    {
      "cell_type": "markdown",
      "metadata": {
        "id": "yDSTSFZz2ARR"
      },
      "source": [
        "Создаем кортеж из одного элемента:"
      ]
    },
    {
      "cell_type": "code",
      "metadata": {
        "id": "WJOgLwE22Nm_",
        "outputId": "d4c40338-ffc7-4aad-cc33-ae116b74c737",
        "colab": {
          "base_uri": "https://localhost:8080/",
          "height": 51
        }
      },
      "source": [
        "a = ('sljbglb ;k')\n",
        "print(a, \"\\n\",type(a))\n",
        "# проверим его тип "
      ],
      "execution_count": 9,
      "outputs": [
        {
          "output_type": "stream",
          "text": [
            "sljbglb ;k \n",
            " <class 'str'>\n"
          ],
          "name": "stdout"
        }
      ]
    },
    {
      "cell_type": "markdown",
      "metadata": {
        "id": "zLdrLOn87nW-"
      },
      "source": [
        "\n",
        "Получилась строка :(  \n",
        "    \n",
        "А как получить кортеж?\n",
        "\n"
      ]
    },
    {
      "cell_type": "code",
      "metadata": {
        "id": "KsCCXu7L73Ic",
        "outputId": "9a816f45-2104-4509-c862-fa9d0ea48078",
        "colab": {
          "base_uri": "https://localhost:8080/",
          "height": 51
        }
      },
      "source": [
        "a = ('sljbglb ;k', ) # все дело в запятой! \n",
        "\n",
        "print(a, \"\\n\",type(a))\n",
        "# проверим тип "
      ],
      "execution_count": 10,
      "outputs": [
        {
          "output_type": "stream",
          "text": [
            "('sljbglb ;k',) \n",
            " <class 'tuple'>\n"
          ],
          "name": "stdout"
        }
      ]
    },
    {
      "cell_type": "markdown",
      "metadata": {
        "id": "oAtBJPku8Lnv"
      },
      "source": [
        "    3. и еще один способ задать кортеж:"
      ]
    },
    {
      "cell_type": "code",
      "metadata": {
        "id": "aq-kuGVJ8LHf",
        "outputId": "db6bb663-a4f1-4544-b48f-9fff4ec7a7fe",
        "colab": {
          "base_uri": "https://localhost:8080/",
          "height": 34
        }
      },
      "source": [
        "a = 's',\n",
        "a"
      ],
      "execution_count": 11,
      "outputs": [
        {
          "output_type": "execute_result",
          "data": {
            "text/plain": [
              "('s',)"
            ]
          },
          "metadata": {
            "tags": []
          },
          "execution_count": 11
        }
      ]
    },
    {
      "cell_type": "markdown",
      "metadata": {
        "id": "cZxrlN068hK3"
      },
      "source": [
        "создать кортеж из итерируемого объекта можно с помощью функции tuple()"
      ]
    },
    {
      "cell_type": "code",
      "metadata": {
        "id": "styHyGPj8YXC",
        "outputId": "337edc66-8315-4a7e-bdbd-f0d456539a1f",
        "colab": {
          "base_uri": "https://localhost:8080/",
          "height": 34
        }
      },
      "source": [
        "a = tuple('hello')\n",
        "a"
      ],
      "execution_count": 12,
      "outputs": [
        {
          "output_type": "execute_result",
          "data": {
            "text/plain": [
              "('h', 'e', 'l', 'l', 'o')"
            ]
          },
          "metadata": {
            "tags": []
          },
          "execution_count": 12
        }
      ]
    },
    {
      "cell_type": "markdown",
      "metadata": {
        "id": "csvhTL2Y8uxw"
      },
      "source": [
        "###Операции с кортежами\n",
        "\n",
        "кортежам доступны все операции над списками, не изменяющие список: сложение, умножение на число, методы index() и count()), можно работать с индексами и так далее."
      ]
    },
    {
      "cell_type": "markdown",
      "metadata": {
        "id": "LKlVNlBfjJHx"
      },
      "source": [
        "##**Множество (set)**\n",
        "\n",
        "это тоже \"контейнер\" для данных, но в отличие от листа(списка), он содержит уникальные, не повторяющиеся элементы.\n",
        "\n",
        "Давайте создадим множество:\n",
        "\n",
        "    1. с помощью функуии set()\n",
        "\n"
      ]
    },
    {
      "cell_type": "code",
      "metadata": {
        "id": "BaShf-dHlOtZ",
        "outputId": "76f91166-d37d-46b4-8d1e-275ba9c69bca",
        "colab": {
          "base_uri": "https://localhost:8080/",
          "height": 51
        }
      },
      "source": [
        "x = set(\"heLlo\")\n",
        "z = list(x)\n",
        "print(z)\n",
        "\n",
        "print(set([1,2,3]))"
      ],
      "execution_count": 5,
      "outputs": [
        {
          "output_type": "stream",
          "text": [
            "['e', 'o', 'L', 'h', 'l']\n",
            "{1, 2, 3}\n"
          ],
          "name": "stdout"
        }
      ]
    },
    {
      "cell_type": "code",
      "metadata": {
        "id": "_EopXMulaUrO",
        "outputId": "8445c37b-5cc6-4ab9-c4c4-40a9a437f78d",
        "colab": {
          "base_uri": "https://localhost:8080/",
          "height": 68
        }
      },
      "source": [
        "fruits = [\"apples\",\"peaches\",\"cherries\",\"pears\",\"oranges\",\"persimmons\"] # задали список, сохранили в переменную\n",
        "#  проверим его тип:\n",
        "print(type(fruits)) # list\n",
        "# давайте изменим тип на set с помощью функции set()\n",
        "\n",
        "fruits = set(fruits) #применили функцию, пересохранили переменную\n",
        "\n",
        "#проверим ее тип еще раз \n",
        "print(type(fruits)) # set \n",
        "\n",
        "type(fruits)\n"
      ],
      "execution_count": 17,
      "outputs": [
        {
          "output_type": "stream",
          "text": [
            "<class 'list'>\n",
            "<class 'set'>\n"
          ],
          "name": "stdout"
        },
        {
          "output_type": "execute_result",
          "data": {
            "text/plain": [
              "set"
            ]
          },
          "metadata": {
            "tags": []
          },
          "execution_count": 17
        }
      ]
    },
    {
      "cell_type": "markdown",
      "metadata": {
        "id": "Iq05WnEfmTFK"
      },
      "source": [
        "    2. с помощью литерала {} "
      ]
    },
    {
      "cell_type": "code",
      "metadata": {
        "id": "p81krk1FlIDE",
        "outputId": "51ee68b9-dc02-40e3-bac1-4a0a7ae4c192",
        "colab": {
          "base_uri": "https://localhost:8080/",
          "height": 34
        }
      },
      "source": [
        "new_set = {2,5.9,\"apples\", False}  # создали переменную, сложили в нее некоторые объекты\n",
        "# можем складывать в множество объекты разных типов: числовые, строковые, логические\n",
        "\n",
        "# давайте проверим, что new_set действительно множество\n",
        "print(type(new_set))\n"
      ],
      "execution_count": null,
      "outputs": [
        {
          "output_type": "stream",
          "text": [
            "<class 'set'>\n"
          ],
          "name": "stdout"
        }
      ]
    },
    {
      "cell_type": "markdown",
      "metadata": {
        "id": "ydhwxVHInUMi"
      },
      "source": [
        "    NB! обратите внимание, что в отличие от листа, множество нельзя задать пустым литералом и что-то в него добавлять"
      ]
    },
    {
      "cell_type": "code",
      "metadata": {
        "id": "oLz-iV-1muUf",
        "outputId": "e37e7bc5-c0b7-48bb-c9c9-23044156c484",
        "colab": {
          "base_uri": "https://localhost:8080/",
          "height": 52
        }
      },
      "source": [
        "another_set = {} # создали пустое....\n",
        "\n",
        "# ....множество? Давайте проверим тип созданной переменной \n",
        "\n",
        "print(type(another_set)) \n",
        "\n",
        "\"\"\" это не множество, это словарь! (о них мы поговорим позже). \n",
        "Давайте пока запомним главное: множества не задаются пустыми литералами \"\"\" "
      ],
      "execution_count": 2,
      "outputs": [
        {
          "output_type": "stream",
          "text": [
            "<class 'dict'>\n"
          ],
          "name": "stdout"
        },
        {
          "output_type": "execute_result",
          "data": {
            "application/vnd.google.colaboratory.intrinsic+json": {
              "type": "string"
            },
            "text/plain": [
              "' это не множество, это словарь! (о них мы поговорим позже). \\nДавайте пока запомним главное: множества не задаются пустыми литералами '"
            ]
          },
          "metadata": {
            "tags": []
          },
          "execution_count": 2
        }
      ]
    },
    {
      "cell_type": "markdown",
      "metadata": {
        "id": "y4CRSI6nolqC"
      },
      "source": [
        "Множества удобно использовать для удаления повторяющихся элементов:"
      ]
    },
    {
      "cell_type": "code",
      "metadata": {
        "id": "1NhqLbvingJ0",
        "outputId": "32dd0590-e014-4ab0-9a5f-68d104e80b45",
        "colab": {
          "base_uri": "https://localhost:8080/",
          "height": 34
        }
      },
      "source": [
        "cars = [\"BMW\",\"Toyota\",\"Bentley\",\"Jeep\",\"Jeep\"]\n",
        "cars = set(cars)\n",
        "cars"
      ],
      "execution_count": 14,
      "outputs": [
        {
          "output_type": "execute_result",
          "data": {
            "text/plain": [
              "{'BMW', 'Bentley', 'Jeep', 'Toyota'}"
            ]
          },
          "metadata": {
            "tags": []
          },
          "execution_count": 14
        }
      ]
    },
    {
      "cell_type": "markdown",
      "metadata": {
        "id": "lv9JQUBkplRh"
      },
      "source": [
        "операции со множествами"
      ]
    },
    {
      "cell_type": "code",
      "metadata": {
        "id": "rz7uZycLpVDQ",
        "outputId": "665daf99-0efc-45d3-d2c5-3bbdc23bb607",
        "colab": {
          "base_uri": "https://localhost:8080/",
          "height": 34
        }
      },
      "source": [
        "#число элементов в множестве (размер множества).\n",
        "len(cars) "
      ],
      "execution_count": null,
      "outputs": [
        {
          "output_type": "execute_result",
          "data": {
            "text/plain": [
              "4"
            ]
          },
          "metadata": {
            "tags": []
          },
          "execution_count": 134
        }
      ]
    },
    {
      "cell_type": "code",
      "metadata": {
        "id": "Y6fK44Icpw9F",
        "outputId": "7f36c759-bf34-404f-e9df-d8e7a9aab051",
        "colab": {
          "base_uri": "https://localhost:8080/",
          "height": 34
        }
      },
      "source": [
        "# x in s - принадлежит ли x множеству s. Возвращает True/False\n",
        "\n",
        "\"Kia\" in cars\n",
        "# \"Jeep\" in cars"
      ],
      "execution_count": null,
      "outputs": [
        {
          "output_type": "execute_result",
          "data": {
            "text/plain": [
              "False"
            ]
          },
          "metadata": {
            "tags": []
          },
          "execution_count": 139
        }
      ]
    },
    {
      "cell_type": "markdown",
      "metadata": {
        "id": "uG4DH-lYqdbb"
      },
      "source": [
        "И операции, изменяющие множество:"
      ]
    },
    {
      "cell_type": "code",
      "metadata": {
        "id": "KgU_LV5BA-Us",
        "outputId": "c860fdfd-a1d7-4e2a-bb63-b286c7c51707",
        "colab": {
          "base_uri": "https://localhost:8080/",
          "height": 34
        }
      },
      "source": [
        "#добавляем элемент в множество\n",
        "#elem = \n",
        "cars.add(\"VolskWagen\")\n",
        "cars "
      ],
      "execution_count": 15,
      "outputs": [
        {
          "output_type": "execute_result",
          "data": {
            "text/plain": [
              "{'BMW', 'Bentley', 'Jeep', 'Toyota', 'VolskWagen'}"
            ]
          },
          "metadata": {
            "tags": []
          },
          "execution_count": 15
        }
      ]
    },
    {
      "cell_type": "code",
      "metadata": {
        "id": "Huof99PqqGor",
        "outputId": "d5229aa9-af1b-4b0d-d7f6-4b718ca71df9",
        "colab": {
          "base_uri": "https://localhost:8080/",
          "height": 34
        }
      },
      "source": [
        "# добавляем множество во множество\n",
        "french_cars = {\"Peugeot\", \"Citroën\", \"Renault\"}\n",
        "cars.update(french_cars)\n",
        "cars"
      ],
      "execution_count": null,
      "outputs": [
        {
          "output_type": "execute_result",
          "data": {
            "text/plain": [
              "{'BMW', 'Bentley', 'Citroën', 'Jeep', 'Peugeot', 'Renault', 'Toyota'}"
            ]
          },
          "metadata": {
            "tags": []
          },
          "execution_count": 161
        }
      ]
    },
    {
      "cell_type": "code",
      "metadata": {
        "id": "T85OTjscCEOo",
        "outputId": "99b35d05-58b5-4bf5-93d5-9f679f606a1c",
        "colab": {
          "base_uri": "https://localhost:8080/",
          "height": 34
        }
      },
      "source": [
        "# удаляем элемент из множества. \n",
        "cars.remove(\"Jeep\")\n",
        "cars"
      ],
      "execution_count": null,
      "outputs": [
        {
          "output_type": "execute_result",
          "data": {
            "text/plain": [
              "{'BMW', 'Bentley', 'Citroën', 'Peugeot', 'Renault', 'Toyota', 'VolskWagen'}"
            ]
          },
          "metadata": {
            "tags": []
          },
          "execution_count": 142
        }
      ]
    },
    {
      "cell_type": "code",
      "metadata": {
        "id": "Q1-ymgelCR7C",
        "outputId": "24660a37-05cb-4698-90cb-4924a42d95a8",
        "colab": {
          "base_uri": "https://localhost:8080/",
          "height": 163
        }
      },
      "source": [
        "# KeyError, если такого элемента не существует.\n",
        "cars.remove(\"Lamborgini\")"
      ],
      "execution_count": null,
      "outputs": [
        {
          "output_type": "error",
          "ename": "KeyError",
          "evalue": "ignored",
          "traceback": [
            "\u001b[0;31m---------------------------------------------------------------------------\u001b[0m",
            "\u001b[0;31mKeyError\u001b[0m                                  Traceback (most recent call last)",
            "\u001b[0;32m<ipython-input-143-4e59839bee15>\u001b[0m in \u001b[0;36m<module>\u001b[0;34m()\u001b[0m\n\u001b[0;32m----> 1\u001b[0;31m \u001b[0mcars\u001b[0m\u001b[0;34m.\u001b[0m\u001b[0mremove\u001b[0m\u001b[0;34m(\u001b[0m\u001b[0;34m\"Lamborgini\"\u001b[0m\u001b[0;34m)\u001b[0m\u001b[0;34m\u001b[0m\u001b[0;34m\u001b[0m\u001b[0m\n\u001b[0m",
            "\u001b[0;31mKeyError\u001b[0m: 'Lamborgini'"
          ]
        }
      ]
    },
    {
      "cell_type": "code",
      "metadata": {
        "id": "3myR0EyVCYhc"
      },
      "source": [
        "cars.discard(\"Lamborgini\") # удаляет элемент, если он находится в множестве.\n",
        "# Если элемента нет, не поднимает ошибку"
      ],
      "execution_count": null,
      "outputs": []
    },
    {
      "cell_type": "code",
      "metadata": {
        "id": "MtMXFJd7C6PB",
        "outputId": "2ca867f8-bf67-4cf6-c9cc-4bd1453a0fc9",
        "colab": {
          "base_uri": "https://localhost:8080/",
          "height": 51
        }
      },
      "source": [
        "# удаляет первый элемент\n",
        "print(cars)\n",
        "cars.pop()\n",
        "\n",
        "# запустите несколько раз, посмотрите на результат"
      ],
      "execution_count": null,
      "outputs": [
        {
          "output_type": "stream",
          "text": [
            "{'Jeep', 'Renault', 'BMW', 'Citroën'}\n"
          ],
          "name": "stdout"
        },
        {
          "output_type": "execute_result",
          "data": {
            "text/plain": [
              "'Jeep'"
            ]
          },
          "metadata": {
            "tags": []
          },
          "execution_count": 154
        }
      ]
    },
    {
      "cell_type": "code",
      "metadata": {
        "id": "9D-k4CWQDJBi",
        "outputId": "01f12316-fbfb-40a1-c329-e7a069373efe",
        "colab": {
          "base_uri": "https://localhost:8080/",
          "height": 34
        }
      },
      "source": [
        "# очищаем множество\n",
        "\n",
        "cars.clear()\n",
        "cars"
      ],
      "execution_count": null,
      "outputs": [
        {
          "output_type": "execute_result",
          "data": {
            "text/plain": [
              "set()"
            ]
          },
          "metadata": {
            "tags": []
          },
          "execution_count": 155
        }
      ]
    },
    {
      "cell_type": "markdown",
      "metadata": {
        "id": "xqvSy9Hyqr0Q"
      },
      "source": [
        "математические операции со множествами"
      ]
    },
    {
      "cell_type": "code",
      "metadata": {
        "id": "phO-apGeDa_7",
        "outputId": "8434ab0b-3442-4b4f-fc0c-bfbe39ff971e",
        "colab": {
          "base_uri": "https://localhost:8080/",
          "height": 34
        }
      },
      "source": [
        "fruits # возьмем наше множество фруктов"
      ],
      "execution_count": null,
      "outputs": [
        {
          "output_type": "execute_result",
          "data": {
            "text/plain": [
              "{'apples', 'cherries', 'oranges', 'peaches', 'pears', 'persimmons'}"
            ]
          },
          "metadata": {
            "tags": []
          },
          "execution_count": 156
        }
      ]
    },
    {
      "cell_type": "code",
      "metadata": {
        "id": "lm7L0evHqbVQ",
        "outputId": "92d8b63f-37cb-4dce-b8d2-36d4257490ec",
        "colab": {
          "base_uri": "https://localhost:8080/",
          "height": 34
        }
      },
      "source": [
        "berries = {\"strawberry\", \"red currant\"}\n",
        "fruits.isdisjoint(berries) # True, если множества  не имеют общих элементов."
      ],
      "execution_count": 18,
      "outputs": [
        {
          "output_type": "execute_result",
          "data": {
            "text/plain": [
              "True"
            ]
          },
          "metadata": {
            "tags": []
          },
          "execution_count": 18
        }
      ]
    },
    {
      "cell_type": "code",
      "metadata": {
        "id": "Xvl3ribkEAZH",
        "outputId": "44eb93d0-c28a-47da-db9d-c3d573bdad7e",
        "colab": {
          "base_uri": "https://localhost:8080/",
          "height": 34
        }
      },
      "source": [
        "fruits == berries\n",
        " # True если все элементы set принадлежат other,\n",
        " # все элементы other принадлежат set."
      ],
      "execution_count": null,
      "outputs": [
        {
          "output_type": "execute_result",
          "data": {
            "text/plain": [
              "False"
            ]
          },
          "metadata": {
            "tags": []
          },
          "execution_count": 158
        }
      ]
    },
    {
      "cell_type": "code",
      "metadata": {
        "id": "ELuzu41lEORu",
        "outputId": "4af4b623-09cc-4858-c41d-205a66ed9837",
        "colab": {
          "base_uri": "https://localhost:8080/",
          "height": 34
        }
      },
      "source": [
        "#berries.issubset(fruits) # является ли подмножеством\n",
        " french_cars  <= cars\n",
        "# fruits <= berries # True если все элементы berries принадлежат fruits."
      ],
      "execution_count": null,
      "outputs": [
        {
          "output_type": "execute_result",
          "data": {
            "text/plain": [
              "True"
            ]
          },
          "metadata": {
            "tags": []
          },
          "execution_count": 163
        }
      ]
    },
    {
      "cell_type": "code",
      "metadata": {
        "id": "Nwd7FzFPEsD1",
        "outputId": "a2b2dfb4-3c7e-4f06-e35d-d7a1acde77e4",
        "colab": {
          "base_uri": "https://localhost:8080/",
          "height": 34
        }
      },
      "source": [
        "#fruits.issuperset(berries) # аналогично, но в обратную сторону\n",
        "# berries >= fruits\n",
        "   cars >= french_cars"
      ],
      "execution_count": null,
      "outputs": [
        {
          "output_type": "execute_result",
          "data": {
            "text/plain": [
              "True"
            ]
          },
          "metadata": {
            "tags": []
          },
          "execution_count": 165
        }
      ]
    },
    {
      "cell_type": "code",
      "metadata": {
        "id": "K2rxv2lnFD3z",
        "outputId": "5c6b5cfd-ff82-4233-f02a-984ff0cd7c55",
        "colab": {
          "base_uri": "https://localhost:8080/",
          "height": 153
        }
      },
      "source": [
        "# fruits.union(berries) # объединение нескольких множеств \n",
        "fruits | berries"
      ],
      "execution_count": 19,
      "outputs": [
        {
          "output_type": "execute_result",
          "data": {
            "text/plain": [
              "{'apples',\n",
              " 'cherries',\n",
              " 'oranges',\n",
              " 'peaches',\n",
              " 'pears',\n",
              " 'persimmons',\n",
              " 'red currant',\n",
              " 'strawberry'}"
            ]
          },
          "metadata": {
            "tags": []
          },
          "execution_count": 19
        }
      ]
    },
    {
      "cell_type": "code",
      "metadata": {
        "id": "fXN6VpSoFVQb",
        "outputId": "272c677d-f3ee-47ab-a887-fd04759aa412",
        "colab": {
          "base_uri": "https://localhost:8080/",
          "height": 34
        }
      },
      "source": [
        "#  пересечение множеств \n",
        " # пустое, у них нет общих элементов\n",
        "\n",
        "# давайте добавим арбуз \n",
        "\n",
        "fruits.add(\"watermelon\")\n",
        "berries.add(\"watermelon\")\n",
        "\n",
        "fruits.intersection(berries)\n",
        "\n",
        "# fruits & berries\n"
      ],
      "execution_count": null,
      "outputs": [
        {
          "output_type": "execute_result",
          "data": {
            "text/plain": [
              "{'watermelon'}"
            ]
          },
          "metadata": {
            "tags": []
          },
          "execution_count": 169
        }
      ]
    },
    {
      "cell_type": "markdown",
      "metadata": {
        "id": "zDDJ_qsdqvk-"
      },
      "source": [
        "### еще один вид множества - frozenset\n",
        "\n",
        "    set изменяемый, frozenset - нет"
      ]
    },
    {
      "cell_type": "code",
      "metadata": {
        "id": "1RHX7pXrq-42",
        "outputId": "dd8cc282-1f74-40c9-a1f6-e653f1055ec5",
        "colab": {
          "base_uri": "https://localhost:8080/",
          "height": 34
        }
      },
      "source": [
        "a = set(\"random\")\n",
        "b = frozenset('Random')\n",
        "a == b # давайте сравним множества"
      ],
      "execution_count": null,
      "outputs": [
        {
          "output_type": "execute_result",
          "data": {
            "text/plain": [
              "False"
            ]
          },
          "metadata": {
            "tags": []
          },
          "execution_count": 171
        }
      ]
    },
    {
      "cell_type": "code",
      "metadata": {
        "id": "yipvU3j8G44r",
        "outputId": "7425365b-f29d-4633-e42c-62603c3a814f",
        "colab": {
          "base_uri": "https://localhost:8080/",
          "height": 34
        }
      },
      "source": [
        "a.add(1) #добавим элемент в первое множество\n",
        "a"
      ],
      "execution_count": null,
      "outputs": [
        {
          "output_type": "execute_result",
          "data": {
            "text/plain": [
              "{1, 'a', 'd', 'm', 'n', 'o', 'r'}"
            ]
          },
          "metadata": {
            "tags": []
          },
          "execution_count": 172
        }
      ]
    },
    {
      "cell_type": "code",
      "metadata": {
        "id": "fvu33GL8HR7z",
        "outputId": "d6463421-95d6-4b46-8f9b-2b551f1aec71",
        "colab": {
          "base_uri": "https://localhost:8080/",
          "height": 180
        }
      },
      "source": [
        "b.add(2)\n",
        "# мы не можем добавлять в frozenset"
      ],
      "execution_count": null,
      "outputs": [
        {
          "output_type": "error",
          "ename": "AttributeError",
          "evalue": "ignored",
          "traceback": [
            "\u001b[0;31m---------------------------------------------------------------------------\u001b[0m",
            "\u001b[0;31mAttributeError\u001b[0m                            Traceback (most recent call last)",
            "\u001b[0;32m<ipython-input-173-4ce5d07a229d>\u001b[0m in \u001b[0;36m<module>\u001b[0;34m()\u001b[0m\n\u001b[0;32m----> 1\u001b[0;31m \u001b[0mb\u001b[0m\u001b[0;34m.\u001b[0m\u001b[0madd\u001b[0m\u001b[0;34m(\u001b[0m\u001b[0;36m2\u001b[0m\u001b[0;34m)\u001b[0m\u001b[0;34m\u001b[0m\u001b[0;34m\u001b[0m\u001b[0m\n\u001b[0m\u001b[1;32m      2\u001b[0m \u001b[0;31m# мы не можем добавлять в frozenset\u001b[0m\u001b[0;34m\u001b[0m\u001b[0;34m\u001b[0m\u001b[0;34m\u001b[0m\u001b[0m\n",
            "\u001b[0;31mAttributeError\u001b[0m: 'frozenset' object has no attribute 'add'"
          ]
        }
      ]
    },
    {
      "cell_type": "markdown",
      "metadata": {
        "id": "tlHuy58XrIXg"
      },
      "source": [
        "##**Словарь (dict)**\n",
        "\n",
        "коллекции произвольных объектов, записанные в виде *ключ : значение*\n",
        "(ключи уникальные, значения могут повторяться)\n",
        "\n",
        "( словари =ассоциативные массивы = хеш-таблицы)\n",
        "\n",
        "\n",
        "Давайте создадим словарь:\n",
        "\n",
        "    1. С помощью литерала:\n",
        "\n"
      ]
    },
    {
      "cell_type": "code",
      "metadata": {
        "id": "v7zkTUDf2aas",
        "outputId": "c5e8ba5d-70df-43ac-cf77-7a8e12d2a18c",
        "colab": {
          "base_uri": "https://localhost:8080/",
          "height": 34
        }
      },
      "source": [
        "d = {}\n",
        "d"
      ],
      "execution_count": null,
      "outputs": [
        {
          "output_type": "execute_result",
          "data": {
            "text/plain": [
              "{}"
            ]
          },
          "metadata": {
            "tags": []
          },
          "execution_count": 174
        }
      ]
    },
    {
      "cell_type": "code",
      "metadata": {
        "id": "FWEpd9fTMCb_",
        "outputId": "3741eb49-5feb-4d2f-ea21-2777a4e0e251",
        "colab": {
          "base_uri": "https://localhost:8080/",
          "height": 34
        }
      },
      "source": [
        "d = {'Jane': \"London\", 'Olga': \"Moscow\"} \n",
        "# Jane, Olga - это ключи, London, Moscow - значения\n",
        "d"
      ],
      "execution_count": null,
      "outputs": [
        {
          "output_type": "execute_result",
          "data": {
            "text/plain": [
              "{'Jane': 'London', 'Olga': 'Moscow'}"
            ]
          },
          "metadata": {
            "tags": []
          },
          "execution_count": 175
        }
      ]
    },
    {
      "cell_type": "markdown",
      "metadata": {
        "id": "zD0WunDYNCgK"
      },
      "source": [
        "    2.  с помощью функции dict()"
      ]
    },
    {
      "cell_type": "code",
      "metadata": {
        "id": "OegQIs_HM9PH",
        "outputId": "0defad61-833a-4f7d-82df-c0df0ae4ea2b",
        "colab": {
          "base_uri": "https://localhost:8080/",
          "height": 34
        }
      },
      "source": [
        "d = dict(short='dict', long='dictionary')\n",
        "d"
      ],
      "execution_count": null,
      "outputs": [
        {
          "output_type": "execute_result",
          "data": {
            "text/plain": [
              "{'long': 'dictionary', 'short': 'dict'}"
            ]
          },
          "metadata": {
            "tags": []
          },
          "execution_count": 176
        }
      ]
    },
    {
      "cell_type": "markdown",
      "metadata": {
        "id": "EKOrrZLqN1J7"
      },
      "source": [
        "    3. с помощью генераторов словарей (почти как генераторы списков)\n",
        "\n"
      ]
    },
    {
      "cell_type": "code",
      "metadata": {
        "id": "GBmRj0fxN9ls",
        "outputId": "01714a8c-5cb9-483b-ec57-ddb1194d53b3",
        "colab": {
          "base_uri": "https://localhost:8080/",
          "height": 34
        }
      },
      "source": [
        "d = {a: a ** 2 for a in range(7)}\n",
        "d\n"
      ],
      "execution_count": null,
      "outputs": [
        {
          "output_type": "execute_result",
          "data": {
            "text/plain": [
              "{0: 0, 1: 1, 2: 4, 3: 9, 4: 16, 5: 25, 6: 36}"
            ]
          },
          "metadata": {
            "tags": []
          },
          "execution_count": 58
        }
      ]
    },
    {
      "cell_type": "markdown",
      "metadata": {
        "id": "8dZ0JjiBNSJD"
      },
      "source": [
        "##с помощью метода fromkeys:\n"
      ]
    },
    {
      "cell_type": "code",
      "metadata": {
        "id": "VFCqm0fQNNdF",
        "outputId": "9130d54d-6e84-49c1-8eec-5508372af4b8",
        "colab": {
          "base_uri": "https://localhost:8080/",
          "height": 34
        }
      },
      "source": [
        "d = dict.fromkeys(['a', 'b'])\n",
        "d"
      ],
      "execution_count": null,
      "outputs": [
        {
          "output_type": "execute_result",
          "data": {
            "text/plain": [
              "{'a': None, 'b': None}"
            ]
          },
          "metadata": {
            "tags": []
          },
          "execution_count": 59
        }
      ]
    },
    {
      "cell_type": "code",
      "metadata": {
        "id": "SJEYT0FnOQ17",
        "outputId": "1aa60338-4fd6-41df-eef5-bae7248e42c4",
        "colab": {
          "base_uri": "https://localhost:8080/",
          "height": 34
        }
      },
      "source": [
        "d = dict.fromkeys(['a', 'b'], 100)\n",
        "d"
      ],
      "execution_count": null,
      "outputs": [
        {
          "output_type": "execute_result",
          "data": {
            "text/plain": [
              "{'a': 100, 'b': 100}"
            ]
          },
          "metadata": {
            "tags": []
          },
          "execution_count": 60
        }
      ]
    },
    {
      "cell_type": "markdown",
      "metadata": {
        "id": "q3pHPiUEN-o4"
      },
      "source": [
        "###Теперь попробуем добавить записей в словарь и извлечь значения ключей\n",
        "\n",
        "извлекается синтаксисом: название_переменной_словаря[ключ]"
      ]
    },
    {
      "cell_type": "code",
      "metadata": {
        "id": "T-ie4DV8Or3-",
        "outputId": "a9102485-bff3-4aae-fe41-d5de688719f6",
        "colab": {
          "base_uri": "https://localhost:8080/",
          "height": 180
        }
      },
      "source": [
        "d = {1: 2, 2: 4, 3: 9}\n",
        "d[4] # достаем значение по ключу 1"
      ],
      "execution_count": null,
      "outputs": [
        {
          "output_type": "error",
          "ename": "KeyError",
          "evalue": "ignored",
          "traceback": [
            "\u001b[0;31m---------------------------------------------------------------------------\u001b[0m",
            "\u001b[0;31mKeyError\u001b[0m                                  Traceback (most recent call last)",
            "\u001b[0;32m<ipython-input-194-f61e22549310>\u001b[0m in \u001b[0;36m<module>\u001b[0;34m()\u001b[0m\n\u001b[1;32m      1\u001b[0m \u001b[0md\u001b[0m \u001b[0;34m=\u001b[0m \u001b[0;34m{\u001b[0m\u001b[0;36m1\u001b[0m\u001b[0;34m:\u001b[0m \u001b[0;36m2\u001b[0m\u001b[0;34m,\u001b[0m \u001b[0;36m2\u001b[0m\u001b[0;34m:\u001b[0m \u001b[0;36m4\u001b[0m\u001b[0;34m,\u001b[0m \u001b[0;36m3\u001b[0m\u001b[0;34m:\u001b[0m \u001b[0;36m9\u001b[0m\u001b[0;34m}\u001b[0m\u001b[0;34m\u001b[0m\u001b[0;34m\u001b[0m\u001b[0m\n\u001b[0;32m----> 2\u001b[0;31m \u001b[0md\u001b[0m\u001b[0;34m[\u001b[0m\u001b[0;36m4\u001b[0m\u001b[0;34m]\u001b[0m \u001b[0;31m# достаем значение по ключу 1\u001b[0m\u001b[0;34m\u001b[0m\u001b[0;34m\u001b[0m\u001b[0m\n\u001b[0m",
            "\u001b[0;31mKeyError\u001b[0m: 4"
          ]
        }
      ]
    },
    {
      "cell_type": "code",
      "metadata": {
        "id": "OBQcdKctOw5y",
        "outputId": "53d41beb-1009-4fe5-fd99-55791689916c",
        "colab": {
          "base_uri": "https://localhost:8080/",
          "height": 34
        }
      },
      "source": [
        "d[3] = 4 ** 2 # добавляем пару, где ключ =4, а значение = 4**2\n",
        "d # посмотрим на весь словарь"
      ],
      "execution_count": null,
      "outputs": [
        {
          "output_type": "execute_result",
          "data": {
            "text/plain": [
              "{1: 2, 2: 4, 3: 16}"
            ]
          },
          "metadata": {
            "tags": []
          },
          "execution_count": 179
        }
      ]
    },
    {
      "cell_type": "code",
      "metadata": {
        "id": "QFhtKbAk2RyR",
        "outputId": "1b84ec4f-4812-423f-c40c-d7f898855826",
        "colab": {
          "base_uri": "https://localhost:8080/",
          "height": 163
        }
      },
      "source": [
        "d = {}"
      ],
      "execution_count": null,
      "outputs": [
        {
          "output_type": "error",
          "ename": "TypeError",
          "evalue": "ignored",
          "traceback": [
            "\u001b[0;31m---------------------------------------------------------------------------\u001b[0m",
            "\u001b[0;31mTypeError\u001b[0m                                 Traceback (most recent call last)",
            "\u001b[0;32m<ipython-input-182-1fca65e8f571>\u001b[0m in \u001b[0;36m<module>\u001b[0;34m()\u001b[0m\n\u001b[0;32m----> 1\u001b[0;31m \u001b[0md\u001b[0m \u001b[0;34m=\u001b[0m \u001b[0;34m{\u001b[0m\u001b[0;34m[\u001b[0m\u001b[0;34m\"a\"\u001b[0m\u001b[0;34m,\u001b[0m\u001b[0;34m\"b\"\u001b[0m\u001b[0;34m]\u001b[0m\u001b[0;34m:\u001b[0m\u001b[0;36m34\u001b[0m\u001b[0;34m}\u001b[0m\u001b[0;34m\u001b[0m\u001b[0;34m\u001b[0m\u001b[0m\n\u001b[0m",
            "\u001b[0;31mTypeError\u001b[0m: unhashable type: 'list'"
          ]
        }
      ]
    },
    {
      "cell_type": "code",
      "metadata": {
        "id": "ejjlgfgGPFkh",
        "outputId": "051c0379-57ca-47f3-9877-88266d064ffc",
        "colab": {
          "base_uri": "https://localhost:8080/",
          "height": 163
        }
      },
      "source": [
        "# попробуем достать ключ, которого нет\n",
        "d[5]"
      ],
      "execution_count": null,
      "outputs": [
        {
          "output_type": "error",
          "ename": "KeyError",
          "evalue": "ignored",
          "traceback": [
            "\u001b[0;31m---------------------------------------------------------------------------\u001b[0m",
            "\u001b[0;31mKeyError\u001b[0m                                  Traceback (most recent call last)",
            "\u001b[0;32m<ipython-input-180-a47182b4f775>\u001b[0m in \u001b[0;36m<module>\u001b[0;34m()\u001b[0m\n\u001b[0;32m----> 1\u001b[0;31m \u001b[0md\u001b[0m\u001b[0;34m[\u001b[0m\u001b[0;36m5\u001b[0m\u001b[0;34m]\u001b[0m\u001b[0;34m\u001b[0m\u001b[0;34m\u001b[0m\u001b[0m\n\u001b[0m",
            "\u001b[0;31mKeyError\u001b[0m: 5"
          ]
        }
      ]
    },
    {
      "cell_type": "markdown",
      "metadata": {
        "id": "IIBoVsIkNA-4"
      },
      "source": [
        "**Итог:** присвоение по новому ключу расширяет словарь, присвоение по существующему ключу перезаписывает его, а попытка извлечения несуществующего ключа порождает исключение."
      ]
    },
    {
      "cell_type": "markdown",
      "metadata": {
        "id": "ZTR6wZxTMWiI"
      },
      "source": [
        "###методы словарей"
      ]
    },
    {
      "cell_type": "code",
      "metadata": {
        "id": "nMJsPhroSpzh"
      },
      "source": [
        "d = {'Jane': \"London\", 'Olga': \"Moscow\",\"Paul\":\"Paris\",\"Ivan\":\"Minsk\",\"Anne\":\"Copenhagen\"}"
      ],
      "execution_count": 42,
      "outputs": []
    },
    {
      "cell_type": "code",
      "metadata": {
        "id": "GZhU7aHmQHxo",
        "outputId": "96ba763f-357c-4fbd-e12b-23e5b6b2f25e",
        "colab": {
          "base_uri": "https://localhost:8080/",
          "height": 34
        }
      },
      "source": [
        "d.values() # возвращает значения в словаре"
      ],
      "execution_count": 43,
      "outputs": [
        {
          "output_type": "execute_result",
          "data": {
            "text/plain": [
              "dict_values(['London', 'Moscow', 'Paris', 'Minsk', 'Copenhagen'])"
            ]
          },
          "metadata": {
            "tags": []
          },
          "execution_count": 43
        }
      ]
    },
    {
      "cell_type": "code",
      "metadata": {
        "id": "J-qIp2K0QXAJ",
        "outputId": "14b10c58-d0e8-4328-9832-29ac88d9b45f",
        "colab": {
          "base_uri": "https://localhost:8080/",
          "height": 34
        }
      },
      "source": [
        "d.keys() # возвращает ключи в словаре"
      ],
      "execution_count": 44,
      "outputs": [
        {
          "output_type": "execute_result",
          "data": {
            "text/plain": [
              "dict_keys(['Jane', 'Olga', 'Paul', 'Ivan', 'Anne'])"
            ]
          },
          "metadata": {
            "tags": []
          },
          "execution_count": 44
        }
      ]
    },
    {
      "cell_type": "code",
      "metadata": {
        "id": "lOiQ2FSJQeo2",
        "outputId": "58631e3b-a0ee-40f6-f9e3-05bbd323a31e",
        "colab": {
          "base_uri": "https://localhost:8080/",
          "height": 34
        }
      },
      "source": [
        "d.items() # возвращает пары (ключ, значение)"
      ],
      "execution_count": null,
      "outputs": [
        {
          "output_type": "execute_result",
          "data": {
            "text/plain": [
              "dict_items([('Jane', 'London'), ('Olga', 'Moscow'), ('Paul', 'Paris'), ('Ivan', 'Minsk'), ('Anne', 'Copenhagen')])"
            ]
          },
          "metadata": {
            "tags": []
          },
          "execution_count": 103
        }
      ]
    },
    {
      "cell_type": "code",
      "metadata": {
        "id": "WiY3C4j1Qmr6",
        "outputId": "05ba627e-d628-4e64-a482-79738691baa9",
        "colab": {
          "base_uri": "https://localhost:8080/",
          "height": 136
        }
      },
      "source": [
        "new_dict = {\"Alexander\":\"Bonn\", \"Julia\":\"Madrid\"}\n",
        "d.update(new_dict) # обновляет словарь, добавляя пары (ключ, значение) из other. Существующие ключи перезаписываются. Возвращает None (не новый словарь!)\n",
        "d"
      ],
      "execution_count": 21,
      "outputs": [
        {
          "output_type": "execute_result",
          "data": {
            "text/plain": [
              "{'Alexander': 'Bonn',\n",
              " 'Anne': 'Copenhagen',\n",
              " 'Ivan': 'Minsk',\n",
              " 'Jane': 'London',\n",
              " 'Julia': 'Madrid',\n",
              " 'Olga': 'Moscow',\n",
              " 'Paul': 'Paris'}"
            ]
          },
          "metadata": {
            "tags": []
          },
          "execution_count": 21
        }
      ]
    },
    {
      "cell_type": "code",
      "metadata": {
        "id": "HyWNwlktQ2W7",
        "outputId": "cab6d79e-01e4-4eae-b66d-582da096f0e4",
        "colab": {
          "base_uri": "https://localhost:8080/",
          "height": 119
        }
      },
      "source": [
        "d.pop(\"Julia\") # удаляет ключ и возвращает значение. Если ключа нет, возвращает default (по умолчанию бросает исключение).\n",
        "d"
      ],
      "execution_count": null,
      "outputs": [
        {
          "output_type": "execute_result",
          "data": {
            "text/plain": [
              "{'Alexander': 'Bonn',\n",
              " 'Anne': 'Copenhagen',\n",
              " 'Ivan': 'Minsk',\n",
              " 'Jane': 'London',\n",
              " 'Olga': 'Moscow',\n",
              " 'Paul': 'Paris'}"
            ]
          },
          "metadata": {
            "tags": []
          },
          "execution_count": 187
        }
      ]
    },
    {
      "cell_type": "code",
      "metadata": {
        "id": "CAdxOh82R04X",
        "outputId": "3cc299d6-250f-4cbd-ced9-b4cc7cd928d0",
        "colab": {
          "base_uri": "https://localhost:8080/",
          "height": 34
        }
      },
      "source": [
        "d.popitem() # удаляет и возвращает пару (ключ, значение)"
      ],
      "execution_count": null,
      "outputs": [
        {
          "output_type": "execute_result",
          "data": {
            "text/plain": [
              "('Anne', 'Copenhagen')"
            ]
          },
          "metadata": {
            "tags": []
          },
          "execution_count": 191
        }
      ]
    },
    {
      "cell_type": "code",
      "metadata": {
        "id": "QytfsewlSNWQ",
        "outputId": "15c8e33e-a28b-493b-c876-b8eb3f828696",
        "colab": {
          "base_uri": "https://localhost:8080/",
          "height": 34
        }
      },
      "source": [
        "d.get(\"Jane\") #выдает значение по ключу, ключ в скобках"
      ],
      "execution_count": null,
      "outputs": [
        {
          "output_type": "execute_result",
          "data": {
            "text/plain": [
              "'London'"
            ]
          },
          "metadata": {
            "tags": []
          },
          "execution_count": 107
        }
      ]
    },
    {
      "cell_type": "code",
      "metadata": {
        "id": "ycZAODtf5RK3",
        "outputId": "9b175d57-f6c6-4c59-987d-c98b537a1ea1",
        "colab": {
          "base_uri": "https://localhost:8080/",
          "height": 136
        }
      },
      "source": [
        "! python3"
      ],
      "execution_count": null,
      "outputs": [
        {
          "output_type": "stream",
          "text": [
            "Python 3.6.8 (default, Oct  7 2019, 12:59:55) \n",
            "[GCC 8.3.0] on linux\n",
            "Type \"help\", \"copyright\", \"credits\" or \"license\" for more information.\n",
            ">>> \n",
            "\n",
            "KeyboardInterrupt\n",
            ">>> ^C\n"
          ],
          "name": "stdout"
        }
      ]
    },
    {
      "cell_type": "code",
      "metadata": {
        "id": "9m-epn1EMXDl",
        "outputId": "1fe0e439-47b0-4b43-ac05-7fca39965330",
        "colab": {
          "base_uri": "https://localhost:8080/",
          "height": 34
        }
      },
      "source": [
        "d.clear() # очищает словарь\n",
        "d"
      ],
      "execution_count": null,
      "outputs": [
        {
          "output_type": "execute_result",
          "data": {
            "text/plain": [
              "{}"
            ]
          },
          "metadata": {
            "tags": []
          },
          "execution_count": 197
        }
      ]
    },
    {
      "cell_type": "markdown",
      "metadata": {
        "id": "1euc6k4zMf7z"
      },
      "source": [
        "**C кортежами, списками, словарями и множествами можно использовать циклы for и while**"
      ]
    },
    {
      "cell_type": "markdown",
      "metadata": {
        "id": "Sl2iWnGs23DL"
      },
      "source": [
        "###classwork\n",
        "\n",
        "\n",
        "Определяем лучшего писателя отзывов. \n",
        "У вас есть четрые отзыва на фильм С.Кубрика \"Сияние\". Вам нужно определить, кто из авторов отзывов обладает наиболее развитым лексиконом ( таковым считаем самый длинный набор неповторяющихся слов в пределах одного отзыва). \n",
        "    для определения вам нужно: \n",
        "\n",
        "    1. Предобработать строку (см методы строк), сведя все к нижнему регистру, убрать пунктуацию.\n",
        "\n",
        "    2. Превратить строку в список \n",
        "    3. определить уникальные элементы в списке (надо что-то сделать со списком)\n",
        "    4. определить размер уникальных слов в пределах автора\n",
        "    5. определить наилучшего\n",
        "\n"
      ]
    },
    {
      "cell_type": "code",
      "metadata": {
        "id": "oUrn5ETheoAg",
        "outputId": "5ea9de1c-66fe-4e2a-f063-5aa1594441d2",
        "colab": {
          "base_uri": "https://localhost:8080/",
          "height": 190
        }
      },
      "source": [
        "paul = paul.lower()\n",
        "punctuation = \"!@#$%^&*()_+<>?:.,;\\\\\\\"\\'\\n\"  \n",
        "for c in paul:\n",
        "    if c in punctuation:\n",
        "        paul = paul.replace(c, \"\")\n",
        "print(paul)\n",
        "list_paul = paul.split()\n",
        "set_paul = set(list_paul)\n",
        "len_paul = len(set_paul)\n",
        "print(len_paul)\n",
        "\n",
        "jane = jane.lower()\n",
        "punctuation = \"!@#$%^&*()_+<>?:.,;\\\\\\\"\\'\\n\"  \n",
        "for c in jane:\n",
        "    if c in punctuation:\n",
        "        jane = jane.replace(c, \"\")\n",
        "print(jane)\n",
        "list_jane = jane.split()\n",
        "set_jane = set(list_jane)\n",
        "len_jane = len(set_jane)\n",
        "print(len_jane)\n",
        "\n",
        "kate = kate.lower()\n",
        "punctuation = \"!@#$%^&*()_+<>?:.,;\\\\\\\"\\'\\n\"  \n",
        "for c in kate:\n",
        "    if c in punctuation:\n",
        "        kate = kate.replace(c, \"\")\n",
        "print(kate)\n",
        "list_kate = kate.split()\n",
        "set_kate = set(list_kate)\n",
        "len_kate = len(set_kate)\n",
        "print(len_kate)\n",
        "\n",
        "nick = nick.lower()\n",
        "punctuation = \"!@#$%^&*()_+<>?:.,;\\\\\\\"\\'\\n\"  \n",
        "for c in nick:\n",
        "    if c in punctuation:\n",
        "        nick = nick.replace(c, \"\")\n",
        "print(nick)\n",
        "list_nick = nick.split()\n",
        "set_nick = set(list_nick)\n",
        "len_nick = len(set_nick)\n",
        "print(len_nick)\n",
        "\n",
        "dict_names = {len_paul: \"paul\", len_jane: \"jane\", len_kate: \"kate\", len_nick: \"nick\"}\n",
        "list_names = [len_paul, len_jane, len_kate, len_nick]\n",
        "list_names.sort()\n",
        "winner = dict_names.get(list_names[-1])\n",
        "print(winner)"
      ],
      "execution_count": 46,
      "outputs": [
        {
          "output_type": "stream",
          "text": [
            "when this film first came out in 1980 i remember going to see it on opening night this movie just scared the life out of me which is what still happens every timei rent the video for a re-watchi have seen the shining at least six or seven times and i stillbelieve it to be simultaneously and paradoxically one of the most frightening and yet funniestfilms ive ever seen frightening because of the extraordinarily effective use of long shotsto create feelings of isolation convex lens shots to enhance surrealism and meticulously scoredmusic to bring tension levels to virtually unbearable levels and funny because of jacknicholsons outrageous and in many cases ad-libbed onscreen antics it never ceases to amaze mehow the shining is actually two films in one both a comedy and a horror flick ghostly apparitions of a strikingly menacing nature haunt much of the first half of the film whichgradually evolve into ever more serious physical threats as time progresses be that as it maythere is surprisingly little violence given the apparent intensity but that is little comfort for the feint of heart as much of the terror is more implied than manifest the shining is a trulyfrightening movie that works symbolically on many levels but is basically  about human shortcomings and the way they can be exploited by unconscious forces combined with weaknessof will this film scares the most just by using suggestion to turn your own imagination againstyou the shining is a brilliant cinematic masterpiece the likes of which have never been seenbefore or since highly highly recommended\n",
            "166\n",
            "chilling majestic piece of cinematic fright this film combines all the great elementsof an intellectual thriller with the grand vision of a director who has the instinctual capacity to pace amoody horror flick within the realm of his filmmaking genius that includes an eye for the original shot an ice-cold soundtrack and an overall sense of dehumanization this movie cuts through all the typical horrormovies like a red-poker through a human eye as it allows the viewer to not only feel the violence and psychosis ofits protagonist but appreciate the seed from which the derangement stems one of the scariest things for peopleto face is the unknown and this film presents its plotting with just that thought in mind the setting is perfectin a desolate winter hideaway the quietness of the moment is a character in itself as the fermenting aggressorin jack torrances mind wallows in this idle time and breeds the devils new playground i always felt like thepresence of evil was dormant in all of our minds with only the circumstances of the moment and the reasons giventherein needed to wake its violent ass and pounce over its unsuspecting victims this film is a perfect example of this very thought\n",
            "130\n",
            "what can i say about the scariest movie i have ever seen that has not already been said by others morearticulate than yours truly do not view this film expecting to see a screen version of the stephen king novelrather this is a stanley kubrick film and to fully appreciate it one should judge it within the context ofkubricks entire body of work as a serious filmmaker thematically the shining relates most closely to 2001a space odyssey though flourishes of paths of glory a clockwork orange and barry lyndon do manage tofigure prominently in the films overall technique in a nutshell no pun intended jack nicholson and shellyduvall co-star with oregons timberline lodge - enlisted to portray the exterior of the overlook hotel - in astory that appears on the surface to be about ghosts and insanity but deals with issues of child abuse immortality and duality what the film might lack initially in terms of coherence is more than made up for intechnique garrett brown the male voice in those old molson golden commercials inventor of the steadicamchases young danny lloyd through hotel corridors and an amazing snow maze providing magic-carpet-ride fluidityto scenes that ten years earlier would have been impossible to accomplish if the film starts off too slowremember who the director is this man likes to take his time and the results are well worth it incredibleaerial shots of the overlook hotel horrific diane arbus-inspired twins staring directly at us portentous room 237and its treasure trove of terrible secrets elevators that gush rivers of blood in slow-motion jack torrancesimmortality found via the hotel akin to david bowmans journey through the space gate and some of the best useof pre-existing music ever assembled for a motion picture\n",
            "206\n",
            "i was never a big fan of horror movies they usually try cheap tricks to scare their audiences like loudnoises and creepy children they usually lack originality and contain overacting galore the only horror movie ilike was stir of echoes with kevin bacon it was well-acted and had a great story but it has been joined andmaybe even surpassed by stanley kubricks the shining quite possibly the scariest movie ever the movie followsa writer jack nicholson and his family who agree to watch over a hotel while it is closed for the winterthere were rumors of the place being haunted and the last resident went crazy and murdered his family but jack isconvinced it will be ok and he can use the quiet to overcome his writers block after months of solitude andsilence however jack becomes a grumpy and later violent is it cabin fever or is there something in the hotelthat is driving him mad one of the creepiest parts about the movie is the feeling of isolation that kubrick makesthe hotel is very silent and the rooms are huge yet always empty it is also eerily calm when jacks sonis riding his bike through the barren hallways jack nicholsons performance is also one of his very best scaringthe hell out of me and making me sure to get out once in awhile my favorite scene is when he is talking to a ghostfrom inside a walk-in refrigerator the shining is tops for horror movies in my opinion beating the snot outof crap like the ring and the blair witch project it may be a oldie but is definitely a goodie\n",
            "175\n",
            "kate\n"
          ],
          "name": "stdout"
        }
      ]
    },
    {
      "cell_type": "code",
      "metadata": {
        "id": "j5Nv1se228QQ"
      },
      "source": [
        "paul = \"\"\"When this film first came out in 1980, I remember going to see it on opening night. \n",
        "This movie just scared the life out of me, which is what still happens every time\n",
        "I rent the video for a re-watch.I have seen The Shining at least six or seven times, and I still\n",
        "believe it to be simultaneously and paradoxically one of the most frightening and yet funniest\n",
        "films I've ever seen. Frightening because of the extraordinarily effective use of long shots\n",
        "to create feelings of isolation, convex lens shots to enhance surrealism, and meticulously scored\n",
        "music to bring tension levels to virtually unbearable levels. And \\\"funny\\\" because of Jack\n",
        "Nicholson's outrageous and in many cases ad-libbed onscreen antics. It never ceases to amaze me\n",
        "how The Shining is actually two films in one, both a comedy AND a horror flick. Ghostly \n",
        "apparitions of a strikingly menacing nature haunt much of the first half of the film, which\n",
        "gradually evolve into ever more serious physical threats as time progresses. Be that as it may,\n",
        "there is surprisingly little violence given the apparent intensity, but that is little comfort \n",
        "for the feint of heart as much of the terror is more implied than manifest. The Shining is a truly\n",
        "frightening movie that works symbolically on many levels, but is basically  about human \n",
        "shortcomings and the way they can be exploited by unconscious forces combined with weakness\n",
        "of will. This film scares the most just by using suggestion to turn your own imagination against\n",
        "you. The Shining is a brilliant cinematic masterpiece, the likes of which have never been seen\n",
        "before or since. Highly, highly recommended.\"\"\"\n",
        "\n",
        "jane = \"\"\"Chilling, majestic piece of cinematic fright, this film combines all the great elements\n",
        "of an intellectual thriller, with the grand vision of a director who has the instinctual capacity to pace a\n",
        "moody horror flick within the realm of his filmmaking genius that includes an eye for the original shot, \n",
        "an ice-cold soundtrack and an overall sense of dehumanization. This movie cuts through all the typical horror\n",
        "movies like a red-poker through a human eye, as it allows the viewer to not only feel the violence and psychosis of\n",
        "its protagonist, but appreciate the seed from which the derangement stems. One of the scariest things for people\n",
        "to face is the unknown and this film presents its plotting with just that thought in mind. The setting is perfect,\n",
        "in a desolate winter hideaway. The quietness of the moment is a character in itself, as the fermenting aggressor\n",
        "in Jack Torrance's mind wallows in this idle time, and breeds the devil's new playground. I always felt like the\n",
        "presence of evil was dormant in all of our minds, with only the circumstances of the moment, and the reasons given\n",
        "therein, needed to wake its violent ass and pounce over its unsuspecting victims. This film is a perfect example \n",
        "of this very thought.\"\"\"\n",
        "\n",
        "kate = \"\"\"What can I say about the scariest movie I have ever seen that has not already been said by others more\n",
        "articulate than yours truly? Do not view this film expecting to see a screen version of the Stephen King novel.\n",
        "Rather, this is a Stanley Kubrick film, and to fully appreciate it one should judge it within the context of\n",
        "Kubrick's entire body of work as a serious filmmaker. Thematically, THE SHINING relates most closely to 2001:\n",
        "A SPACE ODYSSEY, though flourishes of PATHS OF GLORY, A CLOCKWORK ORANGE and BARRY LYNDON do manage to\n",
        "figure prominently in the film's overall technique. In a nutshell (no pun intended), Jack Nicholson and Shelly\n",
        "Duvall co-star with Oregon's Timberline Lodge - enlisted to portray the exterior of the Overlook Hotel - in a\n",
        "story that appears on the surface to be about ghosts and insanity, but deals with issues of child abuse, \n",
        "immortality and duality. What the film might lack initially in terms of coherence is more than made up for in\n",
        "technique. Garrett Brown (the male voice in those old Molson Golden commercials), inventor of the Steadicam,\n",
        "chases young Danny Lloyd through hotel corridors and an amazing snow maze, providing magic-carpet-ride fluidity\n",
        "to scenes that ten years earlier would have been impossible to accomplish. If the film starts off too slow,\n",
        "remember who the director is. This man likes to take his time, and the results are well worth it: incredible\n",
        "aerial shots of the Overlook Hotel; horrific Diane Arbus-inspired twins staring directly at us; portentous room 237\n",
        "and its treasure trove of terrible secrets; elevators that gush rivers of blood in slow-motion; Jack Torrance's\n",
        "immortality found via the hotel (akin to David Bowman's journey through the Space Gate); and some of the best use\n",
        "of pre-existing music ever assembled for a motion picture.\"\"\"\n",
        "\n",
        "\n",
        "nick = \"\"\"I was never a big fan of horror movies. They usually try cheap tricks to scare their audiences like loud\n",
        "noises and creepy children. They usually lack originality and contain overacting galore. The only horror movie i\n",
        "like was Stir of Echoes with Kevin Bacon. It was well-acted, and had a great story. But it has been joined and\n",
        "maybe even surpassed by Stanley Kubrick's The Shining, quite possibly the scariest movie ever. The movie follows\n",
        "a writer (Jack Nicholson) and his family who agree to watch over a hotel while it is closed for the winter.\n",
        "There were rumors of the place being haunted and the last resident went crazy and murdered his family. But Jack is\n",
        "convinced it will be OK and he can use the quiet to overcome his writer's block. After months of solitude and\n",
        "silence however, Jack becomes a grumpy and later violent. Is it cabin fever or is there something in the hotel\n",
        "that is driving him mad? One of the creepiest parts about the movie is the feeling of isolation that Kubrick makes.\n",
        "The hotel is very silent, and the rooms are huge, yet always empty. It is also eerily calm when Jack's son\n",
        "is riding his bike through the barren hallways. Jack Nicholson's performance is also one of his very best, scaring\n",
        "the hell out of me and making me sure to get out once in awhile. My favorite scene is when he is talking to a ghost\n",
        "from inside a walk-in refrigerator. The Shining is tops for horror movies in my opinion, beating the snot out\n",
        "of crap like the Ring and The Blair Witch Project. It may be a oldie, but is definitely a goodie.\"\"\""
      ],
      "execution_count": 24,
      "outputs": []
    },
    {
      "cell_type": "markdown",
      "metadata": {
        "id": "hAgT52fP26V2"
      },
      "source": [
        "##homework"
      ]
    },
    {
      "cell_type": "markdown",
      "metadata": {
        "id": "cUiYXrAi3MMe"
      },
      "source": [
        "с помощью словаря создайте простой транслитератор: нужно, чтобы программа принимала с клавиатуры (у нас есть специальный оператор ввода с клавиатуры) слова, записанные кириллицей, и печатала результат латиницей. \n",
        "\n",
        "Пример: *собака >> sobaka*"
      ]
    },
    {
      "cell_type": "code",
      "metadata": {
        "id": "rMLAHbTHUmqz"
      },
      "source": [
        ""
      ],
      "execution_count": null,
      "outputs": []
    }
  ]
}