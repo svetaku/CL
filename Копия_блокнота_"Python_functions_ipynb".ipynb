{
  "nbformat": 4,
  "nbformat_minor": 0,
  "metadata": {
    "colab": {
      "name": "Копия блокнота \"Python functions.ipynb\"",
      "provenance": [],
      "collapsed_sections": [],
      "include_colab_link": true
    },
    "kernelspec": {
      "display_name": "Python 3",
      "language": "python",
      "name": "python3"
    },
    "language_info": {
      "codemirror_mode": {
        "name": "ipython",
        "version": 3
      },
      "file_extension": ".py",
      "mimetype": "text/x-python",
      "name": "python",
      "nbconvert_exporter": "python",
      "pygments_lexer": "ipython3",
      "version": "3.8.2"
    }
  },
  "cells": [
    {
      "cell_type": "markdown",
      "metadata": {
        "id": "view-in-github",
        "colab_type": "text"
      },
      "source": [
        "<a href=\"https://colab.research.google.com/github/svetaku/CL/blob/homework/%D0%9A%D0%BE%D0%BF%D0%B8%D1%8F_%D0%B1%D0%BB%D0%BE%D0%BA%D0%BD%D0%BE%D1%82%D0%B0_%22Python_functions_ipynb%22.ipynb\" target=\"_parent\"><img src=\"https://colab.research.google.com/assets/colab-badge.svg\" alt=\"Open In Colab\"/></a>"
      ]
    },
    {
      "cell_type": "markdown",
      "metadata": {
        "id": "KwV1Pc4a7nxB"
      },
      "source": [
        "## как удобнее работать со строками: модуль string"
      ]
    },
    {
      "cell_type": "code",
      "metadata": {
        "id": "jHNdzedVeJlG",
        "colab": {
          "base_uri": "https://localhost:8080/"
        },
        "outputId": "991ea5be-1c73-4d79-9db1-a3a41830045d"
      },
      "source": [
        "import string\n",
        "\n",
        "my_text = \"введите любую фразу, и побольше пунктуации! \"\n",
        "my_text = my_text.translate(str.maketrans('','',string.punctuation))\n",
        "print(my_text)"
      ],
      "execution_count": null,
      "outputs": [
        {
          "output_type": "stream",
          "text": [
            "введите любую фразу и побольше пунктуации \n"
          ],
          "name": "stdout"
        }
      ]
    },
    {
      "cell_type": "markdown",
      "metadata": {
        "id": "Ij5Wc_UG7s7-"
      },
      "source": [
        ""
      ]
    },
    {
      "cell_type": "markdown",
      "metadata": {
        "id": "Yhw8-87X8s-J"
      },
      "source": [
        "## генераторы"
      ]
    },
    {
      "cell_type": "markdown",
      "metadata": {
        "id": "LOYUfNvgLoWa"
      },
      "source": [
        "**вспомним из предыдущих занятий:** когда мы создаём список, мы можем брать его элементы один за другим — это называется *итерацией*:"
      ]
    },
    {
      "cell_type": "code",
      "metadata": {
        "id": "W2vnkjMhMAXy",
        "colab": {
          "base_uri": "https://localhost:8080/",
          "height": 68
        },
        "outputId": "d37031b0-0c17-4139-997c-29bacb8859bc"
      },
      "source": [
        "test1 = [1, 2, 3]\n",
        "for i in test1 :\n",
        "    print(i)\n"
      ],
      "execution_count": null,
      "outputs": [
        {
          "output_type": "stream",
          "text": [
            "1\n",
            "2\n",
            "3\n"
          ],
          "name": "stdout"
        }
      ]
    },
    {
      "cell_type": "markdown",
      "metadata": {
        "id": "DULLPnQsOdzE"
      },
      "source": [
        "это же можно сделать, создав генератор функцией ```range()```: \n",
        "\n",
        "    у функции три аргумента: (начало,конец,шаг), конечный элемент не включается. \n",
        "    \n",
        "    Сейчас мы записали без шага, поэтому он по дефолту =1. "
      ]
    },
    {
      "cell_type": "code",
      "metadata": {
        "id": "rZSDKVCcOiua",
        "colab": {
          "base_uri": "https://localhost:8080/",
          "height": 85
        },
        "outputId": "0a44a4fe-2cd4-4484-c02c-b94bb8cf04ee"
      },
      "source": [
        "test2 = range(1,4) \n",
        "for i in test2 :\n",
        "    print(i)\n",
        "type(test2)\n"
      ],
      "execution_count": null,
      "outputs": [
        {
          "output_type": "stream",
          "text": [
            "1\n",
            "2\n",
            "3\n"
          ],
          "name": "stdout"
        },
        {
          "output_type": "execute_result",
          "data": {
            "text/plain": [
              "range"
            ]
          },
          "metadata": {
            "tags": []
          },
          "execution_count": 3
        }
      ]
    },
    {
      "cell_type": "code",
      "metadata": {
        "id": "5cDhW-64PyGw",
        "colab": {
          "base_uri": "https://localhost:8080/",
          "height": 119
        },
        "outputId": "b797b124-222c-4e76-8640-eaa14b363750"
      },
      "source": [
        "# давайте зададим шаг\n",
        "\n",
        "test3 = range (1,10,2) # от 1 до 10 с шагом в 2\n",
        "for i in test3 :\n",
        "    print(i)\n",
        "type(test3)"
      ],
      "execution_count": null,
      "outputs": [
        {
          "output_type": "stream",
          "text": [
            "1\n",
            "3\n",
            "5\n",
            "7\n",
            "9\n"
          ],
          "name": "stdout"
        },
        {
          "output_type": "execute_result",
          "data": {
            "text/plain": [
              "range"
            ]
          },
          "metadata": {
            "tags": []
          },
          "execution_count": 4
        }
      ]
    },
    {
      "cell_type": "markdown",
      "metadata": {
        "id": "g5WIfV1babNL"
      },
      "source": [
        "Заметим, что в предыдущих ячейках переменные test2  и test3 не были листами, в отличие от test1\n",
        "\n",
        "тип объектов test2 и test3 - это генератор.\n",
        "\n",
        "Но мы можем превратить генератор в нужный тип: лист, множество или (даже!) строку"
      ]
    },
    {
      "cell_type": "code",
      "metadata": {
        "id": "el_UbysU8vCb",
        "colab": {
          "base_uri": "https://localhost:8080/"
        },
        "outputId": "d3cac780-76bf-4831-d558-537e7ce59b7c"
      },
      "source": [
        "new1 = range(0,20,5) # от нуля до 20 с шагом 5\n",
        "for i in new1:\n",
        "    print(i)\n",
        "\n",
        "print(\"сначала new1 - это\",type(new1)) # проверяем тип\n",
        "\n",
        "new1 = list(new1) # превращаем в лист\n",
        "print(\"теперь new1 - это\",type(new1), new1) # проверяем тип\n",
        "\n",
        "# еще в лист можно так:\n",
        "#test2 = [test2] # можно раскомментить эту строку\n",
        "\n",
        "# превратим во множество\n",
        "new1 = set(new1)\n",
        "print(\"затем new1 - это\",type(new1), new1) # проверяем тип\n",
        "\n",
        "# еще во множество можно так:\n",
        "#test2 = {test2} # можно раскомментить эту строку\n",
        "\n",
        "\n",
        "# превратим в строку\n",
        "new1 = str(new1)#.strip(\"}{\") \n",
        "print(\"в итоге new1 - это\",type(new1), new1) # проверяем тип\n",
        "# new1[0]"
      ],
      "execution_count": null,
      "outputs": [
        {
          "output_type": "stream",
          "text": [
            "0\n",
            "5\n",
            "10\n",
            "15\n",
            "сначала new1 - это <class 'range'>\n",
            "теперь new1 - это <class 'list'> [0, 5, 10, 15]\n",
            "затем new1 - это <class 'set'> {0, 10, 5, 15}\n",
            "в итоге new1 - это <class 'str'> {0, 10, 5, 15}\n"
          ],
          "name": "stdout"
        }
      ]
    },
    {
      "cell_type": "markdown",
      "metadata": {
        "id": "VZDhMUO87aGE"
      },
      "source": [
        "\n",
        "обратите внимание, что превратив множество в строку, мы также добавили в строку символы { и } в начале и в конце.\n",
        "Если хотите чистую строку из элементов-цифр, \n",
        "добавьте метод .strip() передав ему символы фигурных скобок в качестве аргумента в скобках\n",
        "(можно раскомментить мой кусочек кода в строке 22)"
      ]
    },
    {
      "cell_type": "code",
      "metadata": {
        "id": "sC20y9iaB11n",
        "colab": {
          "base_uri": "https://localhost:8080/",
          "height": 85
        },
        "outputId": "fa8f110a-28fe-4991-c8a4-569e2710ed5f"
      },
      "source": [
        "# классический способ использовать генератор\n",
        "for i in range(100): #чтобы не писать 100 значений вручную\n",
        "    if i%30 == 0:\n",
        "        print (i, \"делится на 30 без остатка\")"
      ],
      "execution_count": null,
      "outputs": [
        {
          "output_type": "stream",
          "text": [
            "0 делится на 30 без остатка\n",
            "30 делится на 30 без остатка\n",
            "60 делится на 30 без остатка\n",
            "90 делится на 30 без остатка\n"
          ],
          "name": "stdout"
        }
      ]
    },
    {
      "cell_type": "code",
      "metadata": {
        "id": "NgBAUfDRjlh8",
        "colab": {
          "base_uri": "https://localhost:8080/",
          "height": 34
        },
        "outputId": "ee80ad4b-394a-4155-b5bf-03fe091cf3f8"
      },
      "source": [
        "# генератор паролей\n",
        "\n",
        "import random\n",
        "passw = '' # предварительно создаем переменную для пароля, с типом \"строка\"\n",
        "\n",
        "#пусть в ней будет 12 символов: цифры и латинские буквы двух регистров\n",
        "\n",
        "for x in range(12): \n",
        "    passw = passw + random.choice('123456789qwertyuiopasdfghjklzxcvbnmQWERTYUIOPASDFGHJKLZXCVBNM')\n",
        "    # на каждом из 12 шагов выбираем рандомный символ из списка с букво-цифрами и добавляем в строку\n",
        "print(passw)\n",
        "\n",
        "# запустите ячейку несклько раз: пароли меняются"
      ],
      "execution_count": null,
      "outputs": [
        {
          "output_type": "stream",
          "text": [
            "91tYnXFAEbXB\n"
          ],
          "name": "stdout"
        }
      ]
    },
    {
      "cell_type": "markdown",
      "metadata": {
        "id": "5C1viYNBKBxc"
      },
      "source": [
        "**подводя итог:**\n",
        "\n",
        "генераторы обычно используются, когда:\n",
        "* нужно создать объект из большого количества элементов (чтобы не задавать их вручную)\n",
        "* надо единожды пройтись по итерируемому объекту\n",
        "\n",
        "их особое свойство: они сохраняют свое состояние между итерациями, но по ним можно итерироваться всего один раз\n",
        "\n",
        "    хранят только предыдущий элемент, предел и формулу, по которой вычисляется следующий элемент\n",
        "\n",
        "(подробнее о генераторах можно почитать [здесь](https://realpython.com/introduction-to-python-generators/). [И здесь](https://www.geeksforgeeks.org/use-yield-keyword-instead-return-keyword-python/))\n"
      ]
    },
    {
      "cell_type": "markdown",
      "metadata": {
        "id": "wbFFjClk8waN"
      },
      "source": [
        "##Функции\n",
        "\n",
        "\n",
        "Мы с вами написали много небольших программ. А что если вам нужно будет использовать эти программы снова и снова? Например, вы написали код, который хорошо обрабатывает и токенизирует текст. И у вас 1000 текстов, которые нужно обработать. А через месяц приедет еще 1500.\n",
        "\n",
        "    Писать строки кода снова?\n",
        "\n",
        "\n",
        "<img data-image-id=\"1*ZUSN2Xhq7MsEMjCvNOy-Zw.jpeg\" data-width=\"640\" data-height=\"480\" src=\"https://hackernoon.com/hn-images/1*ZUSN2Xhq7MsEMjCvNOy-Zw.jpeg\">\n"
      ]
    },
    {
      "cell_type": "markdown",
      "metadata": {
        "id": "6kMhXS8lKSam"
      },
      "source": [
        "нас спасут функции! \n",
        "\n",
        "Функция в python - это такой объект, который что-то принимает (иногда выполняет какое-то действие) и что-то возвращает.\n",
        "\n",
        "То, что принимает, называется *аргументом* и записывается в скобках. Аргументов может быть больше одного. \n",
        "\n",
        "То, что функция возвращает, называется *значением*.\n",
        "\n",
        "\n",
        "Обычно функция определяется с помощью инструкции ```def```, еще нужны скобки и двоеточие\n",
        "\n",
        "Давайте создадим самую простую функцию:"
      ]
    },
    {
      "cell_type": "code",
      "metadata": {
        "id": "L2cPPSNm8xaw"
      },
      "source": [
        "def hello():\n",
        "    print (\"hello =^_^=\")\n",
        "#return None"
      ],
      "execution_count": null,
      "outputs": []
    },
    {
      "cell_type": "markdown",
      "metadata": {
        "id": "Mmb32yasZdzX"
      },
      "source": [
        "Функция может и не заканчиваться инструкцией return, при этом функция вернет значение None:"
      ]
    },
    {
      "cell_type": "code",
      "metadata": {
        "id": "nOu2GAWXN9b1",
        "colab": {
          "base_uri": "https://localhost:8080/",
          "height": 34
        },
        "outputId": "9982f7b3-141d-47c7-93c2-c3b0c6e79e93"
      },
      "source": [
        "hello() # чтобы функция отработала, ее надо вызвать"
      ],
      "execution_count": null,
      "outputs": [
        {
          "output_type": "stream",
          "text": [
            "hello =^_^=\n"
          ],
          "name": "stdout"
        }
      ]
    },
    {
      "cell_type": "code",
      "metadata": {
        "id": "4bNVEzUnOFPZ"
      },
      "source": [
        "#  усложним функцию\n",
        "\n",
        "\n",
        "def personal_hello():\n",
        "    name = input(\"Как Вас зовут?\")\n",
        "    print (\"Добрый день,\", name)\n"
      ],
      "execution_count": null,
      "outputs": []
    },
    {
      "cell_type": "code",
      "metadata": {
        "id": "hrzq20zGOxX9",
        "colab": {
          "base_uri": "https://localhost:8080/"
        },
        "outputId": "988e05cf-b242-46b9-c037-9af883c6fbb9"
      },
      "source": [
        "personal_hello()"
      ],
      "execution_count": null,
      "outputs": [
        {
          "output_type": "stream",
          "text": [
            "Как Вас зовут?Светла\n",
            "Добрый день, Светла\n"
          ],
          "name": "stdout"
        }
      ]
    },
    {
      "cell_type": "code",
      "metadata": {
        "id": "3nt1yPVfOz6E"
      },
      "source": [
        "# функция с возвратом значения\n",
        "\n",
        "def add(x,y):\n",
        "    return x+y"
      ],
      "execution_count": null,
      "outputs": []
    },
    {
      "cell_type": "code",
      "metadata": {
        "id": "Mi1_v9yKPNHu",
        "colab": {
          "base_uri": "https://localhost:8080/"
        },
        "outputId": "349d83ab-e6ac-4c00-8d5f-dcb60f3120cd"
      },
      "source": [
        "add(50,5) # вызвали функцию, передав значения аргументов в скобках"
      ],
      "execution_count": null,
      "outputs": [
        {
          "output_type": "execute_result",
          "data": {
            "text/plain": [
              "55"
            ]
          },
          "metadata": {
            "tags": []
          },
          "execution_count": 6
        }
      ]
    },
    {
      "cell_type": "code",
      "metadata": {
        "id": "KMjHqxSePUnZ",
        "colab": {
          "base_uri": "https://localhost:8080/",
          "height": 35
        },
        "outputId": "abbd5c0b-98e6-44a6-e5c0-76cc53468a1d"
      },
      "source": [
        "add (\"давайте попробуем\",\" строки тоже\")"
      ],
      "execution_count": null,
      "outputs": [
        {
          "output_type": "execute_result",
          "data": {
            "application/vnd.google.colaboratory.intrinsic+json": {
              "type": "string"
            },
            "text/plain": [
              "'давайте попробуем строки тоже'"
            ]
          },
          "metadata": {
            "tags": []
          },
          "execution_count": 7
        }
      ]
    },
    {
      "cell_type": "code",
      "metadata": {
        "id": "6q3wiVTAPgzW",
        "colab": {
          "base_uri": "https://localhost:8080/",
          "height": 35
        },
        "outputId": "713f1c34-5fc1-4d3a-f803-aeb1861d97f2"
      },
      "source": [
        "add (\"5\",\"а так\")"
      ],
      "execution_count": null,
      "outputs": [
        {
          "output_type": "execute_result",
          "data": {
            "application/vnd.google.colaboratory.intrinsic+json": {
              "type": "string"
            },
            "text/plain": [
              "'5а так'"
            ]
          },
          "metadata": {
            "tags": []
          },
          "execution_count": 9
        }
      ]
    },
    {
      "cell_type": "code",
      "metadata": {
        "id": "fSJDQqkYPkGe",
        "colab": {
          "base_uri": "https://localhost:8080/"
        },
        "outputId": "9cb7d681-22b0-42dd-9ef8-9d9ccc50564f"
      },
      "source": [
        "add([5,7],[1,1]) #  списки тоже можно складывать, все получится"
      ],
      "execution_count": null,
      "outputs": [
        {
          "output_type": "execute_result",
          "data": {
            "text/plain": [
              "[5, 7, 1, 1]"
            ]
          },
          "metadata": {
            "tags": []
          },
          "execution_count": 10
        }
      ]
    },
    {
      "cell_type": "code",
      "metadata": {
        "id": "WyN9iWJ7P8QC",
        "colab": {
          "base_uri": "https://localhost:8080/"
        },
        "outputId": "93d12f46-214c-4d40-b0e1-b2b08ee8f3d6"
      },
      "source": [
        "add((1,3,5),(2,4,6)) # кортежи/таплы можно\n",
        "# type((1,3,5))"
      ],
      "execution_count": null,
      "outputs": [
        {
          "output_type": "execute_result",
          "data": {
            "text/plain": [
              "(1, 3, 5, 2, 4, 6)"
            ]
          },
          "metadata": {
            "tags": []
          },
          "execution_count": 11
        }
      ]
    },
    {
      "cell_type": "code",
      "metadata": {
        "id": "5rgPun4dPsj-",
        "colab": {
          "base_uri": "https://localhost:8080/",
          "height": 282
        },
        "outputId": "7fd25658-a971-44ee-9598-71f9bed39ceb"
      },
      "source": [
        "add({1,3,5},{2,4,6}) # а множества нельзя складывать так, как это делает add\n",
        "\n",
        "# а какой метод сработал бы со множествами?"
      ],
      "execution_count": null,
      "outputs": [
        {
          "output_type": "error",
          "ename": "TypeError",
          "evalue": "ignored",
          "traceback": [
            "\u001b[0;31m---------------------------------------------------------------------------\u001b[0m",
            "\u001b[0;31mTypeError\u001b[0m                                 Traceback (most recent call last)",
            "\u001b[0;32m<ipython-input-12-777696467b0a>\u001b[0m in \u001b[0;36m<module>\u001b[0;34m()\u001b[0m\n\u001b[0;32m----> 1\u001b[0;31m \u001b[0madd\u001b[0m\u001b[0;34m(\u001b[0m\u001b[0;34m{\u001b[0m\u001b[0;36m1\u001b[0m\u001b[0;34m,\u001b[0m\u001b[0;36m3\u001b[0m\u001b[0;34m,\u001b[0m\u001b[0;36m5\u001b[0m\u001b[0;34m}\u001b[0m\u001b[0;34m,\u001b[0m\u001b[0;34m{\u001b[0m\u001b[0;36m2\u001b[0m\u001b[0;34m,\u001b[0m\u001b[0;36m4\u001b[0m\u001b[0;34m,\u001b[0m\u001b[0;36m6\u001b[0m\u001b[0;34m}\u001b[0m\u001b[0;34m)\u001b[0m \u001b[0;31m# а множества нельзя складывать так, как это делает add\u001b[0m\u001b[0;34m\u001b[0m\u001b[0;34m\u001b[0m\u001b[0m\n\u001b[0m\u001b[1;32m      2\u001b[0m \u001b[0;34m\u001b[0m\u001b[0m\n\u001b[1;32m      3\u001b[0m \u001b[0;31m# а какой метод сработал бы со множествами?\u001b[0m\u001b[0;34m\u001b[0m\u001b[0;34m\u001b[0m\u001b[0;34m\u001b[0m\u001b[0m\n",
            "\u001b[0;32m<ipython-input-5-3899bdceb5ad>\u001b[0m in \u001b[0;36madd\u001b[0;34m(x, y)\u001b[0m\n\u001b[1;32m      2\u001b[0m \u001b[0;34m\u001b[0m\u001b[0m\n\u001b[1;32m      3\u001b[0m \u001b[0;32mdef\u001b[0m \u001b[0madd\u001b[0m\u001b[0;34m(\u001b[0m\u001b[0mx\u001b[0m\u001b[0;34m,\u001b[0m\u001b[0my\u001b[0m\u001b[0;34m)\u001b[0m\u001b[0;34m:\u001b[0m\u001b[0;34m\u001b[0m\u001b[0;34m\u001b[0m\u001b[0m\n\u001b[0;32m----> 4\u001b[0;31m     \u001b[0;32mreturn\u001b[0m \u001b[0mx\u001b[0m\u001b[0;34m+\u001b[0m\u001b[0my\u001b[0m\u001b[0;34m\u001b[0m\u001b[0;34m\u001b[0m\u001b[0m\n\u001b[0m",
            "\u001b[0;31mTypeError\u001b[0m: unsupported operand type(s) for +: 'set' and 'set'"
          ]
        }
      ]
    },
    {
      "cell_type": "code",
      "metadata": {
        "id": "I8xmwYnjP1G5"
      },
      "source": [
        "add({\"Jane\":27,\"Mary\":35},{\"Matthew\":30,\"Dennis\":20}) # и словари сложить не получится"
      ],
      "execution_count": null,
      "outputs": []
    },
    {
      "cell_type": "markdown",
      "metadata": {
        "id": "WOBaP70BQ1iF"
      },
      "source": [
        "Функция может быть любой сложности и возвращать любые объекты: от строк и чисел до списков, кортежей, множеств, словарей и даже других функций!"
      ]
    },
    {
      "cell_type": "code",
      "metadata": {
        "id": "HbIrUegGQj5M"
      },
      "source": [
        "def unique(x): # простая функция, выдающая уникальный набор элементов в объекте\n",
        "    x=set(x)\n",
        "    return x"
      ],
      "execution_count": null,
      "outputs": []
    },
    {
      "cell_type": "code",
      "metadata": {
        "id": "RO-7hY7dRlF3",
        "colab": {
          "base_uri": "https://localhost:8080/"
        },
        "outputId": "2bb3f500-0425-4812-8174-9f2a1b27a502"
      },
      "source": [
        "poem  = \"The rose is a rose and was always a rose.\"\n",
        "\n",
        "poem = poem.strip(\".-:!?–,\").lower().split() #предобратобка\n",
        "\n",
        "unique(poem) # множество уникальных токенов "
      ],
      "execution_count": null,
      "outputs": [
        {
          "output_type": "execute_result",
          "data": {
            "text/plain": [
              "{'a', 'always', 'and', 'is', 'rose', 'the', 'was'}"
            ]
          },
          "metadata": {
            "tags": []
          },
          "execution_count": 15
        }
      ]
    },
    {
      "cell_type": "code",
      "metadata": {
        "id": "rZML1f3_SVau"
      },
      "source": [
        "def ne_tak_li(): # в теле функции можно задать любое действие (не одно), и даже новую функцию!\n",
        "    def your_phrase(): # создаем функцию, которая существует внутри большой функции\n",
        "        res = input(\"скажите что-нибудь:\")\n",
        "        return res # получили значение\n",
        "    final_res = your_phrase()+\", не так ли?\" #вызвали функцию в функции, получили ее значение, добавили к нему новую строку\n",
        "    return final_res # выдаем финальный результат"
      ],
      "execution_count": null,
      "outputs": []
    },
    {
      "cell_type": "code",
      "metadata": {
        "id": "Q5VXlraCU8V6"
      },
      "source": [
        "ne_tak_li()"
      ],
      "execution_count": null,
      "outputs": []
    },
    {
      "cell_type": "markdown",
      "metadata": {
        "id": "7y1G_xkpZY5s"
      },
      "source": [
        ""
      ]
    },
    {
      "cell_type": "code",
      "metadata": {
        "id": "FUN_ywNqU-Cl"
      },
      "source": [
        "# более полезная функция\n",
        "\n",
        "def normalize(text):\n",
        "    normalized = text.lower().translate(str.maketrans('','',string.punctuation)).split()\n",
        "    return normalized"
      ],
      "execution_count": null,
      "outputs": []
    },
    {
      "cell_type": "code",
      "metadata": {
        "id": "TZ5Zkha9c0uk",
        "colab": {
          "base_uri": "https://localhost:8080/"
        },
        "outputId": "6e24b3f3-37fc-4eb6-e970-d2ebbcfedf94"
      },
      "source": [
        "# попробуем на тексте: \n",
        "\n",
        "news = \"I had heard that McDonald\\'s never decompose so I just wanted to see if it was true\\\n",
        "or not,\\\" Hjortur Smarason told AFP. This week, it's 10 years since the seemingly\\\n",
        "indestructible meal was purchased, and it barely looks a day older.\"\n",
        "\n",
        "normalize(news) # вызвали функцию, передали переменную с текстом в виде аргумента\n"
      ],
      "execution_count": null,
      "outputs": [
        {
          "output_type": "execute_result",
          "data": {
            "text/plain": [
              "['i',\n",
              " 'had',\n",
              " 'heard',\n",
              " 'that',\n",
              " 'mcdonalds',\n",
              " 'never',\n",
              " 'decompose',\n",
              " 'so',\n",
              " 'i',\n",
              " 'just',\n",
              " 'wanted',\n",
              " 'to',\n",
              " 'see',\n",
              " 'if',\n",
              " 'it',\n",
              " 'was',\n",
              " 'trueor',\n",
              " 'not',\n",
              " 'hjortur',\n",
              " 'smarason',\n",
              " 'told',\n",
              " 'afp',\n",
              " 'this',\n",
              " 'week',\n",
              " 'its',\n",
              " '10',\n",
              " 'years',\n",
              " 'since',\n",
              " 'the',\n",
              " 'seeminglyindestructible',\n",
              " 'meal',\n",
              " 'was',\n",
              " 'purchased',\n",
              " 'and',\n",
              " 'it',\n",
              " 'barely',\n",
              " 'looks',\n",
              " 'a',\n",
              " 'day',\n",
              " 'older']"
            ]
          },
          "metadata": {
            "tags": []
          },
          "execution_count": 23
        }
      ]
    },
    {
      "cell_type": "markdown",
      "metadata": {
        "id": "kt9JszRTgh4-"
      },
      "source": [
        "###Аргументы функции\n",
        "Функция может принимать произвольное количество аргументов (или не принимать вообще). \n",
        "\n",
        "Существуют функции с произвольным числом аргументов, функции с позиционными и именованными аргументами, обязательными и необязательными.\n",
        "\n",
        "давайте разбираться\n",
        "\n",
        "1. позиционные и именованные аргументы"
      ]
    },
    {
      "cell_type": "code",
      "metadata": {
        "id": "dVnd5e7Ge_M4"
      },
      "source": [
        "def birthday1(name, age):\n",
        "    \"\"\"name это имя, age это возраст\"\"\" #это документация к функции, которую позже можно вызвать и посмотреть\n",
        "    print( \"С днем рождения , \", name , \"!\", \" Вам сегодня исполняется\", age)"
      ],
      "execution_count": null,
      "outputs": []
    },
    {
      "cell_type": "markdown",
      "metadata": {
        "id": "X9CQVWnpoGzF"
      },
      "source": [
        "**позиционные аргументы**\n",
        "\n",
        "важен порядок ввода"
      ]
    },
    {
      "cell_type": "code",
      "metadata": {
        "id": "kdwjGqLQmduF",
        "colab": {
          "base_uri": "https://localhost:8080/"
        },
        "outputId": "100be287-fbaf-45c6-c7ec-11fbd5a14840"
      },
      "source": [
        "\n",
        "\n",
        "birthday1(\"дорогой друг\" , 1)"
      ],
      "execution_count": null,
      "outputs": [
        {
          "output_type": "stream",
          "text": [
            "С днем рождения ,  дорогой друг !  Вам сегодня исполняется 1\n"
          ],
          "name": "stdout"
        }
      ]
    },
    {
      "cell_type": "code",
      "metadata": {
        "id": "igl8L9MvnmLk"
      },
      "source": [
        "#    Проблема позиционных аргументов \n",
        "\n",
        "birthday1(1, \" дорогой друг\") # поменяли аргументы местами"
      ],
      "execution_count": null,
      "outputs": []
    },
    {
      "cell_type": "markdown",
      "metadata": {
        "id": "o-xxHvGSn3a4"
      },
      "source": [
        "**именные**\n",
        "\n",
        "Вне зависимости от порядка, все хорошо."
      ]
    },
    {
      "cell_type": "code",
      "metadata": {
        "id": "atGOHsObmoGy"
      },
      "source": [
        "birthday1( name = \"дорогой друг\", age = 1) "
      ],
      "execution_count": null,
      "outputs": []
    },
    {
      "cell_type": "code",
      "metadata": {
        "id": "oHbEHLVKmxnw"
      },
      "source": [
        "birthday1(age = 1, name = \"дорогой друг\")"
      ],
      "execution_count": null,
      "outputs": []
    },
    {
      "cell_type": "markdown",
      "metadata": {
        "id": "35XQO46vo9XO"
      },
      "source": [
        "Функция может принимать переменное количество позиционных аргументов,\n",
        "\n",
        "тогда в скобках, в поле для аргумента ставится ```*args```:\n",
        "\n",
        "\n"
      ]
    },
    {
      "cell_type": "code",
      "metadata": {
        "id": "h_6eRkMwoz2S"
      },
      "source": [
        "def arg_func(*args):\n",
        "     return args\n",
        "     "
      ],
      "execution_count": null,
      "outputs": []
    },
    {
      "cell_type": "markdown",
      "metadata": {
        "id": "2Cw-3d5Vp_IX"
      },
      "source": [
        "args - это кортеж из всех переданных аргументов функции"
      ]
    },
    {
      "cell_type": "code",
      "metadata": {
        "id": "WJQUliLVpawM",
        "colab": {
          "base_uri": "https://localhost:8080/"
        },
        "outputId": "4f3767db-5588-495e-9ff6-e4d70e78237a"
      },
      "source": [
        "x = arg_func(2.3,\"Jane\",\"hello\",77)\n",
        "y = arg_func(23,{0,6,8})\n",
        "\n",
        "#что может быть в аргументах? \n",
        "\n",
        "z = x+y\n",
        "print(z)"
      ],
      "execution_count": null,
      "outputs": [
        {
          "output_type": "stream",
          "text": [
            "(2.3, 'Jane', 'hello', 77, 23, {0, 8, 6})\n"
          ],
          "name": "stdout"
        }
      ]
    },
    {
      "cell_type": "markdown",
      "metadata": {
        "id": "TGQYue3Hr_t1"
      },
      "source": [
        "Функция может принимать и произвольное число именованных аргументов\n",
        "\n",
        "тогда перед именем ставится ```**kwargs```:"
      ]
    },
    {
      "cell_type": "code",
      "metadata": {
        "id": "Crz46XlTpkJO"
      },
      "source": [
        " def kwargs_func(**kwargs):\n",
        "     return kwargs"
      ],
      "execution_count": null,
      "outputs": []
    },
    {
      "cell_type": "code",
      "metadata": {
        "id": "KcG0djEAsKg8",
        "colab": {
          "base_uri": "https://localhost:8080/"
        },
        "outputId": "783fdc89-2635-4135-aafe-dbfc98cb1d79"
      },
      "source": [
        "kwargs_func(a=1, b=2, c=3)"
      ],
      "execution_count": null,
      "outputs": [
        {
          "output_type": "execute_result",
          "data": {
            "text/plain": [
              "{'a': 1, 'b': 2, 'c': 3}"
            ]
          },
          "metadata": {
            "tags": []
          },
          "execution_count": 7
        }
      ]
    },
    {
      "cell_type": "markdown",
      "metadata": {
        "id": "r3xTtBdysbdl"
      },
      "source": [
        "переменная kwargs - это словарь!"
      ]
    },
    {
      "cell_type": "markdown",
      "metadata": {
        "id": "Kjx2bycnsi9p"
      },
      "source": [
        "### бонус: lambda func"
      ]
    },
    {
      "cell_type": "markdown",
      "metadata": {
        "id": "-AjT1BdWsvvx"
      },
      "source": [
        "Анонимные функции:\n",
        "* могут содержать лишь одно действие\n",
        "* выполняются быстрее\n",
        "* не обязательно присваивать переменной (не нужен def)\n",
        "* не требуется return\n",
        "\n",
        "\n",
        "обычно используются для одноразовых функций \n",
        "\n",
        "создаются с помощью ключевого слова ```lambda```"
      ]
    },
    {
      "cell_type": "code",
      "metadata": {
        "id": "tQoxZXdPsWFc"
      },
      "source": [
        "func = lambda x, y: x + y  # задали (до двоеточия аргументы, после - действие с ними)"
      ],
      "execution_count": null,
      "outputs": []
    },
    {
      "cell_type": "code",
      "metadata": {
        "id": "XKyQxTNVtTML",
        "colab": {
          "base_uri": "https://localhost:8080/"
        },
        "outputId": "181e4394-b32f-4828-af8c-80fce5793edc"
      },
      "source": [
        "func(1, 2) # вызываем, подав аргументы"
      ],
      "execution_count": null,
      "outputs": [
        {
          "output_type": "execute_result",
          "data": {
            "text/plain": [
              "3"
            ]
          },
          "metadata": {
            "tags": []
          },
          "execution_count": 27
        }
      ]
    },
    {
      "cell_type": "code",
      "metadata": {
        "id": "vOoz51D-tgTP",
        "colab": {
          "base_uri": "https://localhost:8080/",
          "height": 35
        },
        "outputId": "b35fc7cb-27cc-4aaf-9571-9e8ad7de00d4"
      },
      "source": [
        "func(\"i write\",\" code in Python\") # подаем строки как аргументы, их тоже можно конкатенировать"
      ],
      "execution_count": null,
      "outputs": [
        {
          "output_type": "execute_result",
          "data": {
            "application/vnd.google.colaboratory.intrinsic+json": {
              "type": "string"
            },
            "text/plain": [
              "'i write code in Python'"
            ]
          },
          "metadata": {
            "tags": []
          },
          "execution_count": 28
        }
      ]
    },
    {
      "cell_type": "code",
      "metadata": {
        "id": "XgANxc7htyKZ"
      },
      "source": [
        "func = lambda *args: [i*2 for i in list(args)] \n",
        "# можно подавать циклы в виде list comprehension"
      ],
      "execution_count": null,
      "outputs": []
    },
    {
      "cell_type": "code",
      "metadata": {
        "id": "zqEJLXxPuJ0d"
      },
      "source": [
        "func(1, 2, 3, 4)"
      ],
      "execution_count": null,
      "outputs": []
    },
    {
      "cell_type": "markdown",
      "metadata": {
        "id": "ylixGHVOvAqB"
      },
      "source": [
        "## Classwork"
      ]
    },
    {
      "cell_type": "markdown",
      "metadata": {
        "id": "WbpgWXdHvgV8"
      },
      "source": [
        "1.  генератор названий компаний (почти как генератор паролей)"
      ]
    },
    {
      "cell_type": "code",
      "metadata": {
        "id": "lIwa6cOqvcTs",
        "colab": {
          "base_uri": "https://localhost:8080/"
        },
        "outputId": "2e2c6f4a-dd5e-4fda-abc8-5f7d4ff53fb0"
      },
      "source": [
        "# генератор названий компаний\n",
        "\n",
        "import random\n",
        "\n",
        "names = [\"пром\",\"агро\",\"торг\",\"урал\",\"север\",\"юг\",\"техно\",\n",
        "\"экспо\",\"метал\",\"нефть\",\"сельхоз\",\"фарм\",\"строй\",\n",
        "\"кредит\",\"алмаз\",\"-девелопмент\",\"развитие\",\"мос\",\n",
        "\"рос\",\"кубань\",\"сибирь\",\"восток\",\"нано\",\"софт\",\n",
        "\"микро\",\"онлайн\",\"инвест\",\"текстиль\",\"цемент\"]\n",
        "\n",
        "# Ваш код ниже\n",
        "\n",
        "company = \"\"\n",
        "names1 = names          #создаем копию списка names, чтобы не потерять изначальный список\n",
        "for i in range(6):\n",
        "    part = random.choice(names1)\n",
        "    company = company + part\n",
        "    names1.remove(part)           #убираем имя из списка, чтобы не было повторов\n",
        "    \n",
        "\n",
        "print(company) #пусть в ней будет 6 частей\n",
        "\n",
        "# запустите ячейку несклько раз"
      ],
      "execution_count": null,
      "outputs": [
        {
          "output_type": "stream",
          "text": [
            "торгуралонлайнсибирьагроюг\n"
          ],
          "name": "stdout"
        }
      ]
    },
    {
      "cell_type": "markdown",
      "metadata": {
        "id": "2yJufW6c1J2r"
      },
      "source": [
        "2. Транслитератор-2, более сложный\n",
        "\n",
        "Напишите программу, которая будет транситерировать текст (собака >> sobaka), но сделаем его сложнее, чем в прошлый раз\n",
        "\n",
        "Вам нужно: \n",
        "1. написать побуквенный транслитератор с кириллицы на латиницу(можно использовать написанный в прошлый раз)\n",
        "\n",
        "2. \"обернуть\" ваш код транслитератора в функцию\n",
        "\n",
        "3. применить функцию к тексту (возьмите любой, на ваш выбор, длиной от 2 до 7 предложений. Хорошая идея - искать в статьях на Википедии)\n",
        "    \n",
        "    3.1. чтобы работать с текстом, сохраните его в переменную\n",
        "\n"
      ]
    },
    {
      "cell_type": "code",
      "metadata": {
        "id": "OY3JW9ZpwAkS",
        "colab": {
          "base_uri": "https://localhost:8080/"
        },
        "outputId": "28de396c-c5ca-41f0-d489-9b7c62a691ac"
      },
      "source": [
        "# Ваш код здесь:\n",
        "def transliterator(text):\n",
        "        translit = {\n",
        "            \"а\": 'a', \"б\": 'b', \"в\": 'v', \"г\": 'g', \"д\": 'd', \"е\": 'e', \"ё\": 'yo', \n",
        "            \"ж\": 'zh', \"з\": 'z', \"и\": 'i', \"й\": 'y', \"к\": 'k', \"л\": 'l', \"м\": 'm', \n",
        "            \"н\": 'n', \"о\": 'o', \"п\": 'p', \"р\": 'r', \"с\": 's', \"т\": 't', \"у\": 'u', \n",
        "            \"ф\": 'f', \"х\": 'h', \"ц\": 'ts', \"ч\": 'ch', \"ш\": 'sh', \"щ\": 'shch', \"ь\": '\\'',\n",
        "            \"ы\": 'y', \"ъ\": '\\'', \"э\": 'e', \"ю\": 'yu', \"я\": 'ya',\n",
        "            \"А\": 'A', \"Б\": 'B', \"В\": 'V', \"Г\": 'G', \"Д\": 'D', \"Е\": 'E', \"Ё\": 'Yo', \n",
        "            \"Ж\": 'Zh', \"З\": 'Z', \"И\": 'I', \"Й\": 'Y', \"К\": 'K', \"Л\": 'L', \"М\": 'M', \n",
        "            \"Н\": 'N', \"О\": 'O', \"П\": 'P', \"Р\": 'R', \"С\": 'S', \"Т\": 'T', \"У\": 'U', \n",
        "            \"Ф\": 'F', \"Х\": 'H', \"Ц\": 'Ts', \"Ч\": 'Ch', \"Ш\": 'Sh', \"Щ\": 'Shch', \"Ь\": '\\'',\n",
        "            \"Ы\": 'Y', \"Ъ\": '\\'', \"Э\": 'E', \"Ю\": 'Yu', \"Я\": 'Ya', \"«\": '\\\"', \"»\": \"\\\"\"\n",
        "            }\n",
        "        result = []\n",
        "        punctuation = \"!@#$%^&*()_+<>?:.,;\\\\\\\"\\'\\n \"\n",
        "        for x in text:\n",
        "            if x not in punctuation:          #проверяем, знак ли пунктуации перед нами\n",
        "                x = translit.get(x)           #если нет, то присваиваем букве ее транслитерированный аналог из словаря\n",
        "            result.append(x)                  #добавляем элемент (букву или знак пунктуации) в конечный список\n",
        "        ind = 0\n",
        "        for r in result:\n",
        "              print(result[ind], end='')       #выводим список по одному элементу без пробелов\n",
        "              ind += 1\n",
        "\n",
        "text = \"Поскольку преобладал государственный принцип (восторжествовавший не везде одновременно и равномерно), \\\n",
        "всякий гражданин был обязан кроме своих частноправовых божеств почитать богов своей «гражданской общины» \\\n",
        "(изменения принесла эллинистическая эпоха, вообще способствовавшая процессу нивелирования). Это почитание \\\n",
        "выражалось чисто внешним образом — посильным участием в известных обрядах и празднествах, совершаемых от \\\n",
        "имени государства (или государственного деления), — участием, к которому приглашалось в иных случаях и негражданское население \\\n",
        "общины; и гражданам, и не гражданам предоставлялось, как кто мог, хотел и умел, искать удовлетворения своим религиозным потребностям.\"\n",
        "transliterator(text)\n"
      ],
      "execution_count": null,
      "outputs": [
        {
          "output_type": "stream",
          "text": [
            "Poskol'ku preobladal gosudarstvennyy printsip (vostorzhestvovavshiy ne vezde odnovremenno i ravnomerno), vsyakiy grazhdanin byl obyazan krome svoih chastnopravovyh bozhestv pochitat' bogov svoey \"grazhdanskoy obshchiny\" (izmeneniya prinesla ellinisticheskaya epoha, voobshche sposobstvovavshaya protsessu nivelirovaniya). Eto pochitanie vyrazhalos' chisto vneshnim obrazom None posil'nym uchastiem v izvestnyh obryadah i prazdnestvah, sovershaemyh ot imeni gosudarstva (ili gosudarstvennogo deleniya), None uchastiem, k kotoromu priglashalos' v inyh sluchayah i negrazhdanskoe naselenie obshchiny; i grazhdanam, i ne grazhdanam predostavlyalos', kak kto mog, hotel i umel, iskat' udovletvoreniya svoim religioznym potrebnostyam."
          ],
          "name": "stdout"
        }
      ]
    },
    {
      "cell_type": "markdown",
      "metadata": {
        "id": "kk7S9QwOzKKo"
      },
      "source": [
        "3. Создать генератор пароля из 12 символов, в котором встречается как минимум одна заглавная буква, одна цифра и один спец.символ"
      ]
    },
    {
      "cell_type": "code",
      "metadata": {
        "id": "Mm3FYaIJ99GJ",
        "colab": {
          "base_uri": "https://localhost:8080/"
        },
        "outputId": "841b4443-987b-4db6-d106-58a896500862"
      },
      "source": [
        "import random\n",
        "passw = '' \n",
        "\n",
        "capital = \"QWERTYUIOPASDFGHJKLZXCVBNM\"\n",
        "nums = \"1234567890\"\n",
        "symbols = \"!@#$%^&*()_+-=<>,./\\\\\\\"\\';:~\"\n",
        "lower = \"qwertyuiopasdfghjklzxcvbnm\"\n",
        "all = capital + nums + symbols + lower\n",
        "\n",
        "pass_list = [random.choice(capital), random.choice(nums), random.choice(symbols)]    #создаем список, в котором будут три символа, необходимые для удовлетворения требования к паролю\n",
        "\n",
        "for l in range(9):\n",
        "    pass_list.append(random.choice(all))                                            #дополняем список еще 9 случайными символами\n",
        "\n",
        "for x in range(12): \n",
        "    char = random.choice(pass_list)\n",
        "    passw = passw + char\n",
        "    pass_list.remove(char)                                                           #присваиваем паролю по одному случайному символу из списка, убирая затем этот символ из списка, чтобы избежать повторений\n",
        "    \n",
        "print(passw)\n",
        "\n"
      ],
      "execution_count": null,
      "outputs": [
        {
          "output_type": "stream",
          "text": [
            "8o7&A*%^#Vy%\n"
          ],
          "name": "stdout"
        }
      ]
    }
  ]
}