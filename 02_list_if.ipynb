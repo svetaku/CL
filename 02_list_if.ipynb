{
  "nbformat": 4,
  "nbformat_minor": 0,
  "metadata": {
    "colab": {
      "name": "02_list_if",
      "provenance": [],
      "collapsed_sections": []
    },
    "kernelspec": {
      "display_name": "Python 3",
      "language": "python",
      "name": "python3"
    },
    "language_info": {
      "codemirror_mode": {
        "name": "ipython",
        "version": 3
      },
      "file_extension": ".py",
      "mimetype": "text/x-python",
      "name": "python",
      "nbconvert_exporter": "python",
      "pygments_lexer": "ipython3",
      "version": "3.8.2"
    }
  },
  "cells": [
    {
      "cell_type": "markdown",
      "metadata": {
        "id": "OtLfEjtTf88R"
      },
      "source": [
        "## операторы ввода и вывода"
      ]
    },
    {
      "cell_type": "markdown",
      "metadata": {
        "id": "RVp8eISaqTLp"
      },
      "source": [
        "1. Вывод на экран нескольких значений\n",
        "\n",
        "    Одним вызовом функции ```print ( ) ```можно печатать на экране несколько значений. Для этого задайте аргументы списком, перечислив их через запятую:"
      ]
    },
    {
      "cell_type": "code",
      "metadata": {
        "id": "E5uJKzVzeWxg",
        "colab": {
          "base_uri": "https://localhost:8080/",
          "height": 34
        },
        "outputId": "c38d7565-be13-4c27-ad70-5f34e392ae43"
      },
      "source": [
        "print(\"Три\", \"аргумента\", \"успешно напечатаны\")"
      ],
      "execution_count": null,
      "outputs": [
        {
          "output_type": "stream",
          "text": [
            "Три аргумента успешно напечатаны\n"
          ],
          "name": "stdout"
        }
      ]
    },
    {
      "cell_type": "markdown",
      "metadata": {
        "id": "ux6R_K_8rR3Y"
      },
      "source": [
        "    Иногда аргументы функции (любой, и принта тоже) легче разбить на несколько строк кода, это делается для удобства чтения кода:"
      ]
    },
    {
      "cell_type": "code",
      "metadata": {
        "id": "rXTXwIoos4_g",
        "colab": {
          "base_uri": "https://localhost:8080/",
          "height": 34
        },
        "outputId": "c372d957-1846-47eb-ab06-5a5ecc65620d"
      },
      "source": [
        "print(\"Три\",\n",
        "      \"аргумента\",\n",
        "      \"успешно напечатаны\")"
      ],
      "execution_count": null,
      "outputs": [
        {
          "output_type": "stream",
          "text": [
            "Три аргумента успешно напечатаны\n"
          ],
          "name": "stdout"
        }
      ]
    },
    {
      "cell_type": "markdown",
      "metadata": {
        "id": "pRHZzBBQthM6"
      },
      "source": [
        "2. экранирование\n",
        "\n",
        "    esсаре-последователыюсти (экранированные последовательности) позволяют вставлять в строки специальные символы. Типичную\n",
        "    еsсаре-последовательность образуют два символа: обратный слеш (\\\\) и дополнительный символ.\n",
        "\n",
        "    Какими они бывают? \n",
        "    * \\\\\\ Обратный слеш. Выводит :\\\\\n",
        "    * \\\\' Апостроф, или одиночная кавычка. Выводит : '\n",
        "    * \\\\\" Кавычка. Выводит : \"\n",
        "    * \\n Новая строка . Перемещает курсор в начало следующей строки\n",
        "    * \\t Горизонтальный отступ - символ табуляции. Перемещает курсор вправо на один отступ\n",
        "\n",
        "Давайте попробуем напечатать строку с разными режимами экранирования\n",
        "\n",
        "NB! символы экранирования пишем внутри строки, в её кавычках\n",
        "\n",
        "\n",
        "\n",
        "\n",
        "\n",
        "\n"
      ]
    },
    {
      "cell_type": "code",
      "metadata": {
        "id": "2EBSJ26ywq3w",
        "colab": {
          "base_uri": "https://localhost:8080/",
          "height": 51
        },
        "outputId": "bb6a081c-f63b-4991-c7d2-bf47860bf824"
      },
      "source": [
        "# print(\"1:\", \"wow i can modify output now\") # классика\n",
        "# print(\"2:\",\"\\\\wow i can modify output now\") # добавили бэкслеш\n",
        "# print(\"3:\",\"he said \\'wow i can modify output now'\") # добавили кавычки (кавычки в кавычках, we need to go deeper!)\n",
        "# print(\"4:\",\"wow i can \\\"modify\\\" output now\") # еще один вариант с кавычками\n",
        "# print(\"5:\",\"wow \\ni can modify \\noutput now\") # перенос строки\n",
        "print(\"6:\",\"\\twow \\\"i can\\\" \\nmodify output now\") # табуляция\n"
      ],
      "execution_count": null,
      "outputs": [
        {
          "output_type": "stream",
          "text": [
            "6: \twow \"i can\" \n",
            "modify output now\n"
          ],
          "name": "stdout"
        }
      ]
    },
    {
      "cell_type": "markdown",
      "metadata": {
        "id": "JXDTrGHNz8I2"
      },
      "source": [
        "3. альтернатива для ```print()```\n",
        "\n",
        "    иногда Вас может ожидать ситуация, когда Вы хотите посмотреть на данные, но печатать их полностью очень долго, а частями - неинформативно. На помощь приходит функция ```display()```. Помогает в случаях работы с большими данными"
      ]
    },
    {
      "cell_type": "code",
      "metadata": {
        "id": "y8QdaNWpz-So"
      },
      "source": [
        "#@title\n",
        "\n",
        "text = \"i am text\" #наши данные пока не очень большие, но все впереди\n",
        "display(text)"
      ],
      "execution_count": null,
      "outputs": []
    },
    {
      "cell_type": "markdown",
      "metadata": {
        "id": "yaUt0Chfzk_Z"
      },
      "source": [
        "Хорошо, выводить текст (красиво) мы теперь умеем. А как вводить? Для этого есть функция ```input()```\n",
        "\n",
        "Функция принимает текст, который пользователь вводит с клавиатуры (в предлагаемый на экране строковый аргумент). После запуска ячейки *(или нажатия Run, если Вы в PyCharm, или нажатия Enter, если вы в интерактивном режиме питона из терминала)*\n",
        "функция ```input()``` возвратит на экран строку, которую мы ей подали."
      ]
    },
    {
      "cell_type": "code",
      "metadata": {
        "id": "GcM3830AzkF2",
        "colab": {
          "base_uri": "https://localhost:8080/",
          "height": 34
        },
        "outputId": "725f3923-0be2-4e2c-afe8-f7644c4c6496"
      },
      "source": [
        "name = input (\"напишите что угодно: \")\n"
      ],
      "execution_count": null,
      "outputs": [
        {
          "output_type": "stream",
          "text": [
            "напишите что угодно: Дратути\n"
          ],
          "name": "stdout"
        }
      ]
    },
    {
      "cell_type": "markdown",
      "metadata": {
        "id": "CX-aPirI4IGC"
      },
      "source": [
        "Давайте используем это, чтобы сделать персонализированное приветствие"
      ]
    },
    {
      "cell_type": "code",
      "metadata": {
        "id": "rixeKn1o4XSr",
        "colab": {
          "base_uri": "https://localhost:8080/",
          "height": 51
        },
        "outputId": "46eee7ab-c53c-4023-a7fd-5f1138188cd6"
      },
      "source": [
        "name=input(\"Здравствуйте! Как Вас зовут? \")\n",
        "print(\"Приятно познакомиться,\",name)"
      ],
      "execution_count": null,
      "outputs": [
        {
          "output_type": "stream",
          "text": [
            "Здравствуйте! Как Вас зовут? лл\n",
            "Приятно познакомиться, лл\n"
          ],
          "name": "stdout"
        }
      ]
    },
    {
      "cell_type": "markdown",
      "metadata": {
        "id": "X89hZucz-Zcp"
      },
      "source": [
        "<img alt=\"Картинки по запросу &quot;personalized ai meme&quot;&quot;\" class=\"n3VNCb\" src=\"https://pics.me.me/we-used-machine-learning-algorithms-to-greet-the-user-with-56245903.png\" data-noaft=\"1\" jsname=\"HiaYvf\" jsaction=\"load:XAeZkd;\" style=\"width: 317.385px; height: 471px; margin: 0px;\">"
      ]
    },
    {
      "cell_type": "markdown",
      "metadata": {
        "id": "kt2nYlkcgCnu"
      },
      "source": [
        "## списки\n",
        "\n",
        "изменяемые итерируемые коллекции объектов произвольных типов. Записываются в квадратных скобках [  ]"
      ]
    },
    {
      "cell_type": "code",
      "metadata": {
        "id": "1chs7uBGgF7z"
      },
      "source": [
        "my_list = [5,\"строки тоже можно\",7.09,\"lalala\"] # в списке могут быть элементы разных типов\n"
      ],
      "execution_count": null,
      "outputs": []
    },
    {
      "cell_type": "markdown",
      "metadata": {
        "id": "Ti8qZ1StKKR8"
      },
      "source": [
        "как мы можем создать лист?"
      ]
    },
    {
      "cell_type": "code",
      "metadata": {
        "id": "uw8pm_elKN-c",
        "colab": {
          "base_uri": "https://localhost:8080/",
          "height": 34
        },
        "outputId": "925e826b-c6cc-48f7-9e58-6203cc928dbb"
      },
      "source": [
        " # способ 1: обработать любой итерируемый объект встроенной функцией list()\n",
        " \n",
        " list('saturday') # возвращает лист с набором элементов, по которым итерировался в строке"
      ],
      "execution_count": null,
      "outputs": [
        {
          "output_type": "execute_result",
          "data": {
            "text/plain": [
              "['s', 'a', 't', 'u', 'r', 'd', 'a', 'y']"
            ]
          },
          "metadata": {
            "tags": []
          },
          "execution_count": 1
        }
      ]
    },
    {
      "cell_type": "code",
      "metadata": {
        "id": "aeH_8xKJWtxK"
      },
      "source": [
        "# способ 2: создать пустой лист и добавить в него элементы\n",
        "test = []  # Пустой список, задали литералом [].  Давайте в него что-нибудь добавим."
      ],
      "execution_count": null,
      "outputs": []
    },
    {
      "cell_type": "markdown",
      "metadata": {
        "id": "R2bMV2sXXa71"
      },
      "source": [
        "####методы списков"
      ]
    },
    {
      "cell_type": "code",
      "metadata": {
        "id": "Ru-E3cY0Xpno",
        "colab": {
          "base_uri": "https://localhost:8080/",
          "height": 34
        },
        "outputId": "11e10b72-d101-4c2b-c79d-3ad0c5e60b8c"
      },
      "source": [
        "test.append(\"hi\")\t#Добавляет элемент в конец списка. Элемент можно изменять\n",
        "print(test)"
      ],
      "execution_count": null,
      "outputs": [
        {
          "output_type": "stream",
          "text": [
            "['hi']\n"
          ],
          "name": "stdout"
        }
      ]
    },
    {
      "cell_type": "code",
      "metadata": {
        "id": "eDkkKpPzbQmn",
        "colab": {
          "base_uri": "https://localhost:8080/",
          "height": 34
        },
        "outputId": "f0dc7fb1-d80c-4827-9326-3e6a483a890e"
      },
      "source": [
        "test.extend([\"Jane\",\"Jack\"])\t#Расширяет список list, добавляя в конец все элементы списка L\n",
        "test"
      ],
      "execution_count": null,
      "outputs": [
        {
          "output_type": "execute_result",
          "data": {
            "text/plain": [
              "['hi', 'Jane', 'Jack']"
            ]
          },
          "metadata": {
            "tags": []
          },
          "execution_count": 18
        }
      ]
    },
    {
      "cell_type": "code",
      "metadata": {
        "id": "YwVzP0NYbTKp",
        "colab": {
          "base_uri": "https://localhost:8080/",
          "height": 34
        },
        "outputId": "8baabea0-9506-4c68-d66a-bfd2a0b887d2"
      },
      "source": [
        "#аргументы в скобках: i-ый элемент(место) и значение, которое хотим вставить на это место\n",
        "test.insert(0, 56) # на 0е место вставили число 56\n",
        "print(test)"
      ],
      "execution_count": null,
      "outputs": [
        {
          "output_type": "stream",
          "text": [
            "[56, 'hi', 'Jane', 'Jack']\n"
          ],
          "name": "stdout"
        }
      ]
    },
    {
      "cell_type": "code",
      "metadata": {
        "id": "ORhHmP_LbVBu",
        "colab": {
          "base_uri": "https://localhost:8080/",
          "height": 51
        },
        "outputId": "b82df6ec-227e-487d-c7e8-9184b6632e62"
      },
      "source": [
        "# test.remove('hi')\t#Удаляет первый элемент в списке, имеющий значение, переданное в скобках.\n",
        "print(test)\n",
        "del test[2:]\n",
        "print(test)\n",
        "# Выдает ValueError, если такого элемента не существует в списке\n",
        "# test.remove(90) # раскомментьте эту строку, чтобы посмотреть, как работает ошибка\n"
      ],
      "execution_count": null,
      "outputs": [
        {
          "output_type": "stream",
          "text": [
            "[56, 'Jane', 'Jack']\n",
            "[56, 'Jane']\n"
          ],
          "name": "stdout"
        }
      ]
    },
    {
      "cell_type": "code",
      "metadata": {
        "id": "4aSnm9AQbXfa",
        "colab": {
          "base_uri": "https://localhost:8080/",
          "height": 51
        },
        "outputId": "a22d0f38-4db9-4d98-d89c-13ef573bbab1"
      },
      "source": [
        "print(test)\n",
        "test.index('Jane') #Возвращает положение элемента со значением, заданным в скобках. \n",
        "#Если таких элементов больше одного, возвращает первый подошедший\t\n"
      ],
      "execution_count": null,
      "outputs": [
        {
          "output_type": "stream",
          "text": [
            "[56, 'Jane']\n"
          ],
          "name": "stdout"
        },
        {
          "output_type": "execute_result",
          "data": {
            "text/plain": [
              "1"
            ]
          },
          "metadata": {
            "tags": []
          },
          "execution_count": 22
        }
      ]
    },
    {
      "cell_type": "code",
      "metadata": {
        "id": "HFUVPNe7bZZi",
        "colab": {
          "base_uri": "https://localhost:8080/",
          "height": 34
        },
        "outputId": "c31c5e7d-6880-4ec5-a688-b7bafd4618ac"
      },
      "source": [
        "test.count(\"Jane\")\t# Возвращает количество элементов со значением, заданным в скобках"
      ],
      "execution_count": null,
      "outputs": [
        {
          "output_type": "execute_result",
          "data": {
            "text/plain": [
              "1"
            ]
          },
          "metadata": {
            "tags": []
          },
          "execution_count": 23
        }
      ]
    },
    {
      "cell_type": "code",
      "metadata": {
        "id": "iHq2SgvAbah0",
        "colab": {
          "base_uri": "https://localhost:8080/",
          "height": 68
        },
        "outputId": "3beb41da-b0b9-4ce4-e90f-8b2b1ba1b6d8"
      },
      "source": [
        "# test.sort()\t#Сортирует список (не работает для элементов разных типов в одном листе)\n",
        "\n",
        "test2 = [1.7,9,0,347,88,2]\n",
        "print(test2)\n",
        "test2.sort()\n",
        "print(test2)\n",
        "test2.sort(reverse = True)\n",
        "print(test2)"
      ],
      "execution_count": null,
      "outputs": [
        {
          "output_type": "stream",
          "text": [
            "[1.7, 9, 0, 347, 88, 2]\n",
            "[0, 1.7, 2, 9, 88, 347]\n",
            "[347, 88, 9, 2, 1.7, 0]\n"
          ],
          "name": "stdout"
        }
      ]
    },
    {
      "cell_type": "code",
      "metadata": {
        "id": "b9rEJN3hbcEe",
        "colab": {
          "base_uri": "https://localhost:8080/",
          "height": 51
        },
        "outputId": "dff8368c-622c-4aea-e5e9-1b2581a0b444"
      },
      "source": [
        "print(test)\n",
        "test.reverse()\t#Разворачивает список\n",
        "print(test)"
      ],
      "execution_count": null,
      "outputs": [
        {
          "output_type": "stream",
          "text": [
            "[56, 'Jane']\n",
            "['Jane', 56]\n"
          ],
          "name": "stdout"
        }
      ]
    },
    {
      "cell_type": "code",
      "metadata": {
        "id": "K8sqmhJHbhoM",
        "colab": {
          "base_uri": "https://localhost:8080/",
          "height": 34
        },
        "outputId": "62885c1f-d50f-4cfa-d36f-7728794c1997"
      },
      "source": [
        "test.clear()\t#Очищает список\n",
        "test"
      ],
      "execution_count": null,
      "outputs": [
        {
          "output_type": "execute_result",
          "data": {
            "text/plain": [
              "[]"
            ]
          },
          "metadata": {
            "tags": []
          },
          "execution_count": 26
        }
      ]
    },
    {
      "cell_type": "markdown",
      "metadata": {
        "id": "pase1Hbc-omO"
      },
      "source": [
        "модуль  random"
      ]
    },
    {
      "cell_type": "code",
      "metadata": {
        "id": "Bd7PtY2O-n8w",
        "colab": {
          "base_uri": "https://localhost:8080/",
          "height": 34
        },
        "outputId": "758742aa-57ad-440c-9212-80e0f249bb9e"
      },
      "source": [
        "import random # импортировали модуль в тетрадку/проект в Pycharm\n",
        "seq = [\"Jane\",\"Mary\",\"Alice\",\"Leo\",\"Nick\",\"Genevieve\",\"Sam\",\"yes, you\",\"and bye\"]\n",
        "chosen_name = random.choice(seq) \n",
        "# random.choice(x) выбирает в произвольном порядке один из элементов в последовательности, заданной в скобках, как аргумент метода\n",
        "# сохраним результат в переменную chosen_name (хорошо, когда названия переменных информативны)\n",
        "\n",
        "print(\"hello,\",chosen_name) \n",
        "# выводим на печать: фиксированную строку \"hello,\" и переменную, в которой результат выбора элемента из списка\n",
        "\n",
        "#запустите эту ячейку несколько раз, имена будут меняться"
      ],
      "execution_count": null,
      "outputs": [
        {
          "output_type": "stream",
          "text": [
            "hello, Alice\n"
          ],
          "name": "stdout"
        }
      ]
    },
    {
      "cell_type": "markdown",
      "metadata": {
        "id": "anf7YO01gIbP"
      },
      "source": [
        "## if (оператор ветвления) \n",
        "общая схема такая: сначала ```if``` с условным выражением, далее одна или более необязательных частей ```elif```, и в конце необязательная часть ```else```.\n",
        "\n",
        "\n",
        "    if test1:            # если условие1\n",
        "        state1           # выполни действие1\n",
        "    elif test2:          # если условие2\n",
        "        state2           # выполни действие2\n",
        "    else:                # в остальных случаях\n",
        "        state3           # выполни действие3"
      ]
    },
    {
      "cell_type": "code",
      "metadata": {
        "id": "qVgtREF7gKgT",
        "colab": {
          "base_uri": "https://localhost:8080/",
          "height": 51
        },
        "outputId": "7af0d239-0194-465b-fc0a-fb2886ff1c6d"
      },
      "source": [
        "# пример:\n",
        "inp = input(\"введите число, а я угадаю, четное оно или нет:\") # сохраняем в переменную значение, введенное с клавиатуры\n",
        "# функция input() выдает строки, а нам нужно для дальнейщих операций нужен тип данных \"число\". Преобразуем строку в число!\n",
        "inp = float(inp) # просто перезапишем переменную, применив к ней функцию float(). Она превращает числовую строку в число, и умеет работать с целыми и дробными\n",
        "\n",
        "# Дальше создадим условие:\n",
        "if inp%2 == 0: # если остаток от деления числа, сохранненного в inp на 2 равен нулю (т.е. если число делится на 2 без остатка)\n",
        "    print('да, число', inp,\"четное\") # выводим ответ: строки и переменную, где лежит наше число\n",
        "else: # в ином случае\n",
        "    print('число',inp, 'нечетное') # также выводим ответ: строки и переменную, где лежит наше число\n",
        "\n",
        "# Вопрос для размышлений: что будет, если мы можем введем в поле input строку с буквами или знаками препинания?"
      ],
      "execution_count": null,
      "outputs": [
        {
          "output_type": "stream",
          "text": [
            "введите число, а я угадаю, четное оно или нет:7\n",
            "число 7.0 нечетное\n"
          ],
          "name": "stdout"
        }
      ]
    },
    {
      "cell_type": "code",
      "metadata": {
        "id": "EdaYTFunmZTn",
        "colab": {
          "base_uri": "https://localhost:8080/",
          "height": 51
        },
        "outputId": "5e1b7728-f9db-46b1-f02e-5392752a4df6"
      },
      "source": [
        "# определитель усталости\n",
        "\n",
        "a = float(input('по шкале от 0 до 10, напишите, насколько Вы устали: '))\n",
        "if a < 0.7:\n",
        "    print('Кажется, Вы совсем не устали')\n",
        "elif 0.7 <= a <= 6.8:\n",
        "    print('Вы средненько устали')\n",
        "# более тонкая настройка?\n",
        "else:\n",
        "    print('Скорее идите отдыхать!')\n"
      ],
      "execution_count": null,
      "outputs": [
        {
          "output_type": "stream",
          "text": [
            "по шкале от 0 до 10, напишите, насколько Вы устали: 3\n",
            "Вы средненько устали\n"
          ],
          "name": "stdout"
        }
      ]
    },
    {
      "cell_type": "code",
      "metadata": {
        "id": "SUHa_7YVtGSq",
        "colab": {
          "base_uri": "https://localhost:8080/",
          "height": 51
        },
        "outputId": "7804a1eb-476d-4da5-8c17-15fd5750d80f"
      },
      "source": [
        "#короткий способ записать if\\else\n",
        "# действие1 если условие верно, иначе действие2\n",
        "x = input(\"какой кофе вы любите? \").lower().strip(\"!?,)(:;\\'\\\".\") # методами для строк нормализуем текст, убрав регистр и пунктуацию\n",
        "\n",
        "print(\"я тоже!\") if x in [\"американо\",\"латте\",\"колдбрю\"] else print(\"отличный выбор\")\n",
        "\n"
      ],
      "execution_count": null,
      "outputs": [
        {
          "output_type": "stream",
          "text": [
            "какой кофе вы любите? раф\n",
            "отличный выбор\n"
          ],
          "name": "stdout"
        }
      ]
    },
    {
      "cell_type": "markdown",
      "metadata": {
        "id": "GwBwQmwpxS3f"
      },
      "source": [
        "### Логические операторы: (True|False)\n",
        "\n",
        "```x and y```\n",
        "True, если оба значения x и y = True\n",
        "\n",
        "```x or y```\n",
        "True, если хотя бы одно из значений x или y = True\n",
        "\n",
        "```not x```\n",
        "True, если x = False\n",
        "\n",
        "\n",
        "True = 1\n",
        "False = 0"
      ]
    },
    {
      "cell_type": "markdown",
      "metadata": {
        "id": "5poDiBHfgLLW"
      },
      "source": [
        "## цикл while\n",
        "\n",
        "будет исполняться, пока условие = True"
      ]
    },
    {
      "cell_type": "markdown",
      "metadata": {
        "id": "YjtDPTnHeE_I"
      },
      "source": [
        ""
      ]
    },
    {
      "cell_type": "code",
      "metadata": {
        "id": "87cypz05gUlD",
        "colab": {
          "base_uri": "https://localhost:8080/",
          "height": 102
        },
        "outputId": "f7868dd4-c53b-417f-a942-018510d719fc"
      },
      "source": [
        "i = 5 # вне цикла создали переменную, равную 5\n",
        "while i < 15: # начало цикла: до тех пор, пока i меньше 15\n",
        "    print(i) # тело цикла: печатаем i\n",
        "    i = i + 2 # тело цикла: пересохраняем значение i, прибавив к нему 2, повторяем сначала"
      ],
      "execution_count": null,
      "outputs": [
        {
          "output_type": "stream",
          "text": [
            "5\n",
            "7\n",
            "9\n",
            "11\n",
            "13\n"
          ],
          "name": "stdout"
        }
      ]
    },
    {
      "cell_type": "markdown",
      "metadata": {
        "id": "W7UMswxs1-9M"
      },
      "source": [
        "будьте осторожны с условием ```while True: ```, это бесконечный цикл"
      ]
    },
    {
      "cell_type": "code",
      "metadata": {
        "id": "oXS40-lQ2HMA",
        "colab": {
          "base_uri": "https://localhost:8080/",
          "height": 34
        },
        "outputId": "855e7d3c-2d8a-4211-d319-0aabedf3e858"
      },
      "source": [
        "n = 0 # вне цикла создали переменную, равную 2\n",
        "while n !=1: # пока n не равно единице\n",
        "    print(n) # печатем n\n",
        "    n += 1 #прибавляем единицу, повторяем сначала\n",
        "\n",
        "# цикл будет бесконечным, т.к. мы начали с двойки и задали условие \"пока результат меньше единицы,увеличивай на 1\"\n",
        "\n",
        "#прервать выполнение можно, нажав на стоп"
      ],
      "execution_count": null,
      "outputs": [
        {
          "output_type": "stream",
          "text": [
            "0\n"
          ],
          "name": "stdout"
        }
      ]
    },
    {
      "cell_type": "markdown",
      "metadata": {
        "id": "F8B_SWjegVng"
      },
      "source": [
        "## цикл for\n",
        "\n",
        "проходится по любому итерируемому объекту (например строке или списку), выполняет заданное нами действие. Действие задается в **теле цикла**"
      ]
    },
    {
      "cell_type": "code",
      "metadata": {
        "id": "gQtQSDLpgXqb",
        "colab": {
          "base_uri": "https://localhost:8080/",
          "height": 221
        },
        "outputId": "730e5f24-3e9c-47cf-87af-005a4d707733"
      },
      "source": [
        "# детектор пробелов в тексте\n",
        "\n",
        "string = 'hello there!'\n",
        "for s in string:\n",
        "    print([s],s.isspace()) # метод из прошлого занятия, позволяет проверить символ, возвращает True или False"
      ],
      "execution_count": null,
      "outputs": [
        {
          "output_type": "stream",
          "text": [
            "['h'] False\n",
            "['e'] False\n",
            "['l'] False\n",
            "['l'] False\n",
            "['o'] False\n",
            "[' '] True\n",
            "['t'] False\n",
            "['h'] False\n",
            "['e'] False\n",
            "['r'] False\n",
            "['e'] False\n",
            "['!'] False\n"
          ],
          "name": "stdout"
        }
      ]
    },
    {
      "cell_type": "code",
      "metadata": {
        "id": "sljONgJC69cL",
        "colab": {
          "base_uri": "https://localhost:8080/",
          "height": 85
        },
        "outputId": "cedd5e08-0753-41d3-cc24-525132f728fa"
      },
      "source": [
        "# генератор фраз \n",
        "seq2 = ['boring', 'dangerous','sad','beautiful','silly','difficult'] #  создали список, сохранили в переменную\n",
        "\n",
        "for i in ['coffee','tea','wine','juice']: # для каждого элемента (i) в списке:\n",
        "    phrase = \"i never drink \"+ i +\" alone, because it's too\" \n",
        "    # сохраним в переменную phrase такую строку: \"i never drink \"+ элемент из списка +\" alone, because it's too\"\n",
        "    reason = random.choice(seq2) # сохраним в переменную reason рандомный выбор одного из элементов списка seq2\n",
        "    print(phrase,reason) "
      ],
      "execution_count": null,
      "outputs": [
        {
          "output_type": "stream",
          "text": [
            "i never drink coffee alone, because it's too boring\n",
            "i never drink tea alone, because it's too dangerous\n",
            "i never drink wine alone, because it's too beautiful\n",
            "i never drink juice alone, because it's too boring\n"
          ],
          "name": "stdout"
        }
      ]
    },
    {
      "cell_type": "markdown",
      "metadata": {
        "id": "EB34xQZ7cwAb"
      },
      "source": [
        "операторы break и continue\n",
        "\n",
        "\n",
        "<img class=\"fancybox-image\" src=\"http://labs-org.ru/wp-content/uploads/2016/05/1-6.png\">"
      ]
    },
    {
      "cell_type": "markdown",
      "metadata": {
        "id": "ssmN_-5pBGlU"
      },
      "source": [
        "оператор break - позволяет прервать цикл (работает для for и while)"
      ]
    },
    {
      "cell_type": "code",
      "metadata": {
        "id": "ziwXy_XcBFS3",
        "colab": {
          "base_uri": "https://localhost:8080/",
          "height": 34
        },
        "outputId": "2cbd0723-c6ff-4134-9ddc-d3c8044a42b5"
      },
      "source": [
        "seq2 = ['boring', 'dangerous','sad','beautiful','silly','difficult']\n",
        "\n",
        "for i in ['coffee','tea','wine','juice']:\n",
        "    i = \"i never drink \"+ i +\" alone, because it's too\"\n",
        "    print(i,random.choice(seq2))\n",
        "    break  # запустите ячейку сначала с этой строкой в виде комментария, а затем раскомментьте и запустите еще раз"
      ],
      "execution_count": null,
      "outputs": [
        {
          "output_type": "stream",
          "text": [
            "i never drink coffee alone, because it's too difficult\n"
          ],
          "name": "stdout"
        }
      ]
    },
    {
      "cell_type": "markdown",
      "metadata": {
        "id": "P30DWz1lBzFF"
      },
      "source": [
        "оператор continue - начинает следующий проход цикла, минуя оставшееся тело цикла (работает для for и while)"
      ]
    },
    {
      "cell_type": "code",
      "metadata": {
        "id": "__tAmgMdB0PA",
        "colab": {
          "base_uri": "https://localhost:8080/",
          "height": 34
        },
        "outputId": "a3e09964-db59-41cb-86c9-fd929bed9496"
      },
      "source": [
        "for i in 'hello world': # проходимся по всем элементам строки\n",
        "    if i == 'o': # если элемент == o, то возвращаемся к следующему, не выполняя остаток цикла для o\n",
        "        continue\n",
        "    print(i * 2, end='') #end означает, чем мы заканчиваем вывод строки - в данном случае, ничем (не переносом на следующую строку, как делается по умолчанию)"
      ],
      "execution_count": null,
      "outputs": [
        {
          "output_type": "stream",
          "text": [
            "hheellll  wwrrlldd"
          ],
          "name": "stdout"
        }
      ]
    },
    {
      "cell_type": "markdown",
      "metadata": {
        "id": "yo6HyYX6gI73"
      },
      "source": [
        "## бонус"
      ]
    },
    {
      "cell_type": "code",
      "metadata": {
        "id": "WGhh5EnSgx6P",
        "colab": {
          "base_uri": "https://localhost:8080/",
          "height": 68
        },
        "outputId": "2763175e-4540-4695-fe23-39d6d60d04e9"
      },
      "source": [
        "#@title сюрприз для гуру списков и циклов :) (кликните на ячейку два раза) { output-height: 10, display-mode: \"form\" }\n",
        "\n",
        "#@еще способ\n",
        "# еще один способ задать список - это использовать генератор списков, он же list comprehension\n",
        "cool_list = [i * 3 for i in 'hello']\n",
        "print(cool_list)\n",
        "\n",
        "# более сложные случаи\n",
        "new_fff = [c * 3 for c in 'list' if c != 'i']\n",
        "print(new_fff)\n",
        "\n",
        "new_ccc = [c + d for c in 'list' if c != 'i' for d in 'spam' if d != 'a']\n",
        "print(new_ccc)\n",
        "\n",
        "# # в сложных случаях лучше пользоваться обычным циклом for для генерации списков, он более читабельный"
      ],
      "execution_count": null,
      "outputs": [
        {
          "output_type": "stream",
          "text": [
            "['hhh', 'eee', 'lll', 'lll', 'ooo']\n",
            "['lll', 'sss', 'ttt']\n",
            "['ls', 'lp', 'lm', 'ss', 'sp', 'sm', 'ts', 'tp', 'tm']\n"
          ],
          "name": "stdout"
        }
      ]
    },
    {
      "cell_type": "markdown",
      "metadata": {
        "id": "ZCJWKHGVgY05"
      },
      "source": [
        "## homework\n",
        "\n",
        "Ниже представлены два варианта домашнего задания: easy mode и hard mode. Вы можете выбрать один из понравившихся (они оцениваются одинаково, без учета сложности). Hard mode создан для тех, кому может быть скучно с легкими заданиями."
      ]
    },
    {
      "cell_type": "markdown",
      "metadata": {
        "id": "npH9oiwdu8qi"
      },
      "source": [
        "###**easy** mode\n",
        "\n",
        "\n"
      ]
    },
    {
      "cell_type": "markdown",
      "metadata": {
        "id": "YJzLcQ97Z7_o"
      },
      "source": [
        "Задание 1: (условия if-elif-else)\n",
        "\n",
        "В ячейке ниже - код \"определителя усталости\" (мы разбирали его на паре). Сейчас он работает, но его можно улучшить: \n",
        "1.  добавьте условие, чтобы если пользователь вводит число больше 10, мы говорили ему, что так нельзя\n",
        "\n",
        "2. добавьте еще одно или два условия, чтобы датчик категорий усталости был еще точнее\n",
        "\n",
        "*Подсказка: может помочь нарисовать себе схему условий на бумаге*"
      ]
    },
    {
      "cell_type": "code",
      "metadata": {
        "id": "i6qZ_C4YgfCz",
        "colab": {
          "base_uri": "https://localhost:8080/",
          "height": 51
        },
        "outputId": "30223cc7-1cd4-4090-e33c-212f32c352e2"
      },
      "source": [
        "# определитель усталости\n",
        "\n",
        "a = float(input('по шкале от 0 до 10, напишите, насколько Вы устали: '))\n",
        "if 0 <= a < 0.7:\n",
        "    print('Кажется, Вы совсем не устали')\n",
        "elif 0.7 <= a <= 6.8:\n",
        "    print('Вы средненько устали')\n",
        "# Ваш код дальше:\n",
        "elif 6.8 < a <= 10:\n",
        "    print('Вы сильно устали')\n",
        "else:\n",
        "    print('Вы ввели что-то не то')\n"
      ],
      "execution_count": null,
      "outputs": [
        {
          "output_type": "stream",
          "text": [
            "по шкале от 0 до 10, напишите, насколько Вы устали: -1\n",
            "Вы ввели что-то не то\n"
          ],
          "name": "stdout"
        }
      ]
    },
    {
      "cell_type": "markdown",
      "metadata": {
        "id": "IDFL32t-cA5I"
      },
      "source": [
        "Задание 2: (цикл while)\n",
        "\n",
        "a) Напишите код, который будет считать от 100 до 0 с шагом в 10и выводом промежуточных результатов на экран (то есть, 100-90-80-70...10-0). Когда дойдет до финиша, на экран должно выводиться сообщение, что программа завершилась. (здесь вам поможет ```print()``` )\n",
        "\n",
        "*Подсказка: вне цикла создайте переменную, равную 100, а в цикле цикле задайте шаг. Не забудьте про вывод результата о завершении работы* "
      ]
    },
    {
      "cell_type": "code",
      "metadata": {
        "id": "4-xQGvXNEbr0",
        "colab": {
          "base_uri": "https://localhost:8080/",
          "height": 221
        },
        "outputId": "61d1e419-cb60-43e7-d379-a6c8ba11d5d4"
      },
      "source": [
        "# Ваш код: \n",
        "i = 100\n",
        "while i >= 0:\n",
        "    print(i)\n",
        "    i -= 10\n",
        "print('That\\'s it')"
      ],
      "execution_count": null,
      "outputs": [
        {
          "output_type": "stream",
          "text": [
            "100\n",
            "90\n",
            "80\n",
            "70\n",
            "60\n",
            "50\n",
            "40\n",
            "30\n",
            "20\n",
            "10\n",
            "0\n",
            "That's it\n"
          ],
          "name": "stdout"
        }
      ]
    },
    {
      "cell_type": "markdown",
      "metadata": {
        "id": "40PLtt0WQNGh"
      },
      "source": [
        "Задача 3 (модуль random и операции со строками)\n",
        "\n",
        "программа \"миллион причин остаться дома\" выбирает причину, почему наш герой(или героиня) не идет на работу. В переменной excuses есть заданный список причин (Вы можете его расширить, по желанию: вручную или методом ```.append()``` ). Методом ```random.choice()``` нам нужно выбрать одну из них и вывести на печать вместе с фиксированной фразой.\n",
        "\n",
        "Наша программа должна выбрать причину и напечатать сообщение: \"Сегодня я не иду на работу, потому что\" и причину. "
      ]
    },
    {
      "cell_type": "code",
      "metadata": {
        "id": "aZzK4CieQNpN",
        "colab": {
          "base_uri": "https://localhost:8080/",
          "height": 34
        },
        "outputId": "f8244908-755e-41d8-f969-1aba5ab93bfa"
      },
      "source": [
        "import random\n",
        "excuses = [\"я устал\",\"я улетел к океану\",\"на улице холодно\",\"на улице жарко\", #мы можем переносить строки, пока в списке! \n",
        "           \"я в отпуске\",\"у меня день рождения\",\"сегодня выходной\",\"мне надоело\",\n",
        "           \"я работаю из дома\",\"могу\",\"плохо себя чувствую\",\"не хочу\", \"у меня лапки\",\"я в отпуске!\",\n",
        "           \"на улице ураган\"]\n",
        "# Ваш код:\n",
        "excuses.append(\"меркурий ретроградный\")\n",
        "why = random.choice(excuses)\n",
        "print(\"Сегодня я не иду на работу, потому что\", why)"
      ],
      "execution_count": null,
      "outputs": [
        {
          "output_type": "stream",
          "text": [
            "Сегодня я не иду на работу, потому что не хочу\n"
          ],
          "name": "stdout"
        }
      ]
    },
    {
      "cell_type": "markdown",
      "metadata": {
        "id": "6qrjVJlLccbT"
      },
      "source": [
        "### **hard** mode\n",
        "\n",
        "\n",
        "\n",
        "(если предыдущий вариант кажется скучным/ простым, и вы уже знаете про циклы for и операторы break/continue)\n",
        "\n",
        "Задача 1 определитель делимости числа на 5\n",
        "\n",
        "Напишите код, который проверяет делимость числа на 5. Числа нужно выбрать из списка. Если число делится, алгоритм должен выйти из цикла и вывести на экран искомое число и строку \"делится на 5\". Если не делится, выводим на экран \"это не делится на 5, продолжим поиск\". Продолжаем пока не найдем такое, которое бы делилось. Проверяя числа на делимость, алгоритм также должен игнорировать число 45, не прервав на нем цикл."
      ]
    },
    {
      "cell_type": "code",
      "metadata": {
        "id": "Pk0L9hbxcg_j",
        "colab": {
          "base_uri": "https://localhost:8080/",
          "height": 136
        },
        "outputId": "f6be6cc4-f9d5-4b9e-9de4-40d947188b04"
      },
      "source": [
        "numbers = [2,6,7,45,1,89,678,35]\n",
        "\n",
        "# Ваш код\n",
        "for i in numbers:\n",
        "    if i%5 != 0:\n",
        "        print(i, \"не делится на 5, продолжим поиск\")\n",
        "        continue\n",
        "    if i==45:\n",
        "        continue\n",
        "    print(i, \"делится на 5\")\n",
        "    break\n",
        "\n"
      ],
      "execution_count": null,
      "outputs": [
        {
          "output_type": "stream",
          "text": [
            "2 не делится на 5, продолжим поиск\n",
            "6 не делится на 5, продолжим поиск\n",
            "7 не делится на 5, продолжим поиск\n",
            "1 не делится на 5, продолжим поиск\n",
            "89 не делится на 5, продолжим поиск\n",
            "678 не делится на 5, продолжим поиск\n",
            "35 делится на 5\n"
          ],
          "name": "stdout"
        }
      ]
    },
    {
      "cell_type": "markdown",
      "metadata": {
        "id": "fHRyAz5ah2GG"
      },
      "source": [
        "Задача 2: робот, выбирающий пользователю коктейль:\n",
        "\n",
        "Представьте, что Вы разрабатываете (фрагмент) электронного помощника для ресторана. \n",
        "\n",
        "У Вас есть список коктейлей, где каждый коктейль представлен в виде списка ингридиентов. (у нас получается список списков). Программа рандомным образом должна выбрать один из коктейлей (т.е. один из списков в общем списке) и вывести на экран сообщение: \"Сегодня в вашем коктейле будет: \" и сам список ингридиентов\n",
        "\n",
        "Но есть одно условие: в некоторые из списков по ошибке попал \"лосось\" (может, его добавил незадачливый стажер-ассистент). Строку \"лосось\" нужно убрать *(здесь вам поможет один метод работы со списками)* ,но так как лосось есть не везде, нужно предварительно проверить его наличие в списке.\n",
        "\n",
        "Если можете, запишите проверку на наличие лосося и его последующее удаление из ингридиентов в виде list comprehension.\n",
        "\n",
        "Удачи!\n",
        "\n",
        "**Подсказка:** чтобы успешно свернуть цикл в list comprehension, попробуйте сначала написать цикл построчно, в классическом виде. Запустите его, проверьте, что все работает как надо. Если все хорошо, можно сворачивать. [Вот здесь](https://www.pythonforbeginners.com/basics/list-comprehensions-in-python) подсказка синтаксиса \n",
        "\n",
        "\n",
        "\n"
      ]
    },
    {
      "cell_type": "code",
      "metadata": {
        "id": "3Il9qv3OfoBD",
        "colab": {
          "base_uri": "https://localhost:8080/",
          "height": 34
        },
        "outputId": "a2f18ab2-befe-496b-d1d1-f630605c12e0"
      },
      "source": [
        "import random\n",
        "\n",
        "cocktails = [[\"мартини\",\"грейпфрутовый сок\",\"жасмин\",\"тоник\",\"лосось\"],\n",
        "               [\"клубника\",\"какао\",\"мята\",\"марсала\"],\n",
        "               [\"водка\",\"томатный сок\",\"лимонный сок\",\"вустерширский соус\",\"черный перец\",\"сельдерей\",\"лосось\"],\n",
        "               [\"джин\",\"вермут\",\"ликер мараскино\",\"апельсины\",\"коктейльная вишня\",\"лосось\"],\n",
        "               [\"ром\",\"авокадо\",\"сахарный сироп\",\"сливки\",\"лимонный сок\",\"лед\"],\n",
        "               [\"красный вермут\",\"тоник\",\"апельсины\",\"лосось\"],\n",
        "               [\"только чай\"]\n",
        "        ]\n",
        "\n",
        "#Ваш код\n",
        "drink = random.choice(cocktails)\n",
        "ingredients = [d for d in drink if d != \"лосось\"]\n",
        "print(\"Сегодня в вашем коктейле будет: \", end='')\n",
        "ind = 0\n",
        "last = len(ingredients) - 1\n",
        "for i in ingredients:\n",
        "    x = ingredients[ind]\n",
        "    print(x+\", \", end='') if ind != last else print(x)\n",
        "    ind += 1\n",
        "  \n"
      ],
      "execution_count": null,
      "outputs": [
        {
          "output_type": "stream",
          "text": [
            "Сегодня в вашем коктейле будет: водка, томатный сок, лимонный сок, вустерширский соус, черный перец, сельдерей\n"
          ],
          "name": "stdout"
        }
      ]
    },
    {
      "cell_type": "code",
      "metadata": {
        "id": "K6IjDz4giUMC"
      },
      "source": [
        ""
      ],
      "execution_count": null,
      "outputs": []
    }
  ]
}