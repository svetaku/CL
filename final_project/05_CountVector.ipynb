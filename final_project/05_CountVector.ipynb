{
 "cells": [
  {
   "cell_type": "code",
   "execution_count": 1,
   "metadata": {},
   "outputs": [],
   "source": [
    "from sklearn.feature_extraction.text import TfidfVectorizer, CountVectorizer\n",
    "from sklearn.feature_extraction import text\n",
    "import pandas as pd\n",
    "import re\n",
    "from nltk.tokenize import word_tokenize\n",
    "from nltk.stem import WordNetLemmatizer\n",
    "import numpy as np  \n",
    "stemmer = WordNetLemmatizer()\n",
    "import spacy\n",
    "from nltk.corpus import stopwords\n",
    "import torch\n",
    "import tensorflow\n",
    "from sklearn.metrics.pairwise import cosine_similarity\n",
    "import string \n",
    "import random\n",
    "import nltk"
   ]
  },
  {
   "cell_type": "code",
   "execution_count": 2,
   "metadata": {},
   "outputs": [],
   "source": [
    "import spacy\n",
    "nlp = spacy.load('en_core_web_sm')\n",
    "nlp.max_length = 2100000"
   ]
  },
  {
   "cell_type": "code",
   "execution_count": 3,
   "metadata": {},
   "outputs": [],
   "source": [
    "def preprocess_text(item):\n",
    "    item = re.sub(r\"\\d+%\", \" \", item)\n",
    "    item = re.sub(r\"x\\d+\", \" \", item)\n",
    "    item = re.sub(r\"\\d+\", \" \", item)\n",
    "    item = re.sub(r\"\\n\", \" \", item)\n",
    "    item = re.sub(r\"\\[.+\\]\", \" \", item)\n",
    "    item = re.sub(r\"\\\\+.+;\", \" \", item)\n",
    "    item = re.sub(r\"http.+\", \" \", item)\n",
    "    item = re.sub(r\"\\{.*\\}\", \" \", item)\n",
    "    item = re.sub(r\" [xX] \", \" \", item)\n",
    "    item = re.sub(r\"%[sd]\", \" \", item)\n",
    "    item = re.sub(r\"<.+>\", \" \", item)\n",
    "    item = re.sub(r\"[\\U00010000-\\U0010ffff]\", \" \", item)\n",
    "    item = re.sub(r\"[!@#$%\\^\\&\\*()_=+\\?\\!:;\\\",\\.\\\\»«—✨]\", \" \", item)\n",
    "    item = re.sub(r\"\\s+\", \" \", item)\n",
    "    item = item.strip(' ')\n",
    "    item = item.lower()\n",
    "    \n",
    "    tokens = item.split()\n",
    "    tokens = [nlp(word)[0].lemma_ if word != \"flowerbed\" else \"flowerbed\" for word in tokens]\n",
    "    tokens = [word for word in tokens if word not in stopwords.words('english')]\n",
    "    preprocessed_text = ' '.join(tokens)\n",
    "\n",
    "    return preprocessed_text"
   ]
  },
  {
   "cell_type": "code",
   "execution_count": 7,
   "metadata": {},
   "outputs": [],
   "source": [
    "data = pd.read_csv('pi2.csv', sep=';', low_memory=False)\n",
    "data = data[['string_id','Russian', 'English']]\n",
    "index_names = data[data['Russian'].str.contains(\"тест\" or \"test\")==True].index\n",
    "data.drop(index_names, inplace = True)\n",
    "data = data.dropna()\n",
    "data = data.drop_duplicates()\n",
    "data = data[data.Russian != data.English]\n",
    "index_names2 = data[data['string_id'].str.contains(\"achieve\", \"title\") ==True].index\n",
    "data.drop(index_names2, inplace = True)\n",
    "data = data[['Russian', 'English']].drop_duplicates()\n",
    "data_en = data['English'].tolist()\n",
    "final_corpus = [preprocess_text(sentence) for sentence in data_en if len(sentence) <= 80 and len(sentence) > 0]"
   ]
  },
  {
   "cell_type": "code",
   "execution_count": 9,
   "metadata": {},
   "outputs": [],
   "source": [
    "data_str = ' '.join(final_corpus)"
   ]
  },
  {
   "cell_type": "code",
   "execution_count": 10,
   "metadata": {},
   "outputs": [],
   "source": [
    "nlp = spacy.load('en_core_web_sm')\n",
    "nlp.max_length = 2100000\n",
    "doc = nlp(data_str)"
   ]
  },
  {
   "cell_type": "code",
   "execution_count": 11,
   "metadata": {},
   "outputs": [],
   "source": [
    "nouns = set()\n",
    "for token in doc:\n",
    "    if token.pos_ == \"NOUN\":\n",
    "        nouns.add(token.lemma_)"
   ]
  },
  {
   "cell_type": "code",
   "execution_count": 17,
   "metadata": {
    "scrolled": true
   },
   "outputs": [
    {
     "name": "stdout",
     "output_type": "stream",
     "text": [
      "{'figure', 'handle', 'grow', 'click', 'solve', 'mind', 'florist', 'mask', 'generate', 'herme', 'bring', 'say', 'cover', 'change', 'coordinate', 'legend', 'flowerbe', 'dedicate', 'splendid', 'edge', 'inform', 'create', 'splurge', 'multicolore', 'live', 'crowd', 'approve', 'fire', 'nip', 'view', 'collapse', 'plan', 'egypt', 'envy', 'remind', 'summon', 'unlock', 'fly', 'eek', 'wave', 'ultraoffer', 'let', 'come', 'explode', 'distract', 'bet', 'abandon', 'bloom', 'stabilize', 'mess', 'bite', 'earn', 'fun', 'facebook', 'arrrghh', 'swat', 'bear', 'gurgle', 'harm', 'read', 'advance', 'amphitheater', 'smell', 'draw', 'nova', 'call', 'access', 'pose', 'jump', 'strengthen', 'know', 'sail', 'coffer', 'root', 'tell', 'flatter', 'exchange', 'apply', 'fish', 'elsa', 'invite', 'champion', 'dolphin', 'moor', 'envelope', 'weep', 'donate', 'rise', 'avoid', 'microphone', 'scare', 'apologize', 'fall', 'run', 'protect', 'intrigue', 'wanna', 'rate', 'wonder', 'repel', 'slip', 'remain', 'mistake', 'arrive', 'appear', 'hunt', 'sample', 'toadstool', 'deliver', 'set', 'skill', 'settle', 'need', 'explore', 'behave', 'tornado', 'expect', 'trick', 'bestow', 'talk', 'menace', 'windowe', 'bliss', 'island', 'realize', 'prohibit', 'erm', 'blink', 'party', 'dive', 'communicate', 'resort', 'drive', 'pink', 'twitch', 'reset', 'allow', 'symbol', 'windmill', 'warehouse', 'limit', 'warn', 'explain', 'snowflake', 'feel', 'carousel', 'statuette', 'cute', 'cake', 'january', 'try', 'хiii', 'catnip', 'watch', 'jay', 'decide', 'manage', 'list', 'burst', 'his', 'brighten', 'dig', 'suppose', 'quasar', 'hide', 'prove', 'trace', 'sort', 'grant', 'show', 'look', 'bleakest', 'leave', 'confirm', 'level', 'develop', 'cheat', 'terrify', 'take', 'remove', 'suffer', 'limp', 'bungalow', 'fix', 'update', 'reward', 'lantern', 'trip', 'timber', 'finish', 'goblet', 'effect', 'start', 'attend', 'stand', 'assure', 'meet', 'push', 'remember', 'alarm', 'jade', 'learn', 'love', 'arrange', 'register', 'spring', 'hang', 'kick', 'defeat', 'compete', 'hurry', 'parasol', 'sneak', 'entertain', 'word', 'gift', 'continue', 'volcano', 'disappear', 'superhero', 'chance', 'clown', 'mix', 'pay', 'sit', 'focus', 'jessica', 'shortcut', 'bore', 'chill', 'hourglass', 'congratulate', 'watchyerhead', 'combine', 'merry', 'pass', 'map', 'ghost', 'guest', 'abyss', 'reword', 'progress', 'deduction', 'operate', 'rainbow', 'octopi', 'eve', 'conor', 'assign', 'starve', 'urchin', 'deed', 'toss', 'point', 'frighten', 'punch', 'listen', 'feed', 'note', 'scientist', 'wooo', 'load', 'photograph', 'luck', 'add', 'ufo', 'haunt', 'forget', 'suit', 'wake', 'welcome', 'leprechaun', 'milkshake', 'obey', 'invent', 'drain', 'reach', 'sound', 'nirvana', 'end', 'awaken', 'replace', 'teach', 'approach', 'seem', 'band', 'restore', 'decrease', 'sle', 'handbook', 'ruin', 'tiss', 'contest', 'relocate', 'pick', 'seawee', 'match', 'demolish', 'shower', 'tomb', 'glorify', 'yaaap', 'waste', 'tap', 'hotel', 'kid', 'deflate', 'birdie', 'jar', 'eat', 'enter', 'characte', 'join', 'begin', 'wish', 'sinister', 'dispel', 'hope', 'exceed', 'tick', 'pizzeria', 'shine', 'grab', 'joke', 'write', 'destroy', 'oscar', 'speak', 'quit', 'count', 'tangle', 'promise', 'achieve', 'carry', 'increase', 'sing', 'head', 'paint', 'swim', 'blow', \"vyn'nan\", 'forgive', 'belong', 'detective', 'establish', 'ensure', 'rotate', 'share', 'trade', 'repeat', 'cocktail', 'serve', 'purchase', 'admit', 'lee', 'lose', 'trust', 'sentient', 'win', 'crystal', 'keep', 'kiss', 'repair', 'part', 'homesick', 'sprinkle', 'universe', 'exist', 'embody', 'dessert', 'charge', 'care', 'craft', 'wait', 'spread', 'clean', 'refuse', 'signify', 'roll', 'put', 'sure', 'stamp', 'diary', 'smile', 'rank', 'incorporate', 'guarantee', 'xxxii', 'await', 'wildle', 'visit', 'sell', 'differ', 'curse', 'discover', 'ranch', 'muffin', 'eureka', 'consider', 'beach', 'recognize', 'piastrrre', 'cut', 'use', 'occur', 'neil', 'present', 'shave', 'identify', 'conduct', 'hold', 'shout', 'retire', 'recommend', 'paradise', 'beagle', 'dingy', 'miss', 'hate', 'pawson', 'bake', 'hear', 'search', 'pancake', 'move', 'jellyfish', 'walk', 'harry', 'raise', 'refresh', 'summit', 'achievement', 'provide', 'require', 'naphertiti', 'regain', 'meteorite', 'invest', 'butterfly', 'sabrina', 'connect', 'reinforce', 'examine', 'accept', 'drink', 'emanate', 'understand', 'robinson', 'spirit', 'invoke', 'taste', 'pluck', 'wipe', 'suitcase', 'holler', 'award', 'worry', 'sense', 'recruit', 'animal', 'receive', 'expire', 'hire', 'perform', 'capture', 'deal', 'believe', 'boost', 'rid', 'wicke', 'bash', 'check', 'fit', 'pack', 'step', 'reveal', 'include', 'return', 'disperse', 'shovel', 'lock', 'see', 'travel', 'stir', 'imagine', 'sloth', 'cheek', 'hand', 'doubt', 'indicate', 'construct', 'clovercoin', 'throw', 'surround', 'wrap', 'app', 'provider', 'offer', 'activate', 'banish', 'turn', 'santa', 'goldfish', 'capricorn', 'glow', 'represent', 'promote', 'order', 'tulip', 'dumbbell', 'princess', 'cancel', 'store', 'concentrate', 'perfect', 'celebrate', 'agree', 'reload', 'nightmare', 'benefit', 'harvest', 'shell', 'enjoy', 'drop', 'result', 'complete', 'regret', 'laugh', 'sorry', 'cook', 'defend', 'soak', 'sleep', 'dream', 'last', 'wet', 'deserve', 'trap', 'fork', 'magic', 'face', 'find', 'grandpa', 'install', 'collect', 'ken', 'ask', 'bother', 'great', 'spell', 'swear', 'send', 'relax', 'spend', 'feng', 'reduce', 'mermaid', 'help', 'maintain', 'accumulate', 'symbolize', 'select', 'stop', 'determine', 'gear', 'place', 'argh', 'thank', 'captain', 'improve', 'buy', 'attract', 'egyptologist', 'hall', 'stay', 'wear', 'die', 'study', 'produce', 'world', 'claim', 'xtravagan', 'fear', 'earieniel', 'skip', 'guess', 'happen', 'sleigh', 'beat', 'shy', 'prepare', 'like', 'crater', 'upset', 'raft', 'mark', 'kraken', 'save', 'gixoko', 'scan', 'freeze', 'score', 'bobbidi', 'chew', 'convention', 'amaze', 'decorate', 'sweat', 'accessory', 'portrait', 'greet', 'chest', 'malfunction', 'interact', 'parrot', 'attempt', 'siesta', 'towel', 'break', 'open', 'choose', 'specialize', 'answer', 'ook', 'unite', 'spa', 'treat', 'become', 'obtain', 'fountain', 'invigorate', 'crack', 'requite', 'melt', 'play', 'execute', 'thrive', 'stick', 'lecture', 'crab', 'foot', 'naomi', 'bibbidi', 'marry', 'hit', 'occupy', 'knock', 'dorin', 'inn', 'demand', 'untangle', 'hatch', 'express', 'strive', 'satisfy', 'flower', 'outplay', 'hurt', 'pillow', 'eco', 'cast', 'sub', 'fill', 'earthle', 'get', 'bit', 'restart', 'mano', 'compensate', 'parade', 'work', 'ride', 'build', 'fight', 'laborer', 'dare', 'contain', 'seahorse', 'piñata', 'extend', 'knot', 'lie', 'speed', 'mega', 'xviii', 'renovate', 'pirate', 'make', 'catch', 'fail', 'flutter', 'sunshine', 'organize', 'top', 'secretive', 'want', 'burn', 'appreciate', 'horrify', 'alice', 'steal', 'chase', 'upgrade', 'façade', 'phd', 'desk', 'prevent', 'cool', 'winterbell', 'assort', 'quest', 'supervise', 'mean', 'dress', 'dao', 'suggest', 'train', 'olivia', 'jewel', 'guide', 'buckingham', 'gon', 'fetch', 'cry', 'blini', 'chuck', 'follow', 'give', 'surprise', 'chat', 'conquer', 'challenge', 'crate', 'sneeze', 'declare', 'bridge', 'expand', 'pause', 'creepy', 'think', 'poach', 'roger', 'gather', 'cuddle', 'wander', 'pioneer', 'patch', 'adrift', 'blast', 'gain', 'participate', 'kansa', 'complicate'}\n"
     ]
    }
   ],
   "source": [
    "verbs = set()\n",
    "for token in doc:\n",
    "    if token.pos_ == \"VERB\":\n",
    "        if token.text != \"\\'ve\" and token.text != \"s\" and token.text != \"\\'m\" and token.text != \"\\'re\":\n",
    "            if len(token.text) > 2:\n",
    "                verbs.add(token.lemma_)"
   ]
  },
  {
   "cell_type": "code",
   "execution_count": 45,
   "metadata": {},
   "outputs": [],
   "source": [
    "all_pos = nouns.union(verbs)"
   ]
  },
  {
   "cell_type": "code",
   "execution_count": 19,
   "metadata": {},
   "outputs": [],
   "source": [
    "stop_words = \"english\"\n",
    "\n",
    "# Extract candidate words/phrases\n",
    "count = TfidfVectorizer(min_df = 5, stop_words=stop_words).fit(final_corpus)\n",
    "bag_of_words = count.transform(final_corpus)\n",
    "sum_words = bag_of_words.sum(axis=0)\n",
    "words_freq = [(word, sum_words[0, idx]) for word, idx in count.vocabulary_.items()]\n",
    "words_freq =sorted(words_freq, key = lambda x: x[1], reverse=True)\n",
    "all_candidates = []\n",
    "for item in words_freq[:700]:\n",
    "    all_candidates.append(item[0])"
   ]
  },
  {
   "cell_type": "code",
   "execution_count": null,
   "metadata": {},
   "outputs": [],
   "source": [
    "candidates = [x for x in all_candidates in x in nouns]\n",
    "candidates2 = [x for x in all_candidates in x in verbs]\n",
    "keywords = set(candidates + candidates2)"
   ]
  },
  {
   "cell_type": "code",
   "execution_count": 23,
   "metadata": {},
   "outputs": [
    {
     "name": "stdout",
     "output_type": "stream",
     "text": [
      "{'sky', 'grow', 'click', 'florist', 'development', 'beauty', 'renaissance', 'bring', 'say', 'change', 'item', 'test', 'legend', 'guy', 'calm', 'reserve', 'hologram', 'adventure', 'dynamite', 'stone', 'frost', 'earth', 'create', 'water', 'patrick', 'tonic', 'live', 'demolition', 'plan', 'truck', 'championship', 'friendship', 'road', 'shuttle', 'remind', 'summon', 'unlock', 'fly', 'traveler', 'palace', 'bakery', 'wave', 'eek', 'preparation', 'research', 'come', 'let', 'shaman', 'piggy', 'diner', 'device', 'abandon', 'plantation', 'club', 'spider', 'building', 'century', 'bite', 'pet', 'earn', 'fun', 'facebook', 'giraffe', 'market', 'player', 'breath', 'bear', 'mood', 'black', 'read', 'refill', 'smell', 'draw', 'museum', 'access', 'sand', 'opportunity', 'cream', 'game', 'know', 'badge', 'bunch', 'money', 'battle', 'bouncy', 'coffer', 'diving', 'cart', 'tell', 'unioner', 'operation', 'power', 'rescue', 'feature', 'fish', 'enlightenment', 'invite', 'champion', 'monkey', 'dolphin', 'fairy', 'boutique', 'maximum', 'sphere', 'snow', 'man', 'swing', 'surf', 'task', 'scare', 'goal', 'rock', 'fall', 'run', 'victory', 'wonder', 'dog', 'rate', 'king', 'archeologist', 'tasty', 'mistake', 'castle', 'arrive', 'hunt', 'portal', 'energy', 'quantum', 'flag', 'robot', 'snowball', 'set', 'toadstool', 'mini', 'entertainment', 'need', 'attraction', 'request', 'cruise', 'trick', 'coconut', 'talk', 'bunche', 'island', 'cloud', 'party', 'cost', 'fruit', 'resort', 'pink', 'rating', 'harmony', 'union', 'symbol', 'collection', 'windmill', 'warehouse', 'tool', 'dinner', 'limit', 'window', 'electricity', 'snowflake', 'cabin', 'feel', 'statuette', 'recipe', 'cake', 'cute', 'amour', 'try', 'jay', 'watch', 'miracle', 'book', 'manage', 'queen', 'halloween', 'bunny', 'list', 'elite', 'opponent', 'birthday', 'paper', 'log', 'tour', 'idea', 'recreation', 'turtle', 'embassy', 'hide', 'fortune', 'combination', 'expert', 'ultrabonus', 'look', 'enemy', 'leave', 'chapter', 'oak', 'level', 'super', 'confirm', 'discount', 'remove', 'tom', 'action', 'strawberry', 'bungalow', 'talisman', 'update', 'reward', 'lantern', 'medium', 'finish', 'meyer', 'lover', 'effect', 'start', 'congratulation', 'boom', 'max', 'sign', 'dark', 'barrel', 'meet', 'golem', 'snatchin', 'meow', 'learn', 'love', 'spring', 'lamp', 'defeat', 'mr', 'hurry', 'word', 'ha', 'gift', 'battery', 'continue', 'business', 'chance', 'pay', 'slot', 'red', 'aquarium', 'panda', 'people', 'space', 'hourglass', 'merry', 'grand', 'bug', 'map', 'ghost', 'guest', 'leopard', 'brush', 'ad', 'starfish', 'chocolate', 'progress', 'letter', 'pepper', 'rainbow', 'vine', 'forest', 'claus', 'deed', 'point', 'feed', 'kettlebell', 'luxury', 'video', 'scientist', 'tropic', 'card', 'wooo', 'arrival', 'hahaha', 'load', 'ocean', 'luck', 'today', 'mouse', 'add', 'construction', 'forget', 'consumption', 'icon', 'teddy', 'welcome', 'leprechaun', 'way', 'dwarf', 'case', 'reach', 'joy', 'sound', 'type', 'end', 'restore', 'ruin', 'honey', 'middle', 'moon', 'sandy', 'contest', 'pick', 'cheer', 'match', 'eye', 'demolish', 'nature', 'resource', 'villa', 'jack', 'excellent', 'science', 'tutorial', 'tap', 'hotel', 'jar', 'enter', 'eat', 'join', 'monument', 'begin', 'yacht', 'wish', 'sinister', 'attention', 'hope', 'jam', 'shine', 'booster', 'destroy', 'write', 'count', 'vi', 'balance', 'technician', 'treasure', 'increase', 'cupid', 'head', 'paint', 'blow', 'detective', 'leader', 'keeper', 'pub', 'trade', 'share', 'temple', 'health', 'cocktail', 'purchase', 'medal', 'field', 'group', 'egg', 'sunset', 'builder', 'lose', 'statue', 'fan', 'ring', 'picture', 'damage', 'farming', 'story', 'win', 'crystal', 'repair', 'universe', 'night', 'meditation', 'solo', 'dessert', 'turkey', 'care', 'number', 'charge', 'craft', 'wait', 'mile', 'shark', 'clean', 'factory', 'wind', 'information', 'sure', 'stamp', 'diary', 'strike', 'float', 'tourist', 'smile', 'rank', 'minute', 'wrong', 'conveyor', 'piece', 'park', 'await', 'visit', 'competition', 'prize', 'micro', 'sell', 'winner', 'year', 'witch', 'hearty', 'beach', 'easterson', 'recognize', 'weapon', 'future', 'cut', 'course', 'use', 'present', 'basket', 'hold', 'hammer', 'paradise', 'dance', 'mystery', 'rub', 'miss', 'heart', 'pyramid', 'bouquet', 'hill', 'search', 'hear', 'st', 'room', 'jellyfish', 'walk', 'center', 'stuff', 'refresh', 'achievement', 'vii', 'require', 'sabrina', 'butterfly', 'delicious', 'sea', 'aurum', 'connect', 'baby', 'accept', 'emerald', 'tablet', 'workshop', 'cat', 'comfort', 'music', 'drink', 'evening', 'spirit', 'time', 'cha', 'pumpkin', 'taste', 'suitcase', 'close', 'animal', 'liberty', 'worker', 'package', 'receive', 'hire', 'bamboo', 'boat', 'lot', 'deal', 'believe', 'alright', 'plant', 'tree', 'bitey', 'check', 'bank', 'pack', 'step', 'fit', 'bonus', 'speedboat', 'combo', 'glass', 'sculpture', 'return', 'travel', 'lock', 'launch', 'lightning', 'rocket', 'snack', 'sale', 'error', 'income', 'design', 'hand', 'content', 'race', 'cozy', 'construct', 'air', 'throw', 'winter', 'grape', 'pizza', 'news', 'ball', 'day', 'vase', 'christma', 'offer', 'sanctuary', 'mastery', 'fund', 'banish', 'activate', 'turn', 'santa', 'ranking', 'station', 'inspiration', 'goody', 'unit', 'sam', 'professor', 'disco', 'hero', 'tulip', 'master', 'monster', 'princess', 'cancel', 'summer', 'store', 'lesson', 'matter', 'seeker', 'perfect', 'celebrate', 'salon', 'cracker', 'thing', 'farmer', 'tent', 'panther', 'memory', 'harvest', 'shell', 'residence', 'hat', 'min', 'coral', 'drop', 'enjoy', 'kitty', 'dragon', 'pro', 'complete', 'banana', 'giant', 'house', 'result', 'duel', 'cook', 'tab', 'requirement', 'dream', 'laugh', 'slice', 'life', 'happiness', 'key', 'season', 'magic', 'clockwork', 'wealth', 'stock', 'face', 'turtilliada', 'grandpa', 'internet', 'collect', 'ask', 'past', 'sun', 'spell', 'autumn', 'candle', 'haha', 'great', 'send', 'bandage', 'coffee', 'process', 'rhee', 'spend', 'bird', 'gallery', 'real', 'reduce', 'help', 'box', 'café', 'xiv', 'accumulate', 'select', 'stop', 'gear', 'place', 'ally', 'twilight', 'captain', 'thank', 'jungle', 'improve', 'buy', 'attract', 'bar', 'explosion', 'hall', 'stay', 'ship', 'fame', 'zombie', 'home', 'elf', 'easter', 'world', 'restaurant', 'produce', 'claim', 'planet', 'alien', 'happen', 'kit', 'grain', 'feeling', 'generator', 'prepare', 'project', 'like', 'moment', 'vampire', 'thanksgive', 'planner', 'mark', 'wondershop', 'glory', 'save', 'spooky', 'area', 'gold', 'cub', 'fennec', 'creation', 'row', 'score', 'message', 'leaderboard', 'coin', 'sidney', 'convention', 'decorate', 'purr', 'hooray', 'accessory', 'toy', 'citadel', 'greet', 'chest', 'passion', 'ear', 'architect', 'right', 'parrot', 'attempt', 'event', 'blueprint', 'feather', 'break', 'open', 'choose', 'profit', 'festival', 'territory', 'treat', 'press', 'obtain', 'fountain', 'shop', 'coupon', 'invitation', 'independence', 'team', 'play', 'stick', 'royal', 'naomi', 'hit', 'athlete', 'dorin', 'inn', 'star', 'paw', 'chameleon', 'flower', 'effort', 'eco', 'bottle', 'sub', 'bag', 'apple', 'accumulation', 'candy', 'ridge', 'lao', 'silver', 'mano', 'trouble', 'work', 'ride', 'build', 'class', 'cup', 'antique', 'yellow', 'fight', 'pilgrim', 'dinosaur', 'difficulty', 'clock', 'contain', 'totem', 'piñata', 'seahorse', 'hour', 'download', 'bavarian', 'pineapple', 'record', 'valentine', 'exhibition', 'support', 'pot', 'inventor', 'knot', 'touch', 'mega', 'holiday', 'speed', 'hunter', 'penguin', 'viii', 'wow', 'pirate', 'make', 'pier', 'catch', 'success', 'chain', 'fail', 'deluxe', 'souvenir', 'journey', 'sunshine', 'organize', 'generosity', 'want', 'tower', 'burn', 'splash', 'good', 'upgrade', 'connection', 'cap', 'cookie', 'tournament', 'drill', 'ii', 'cool', 'shoe', 'tea', 'owner', 'quest', 'clover', 'cosmo', 'bundle', 'round', 'green', 'mean', 'aeronaut', 'sack', 'essence', 'kind', 'phoenix', 'dao', 'train', 'gingerbread', 'supply', 'button', 'school', 'firework', 'snowman', 'unicorn', 'staff', 'john', 'stage', 'follow', 'anchor', 'ice', 'surprise', 'chat', 'pearl', 'challenge', 'friend', 'crate', 'shuffle', 'mansion', 'bridge', 'sailor', 'expand', 'celebration', 'color', 'member', 'photo', 'think', 'poach', 'cafe', 'faq', 'fuel', 'gain', 'experience', 'participate', 'light', 'sport', 'decoration', 'land'}\n"
     ]
    }
   ],
   "source": [
    "print(keywords)"
   ]
  },
  {
   "cell_type": "code",
   "execution_count": 24,
   "metadata": {},
   "outputs": [],
   "source": [
    "import pickle\n",
    "with open('keywords_short.pkl', 'wb') as f:\n",
    "       pickle.dump(set(keywords), f)"
   ]
  }
 ],
 "metadata": {
  "kernelspec": {
   "display_name": "Python 3",
   "language": "python",
   "name": "python3"
  },
  "language_info": {
   "codemirror_mode": {
    "name": "ipython",
    "version": 3
   },
   "file_extension": ".py",
   "mimetype": "text/x-python",
   "name": "python",
   "nbconvert_exporter": "python",
   "pygments_lexer": "ipython3",
   "version": "3.9.0"
  }
 },
 "nbformat": 4,
 "nbformat_minor": 4
}
