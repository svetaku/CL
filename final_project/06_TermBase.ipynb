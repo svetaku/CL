{
 "cells": [
  {
   "cell_type": "code",
   "execution_count": null,
   "metadata": {},
   "outputs": [],
   "source": [
    "#составление переводного глоссария"
   ]
  },
  {
   "cell_type": "code",
   "execution_count": 1,
   "metadata": {},
   "outputs": [],
   "source": [
    "import pandas as pd\n",
    "import re\n",
    "from nltk.tokenize import word_tokenize\n",
    "from nltk.stem import WordNetLemmatizer\n",
    "import numpy as np  \n",
    "stemmer = WordNetLemmatizer()\n",
    "from string import punctuation\n",
    "import numpy"
   ]
  },
  {
   "cell_type": "code",
   "execution_count": 2,
   "metadata": {},
   "outputs": [],
   "source": [
    "punctuation = punctuation.replace('\\\"', \"\")"
   ]
  },
  {
   "cell_type": "code",
   "execution_count": 4,
   "metadata": {},
   "outputs": [],
   "source": [
    "data = pd.read_csv('pi2.csv', sep=';', low_memory=False)\n",
    "data = data[['string_id','Russian', 'English']]\n",
    "index_names = data[data['Russian'].str.contains(\"тест\" or \"test\")==True].index\n",
    "# # index_names\n",
    "data.drop(index_names, inplace = True)\n",
    "data = data.dropna()\n",
    "data = data.drop_duplicates()\n",
    "data = data[data.Russian != data.English]\n",
    "index_names2 = data[data['string_id'].str.contains(\"achieve\", \"title\") ==True].index\n",
    "data.drop(index_names2, inplace = True)\n",
    "data = data[data['English'].apply(lambda x: len(x.split()) <= 3)]\n",
    "data = data.drop_duplicates(subset=['English', 'Russian'], keep='last')\n",
    "data = data[['Russian', 'English']]"
   ]
  },
  {
   "cell_type": "code",
   "execution_count": 6,
   "metadata": {},
   "outputs": [],
   "source": [
    "import pickle\n",
    "with open('keywords.pkl', 'rb') as f:\n",
    "    keywords = pickle.load(f)"
   ]
  },
  {
   "cell_type": "code",
   "execution_count": 8,
   "metadata": {},
   "outputs": [],
   "source": [
    "data_dict = dict(zip(data.English,data.Russian))"
   ]
  },
  {
   "cell_type": "code",
   "execution_count": 10,
   "metadata": {},
   "outputs": [],
   "source": [
    "termbase = {}\n",
    "for x in data_dict:\n",
    "    if x.lower().strip(punctuation) in keywords:\n",
    "        termbase[x.strip(punctuation)] = data_dict[x].strip(punctuation)"
   ]
  },
  {
   "cell_type": "code",
   "execution_count": 15,
   "metadata": {},
   "outputs": [
    {
     "data": {
      "text/html": [
       "<div>\n",
       "<style scoped>\n",
       "    .dataframe tbody tr th:only-of-type {\n",
       "        vertical-align: middle;\n",
       "    }\n",
       "\n",
       "    .dataframe tbody tr th {\n",
       "        vertical-align: top;\n",
       "    }\n",
       "\n",
       "    .dataframe thead th {\n",
       "        text-align: right;\n",
       "    }\n",
       "</style>\n",
       "<table border=\"1\" class=\"dataframe\">\n",
       "  <thead>\n",
       "    <tr style=\"text-align: right;\">\n",
       "      <th></th>\n",
       "      <th>0</th>\n",
       "    </tr>\n",
       "  </thead>\n",
       "  <tbody>\n",
       "    <tr>\n",
       "      <th>Accessory</th>\n",
       "      <td>Аксессуар</td>\n",
       "    </tr>\n",
       "    <tr>\n",
       "      <th>Achievement reward</th>\n",
       "      <td>Награда за достижение</td>\n",
       "    </tr>\n",
       "    <tr>\n",
       "      <th>Today</th>\n",
       "      <td>Cегодня</td>\n",
       "    </tr>\n",
       "    <tr>\n",
       "      <th>Construction</th>\n",
       "      <td>Строительство</td>\n",
       "    </tr>\n",
       "    <tr>\n",
       "      <th>Watch</th>\n",
       "      <td>Смотреть</td>\n",
       "    </tr>\n",
       "    <tr>\n",
       "      <th>...</th>\n",
       "      <td>...</td>\n",
       "    </tr>\n",
       "    <tr>\n",
       "      <th>stage</th>\n",
       "      <td>этап</td>\n",
       "    </tr>\n",
       "    <tr>\n",
       "      <th>come</th>\n",
       "      <td>прийти</td>\n",
       "    </tr>\n",
       "    <tr>\n",
       "      <th>rainbow</th>\n",
       "      <td>радуга</td>\n",
       "    </tr>\n",
       "    <tr>\n",
       "      <th>action</th>\n",
       "      <td>действие</td>\n",
       "    </tr>\n",
       "    <tr>\n",
       "      <th>place</th>\n",
       "      <td>место</td>\n",
       "    </tr>\n",
       "  </tbody>\n",
       "</table>\n",
       "<p>1412 rows × 1 columns</p>\n",
       "</div>"
      ],
      "text/plain": [
       "                                        0\n",
       "Accessory                       Аксессуар\n",
       "Achievement reward  Награда за достижение\n",
       "Today                             Cегодня\n",
       "Construction                Строительство\n",
       "Watch                            Смотреть\n",
       "...                                   ...\n",
       "stage                                этап\n",
       "come                               прийти\n",
       "rainbow                            радуга\n",
       "action                           действие\n",
       "place                               место\n",
       "\n",
       "[1412 rows x 1 columns]"
      ]
     },
     "execution_count": 15,
     "metadata": {},
     "output_type": "execute_result"
    }
   ],
   "source": [
    "termbase_df = pd.DataFrame.from_dict(termbase, orient='index')\n",
    "termbase_df.drop_duplicates()"
   ]
  },
  {
   "cell_type": "code",
   "execution_count": 12,
   "metadata": {},
   "outputs": [],
   "source": [
    "with open('D:\\\\python\\\\CL\\\\alignment\\\\termbase_unigrams_X.pkl', 'rb') as f:\n",
    "    unigrams = pickle.load(f)\n",
    "with open('D:\\\\python\\\\CL\\\\alignment\\\\termbase_3_X.pkl', 'rb') as f:\n",
    "    unigrams3 = pickle.load(f)"
   ]
  },
  {
   "cell_type": "code",
   "execution_count": 14,
   "metadata": {},
   "outputs": [
    {
     "name": "stdout",
     "output_type": "stream",
     "text": [
      "{'Accessory': 'Аксессуар', 'Achievement reward': 'Награда за достижение', 'Today': 'Cегодня', 'Construction': 'Строительство', 'Watch': 'Смотреть', 'Video Ad': 'Реклама', 'Exciting News': 'Интересные новости', 'Refresh': 'Обновить', 'Alright': 'Хорошо', 'Accessory Slot': 'Ячейка для аксессуаров', 'Argh': 'Ар-р-р-х', 'Refill': 'Пополните запас', 'Unique offer': 'Уникальное предложение', 'Attention': 'Внимание', 'Rare Item': 'Редкий предмет', 'New Slot': 'Новая ячейка', 'Join': 'В бой', 'Tent': 'Палатка', 'Overgrown House': 'Заросший домик', 'Stranger': 'Незнакомец', 'Friendship level': 'Уровень дружелюбия', 'Fuel Supply': 'Запас топлива', 'Snowball Supply': 'Запас снега', 'Water Supply': 'Запас воды', 'Download content update': 'Загрузить обновление контента', 'Bank': 'Банк', 'Fail': 'Неудача', 'Infrastructure': 'Инфраструктура', 'Journal': 'Дневник', 'Balance': 'Сбалансированность', 'Paradise Island': 'Райский Остров', 'True Paradise': 'Настоящий Райский', 'Island': 'Остров', 'Generosity': 'Щедрость', 'Luck': 'Удача', 'Feed Rhee': 'Покормить Рию', 'Hungry Monkey': 'Голодная обезьянка', 'Snack': 'Угощение', 'Difficulty': 'Сложность', 'Repair': 'Ремонт', 'Demolish road': 'Снос дороги', 'Profit': 'Прибыль', 'Download': 'Загрузить', 'Game': 'Игра', 'Home': 'Домой', 'Demolish': 'Снести', 'View': 'Вид', 'Land Expansion': 'Покупка территории', 'Wonder Catalog': 'Журнал чудес', 'Star Rating': 'Рейтинг звездности', 'Change': 'Сменить', 'Possible reward': 'Возможная награда', 'Score': 'Счет', 'Complete': 'Выполнено', 'Confirm': 'Подтвердить', 'Pause': 'Приостановить', 'Reward': 'Награда', 'Destroy': 'Разрушить', 'Content update': 'Свежее обновление', 'Electricity': 'Электричество', 'Error': 'Ошибка', 'Individual Goal': 'Личная цель', 'Tournament': 'Турнир', 'Black Friday': 'Черная пятница', 'Player level': 'Уровень игроков', 'Thank': 'Ответить', 'Support': 'Поддержка', 'New Territory': 'Новая территория', 'Info': 'Инфо', 'Use': 'Использовать', 'Invite': 'Пригласить', 'Note': 'Заметка', 'King': 'Король', 'Union Leader': 'Лидер союза', 'level': 'уровень', 'Aloha': 'Алоха', 'Collect profit': 'Соберите прибыль', 'Sky Crystal': 'Небесный кристалл', 'Mano': 'Мано', 'Day': 'День ', 'Everyday Treasure': 'Ежедневная охота', 'Hunt': 'на сундуки', 'Tomorrow': 'Завтра', 'New Mastery Level': 'Новый уровень мастерства', 'Unique building': 'Уникальное здание', 'Second': 'Второй', 'Master': 'Мастер', 'Amateur': 'Любитель', 'UFO': 'НЛО', 'Skill level': 'Уровень мастерства', 'Friday': 'Пятница', 'Monday': 'Понедельник', 'Unique Offer': 'Уникальное предложение', 'Feature Bar': 'Панель характеристик', 'Prize': 'Приз', 'Legend': 'Легенда', 'Final reward': 'Главная награда', 'Time': 'Время', 'Select': 'Выбрать', 'Community': 'Сообщество', 'Female': 'Женский', 'Male': 'Мужской', 'FAQ': 'F.A.Q', 'News': 'Новости', 'Profile': 'Профиль', 'Music': 'Музыка', 'Animation': 'Анимация', 'Sound': 'Звук', 'Address': 'Адрес', 'Country': 'Страна', 'Phone number': 'Введите номер телефона', 'Loading': 'Загрузка', 'Version': 'Версия', 'Combo': 'Комбо', 'Fight': 'Сражайтесь', 'Leave': 'Выйти', 'Combo Strike': 'Комбо страйк', 'Daily bonus': '每日奖励', 'Draw': 'Ничья', 'Random Battle': 'Случайная битва', 'Union Battle': 'Битва союза', 'Sandy Store': 'Пляжная лавка', 'Winter Store': 'Снежная лавка', 'Win': 'Одержите победу', 'Progress': 'Прогресс', 'Rate': 'Оценить', 'Wealth': 'Богатство', 'Remove accessory': 'Извлечь аксессуар', 'Resort': 'Курорт', 'Reload': 'Перезапустить', 'Stage Reward': 'Награда этапа', 'Consolation Prize': 'Утешительный приз', 'Fabulous Prize': 'Заслуженная награда', 'Build': 'Построить', 'RUB': 'руб', 'Screenshot': 'Снимок экрана', 'Sync progress': 'Синхронизировать сохранение', 'Share': 'Рассказать', 'BUY': 'КУПИТЬ', 'Daily Bonus': 'Ежедневный бонус', 'Hint': 'Подсказка', 'Standard': 'Стандартно', 'Good': 'Хорошо', 'Rare': 'Редко', 'Stop': 'Стоп', 'Begin': 'Начать', 'Stay': 'Остаться', 'Super Prize': 'Суперприз', 'Energy': 'Энергия', 'Treasure': 'Сокровища', 'Yesterday': 'Вчера', 'Player': 'Игрок', 'New Tourist': 'Новый турист', 'Run': 'Сбежать', 'Release': 'Отпустить', 'Banish': 'Прогнать', 'Help': 'Помощь', 'Road construction': 'Строительство дороги', 'Management': 'Управление', 'Chat': 'Чат', 'Store': 'Лавка', 'Union Store': 'Лавка союза', 'Hide': 'Скрыть', 'Union': 'Союз', 'Rank': 'Место в рейтинге', 'Update': 'Обновить', 'Upgrade': 'Улучшить', 'Staff': 'Персонал', 'Elite statuette': 'Элитная статуэтка', 'Plasma Sphere': 'Плазменные шары', 'Color': 'Цвет', 'Emblem': 'Эмблема', 'Frame': 'Рамка', 'Public': 'Открытый', 'Union Type': 'Тип союза', 'Union Search': 'Поиск союза', 'Shop': 'Магазин', 'RATING': 'РЕЙТИНГ', 'Sunshine Center': 'Центр \"Саншайн\"', 'Souvenir Store': 'Сувенирная лавка', 'Red Pitcher Cafe': 'Кафе \"Красный кувшин\"', 'Gurgle Attraction': 'Аттракцион \"Бульк\"', 'Splash Attraction': 'Аттракцион \"Брызги\"', 'Bungalow': 'Бунгало', 'Water Slide': 'Водная горка', 'Clown Water Slide': 'Водная горка \"Клоун\"', 'Circus': 'Цирк', 'Irish Pub': 'Ирландский паб', 'Pranzo Pizzeria': 'Пиццерия \"Пранзо\"', 'Perfume Store': 'Магазин парфюмерии', 'Deluxe Hotel': 'Отель \"Люкс\"', 'Aroma Coffee House': 'Кофейня \"Аромат\"', 'Bavarian Inn': 'Баварская гостиница', 'Mini Hotel': 'Мини-отель', 'Mansion': 'Особняк', 'Dolphinarium': 'Дельфинарий', 'Beach Anticafe': 'Антикафе \"Пляж\"', 'Recreation Park': 'Парк \"Релакс\"', 'Leafy Gazebo': 'Лиственная беседка', 'Aeronaut Cafe': 'Кафе \"Аэронавт\"', 'Villa': 'Вилла', 'Renaissance Hotel': 'Отель \"Ренессанс\"', 'Chest': 'Сундук', 'Island Hotel': 'Отель \"Остров\"', 'Phoenix Hotel': 'Отель \"Феникс\"', 'Wild West Attraction': 'Аттракцион \"Как в кино\"', 'Cabin': 'Хижина', 'Ice Cream Truck': 'Фургончик мороженщика', 'Windmill': 'Ветряк', 'Recreation Area': 'Скамейка под дубом', 'Cupid Hotel': 'Отель \"Купидон\"', 'Golden Barrel Pub': 'Паб \"Золотая бочка\"', 'Amphitheater': 'Амфитеатр', 'Tree Cafe': 'Кафе \"На дереве\"', 'Planetarium': 'Планетарий', 'Observatory': 'Обсерватория', 'Ancient Temple': 'Древний храм', 'Donut Cafe': 'Кафе \"Пончик\"', 'Yummy Bakery': 'Кондитерская \"Вкусняшка\"', 'Ancient Tree': 'Древнее дерево', 'Toy Store': 'Магазин игрушек', 'Galactic Embassy': 'Галактическое посольство', 'Alien Monument': 'Статуя \"Алиен\"', 'Galaxy Hotel': 'Отель \"Галактика\"', 'Vintage Hotel': 'Отель \"Винтаж\"', 'Chateau Sentein': 'Шато \"Сантен\"', 'Atlantis Villa': 'Вилла \"Атлантис\"', 'Twilight Rift': 'Сумеречный разлом', 'Sinister Oak': 'Зловещий дуб', 'Pilgrim Hotel': 'Отель \"Пилигрим\"', 'Pumpkinley Bakery': 'Кондитерская \"Тыковка\"', 'Happy Santa Hotel': 'Отель \"Веселый Санта\"', 'Elf Workshop': 'Мастерская эльфов', 'Snow Globe Museum': 'Музей снежных шаров', 'Snow Castle': 'Снежный замок', 'Holiday Tree': 'Праздничная елка', 'Royal Navy Museum': 'Музей Ее величества', 'Oceanarium': 'Океанариум', 'Fairytale Castle': 'Сказочный замок', 'Generator': 'Генератор', 'Solar Power Plant': 'Солнечная ЭС', 'Leprechaun Hill Hotel': 'Отель \"Лепреконс хилл\"', 'Green Lamp Park': 'Парк \"Зеленый фонарь\"', 'Red Dragon Hotel': 'Отель \"Красный дракон\"', 'Easter Miracle Hotel': 'Отель \"Пасхальное чудо\"', 'Easter Bunny': 'Пасхальный заяц', 'Pineapple Café': 'Кафе \"Ананас\"', 'Escher Hotel': 'Отель \"Окно в дверь\"', 'Jolly Roger': 'Пиратский флаг', 'Astral Wanderer Hotel': 'Отель \"Звездный странник\"', 'Alien Park': 'Парк \"Алиен\"', 'Atlant Hotel': 'Отель \"Атлант\"', 'Wave Hotel': 'Отель \"Волна\"', 'Surprise Basket': 'Корзина с сюрпризом', 'Bouncy Castle': 'Надувной замок', 'Birthday Cake': 'Праздничный торт', 'Mystical Rift': 'Мистический разлом', 'Shady Oak': 'Подозрительный дуб', 'Twilight Manor': 'Сумеречное поместье', 'Welcome Hotel': 'Отель \"Добро пожаловать\"', 'North Pole Hotel': 'Отель \"Лапландия\"', 'Magical Gift Center': 'Сказочный почтамт', 'Happy Little Tree': 'Пушистая елочка', 'Pyramid': 'Фундамент пирамиды', 'Chinese Lantern': 'Китайский фонарь', 'Magic Box': 'Магическая шкатулка', 'Shanghai Restaurant': 'Ресторан \"Шанхай\"', 'Inspiration Gallery': 'Галерея \"Вдохновение\"', 'Baby Cupid': 'Малыш-Купидон', 'Radiant Passion Hotel': 'Отель \"Сияние страсти\"', 'Solaris Station': 'Станция \"Солярис\"', 'Friendship Park': 'Парк \"Дружба\"', 'Solitude Park': 'Парк \"Уединение\"', 'Flower Basket': 'Корзинка с цветами', 'Tangerine Hotel': 'Отель \"Мандаринка\"', 'Happy Easter Decoration': 'Украшение \"Доброй Пасхи!\"', 'Interplanetary Embassy': 'Межпланетное посольство', 'Infinity Hotel': 'Отель \"Бесконечность\"', 'Galactic Neighbor': 'Сосед по галактике', 'Salon Senorita': 'Салон \"Сеньорита\"', 'Grand Cake Hotel': 'Отель \"Гранд-торт\"', 'Gift Basket': 'Подарочная корзина', 'Banana Mama Dessert': 'Десерт \"Банана-мама\"', 'Spooky Pumpkin': 'Жуткая тыковка', 'Midnight Hotel': 'Полуночный отель', 'Autumn Hotel': 'Отель \"Осень\"', 'Elven Hotel': 'Эльфийский отель', 'Sky Chariot': 'Небесный транспорт', 'Ice Citadel': 'Ледяная цитадель', 'Jingle Karaoke': 'Караоке \"С огоньком!\"', 'Good Boy': 'Хороший мальчик', 'Winter Residence': 'Зимняя резиденция', 'Citadel Foundation': 'Основание цитадели', 'Crystal Bank': 'Банк \"Кристалл\"', 'Leprechaun Hill': 'Холм лепреконов', 'Mysterious Hill': 'Загадочный холм', 'Easter Diner': 'Пасхальный ресторанчик', 'Masquerade': 'Маскарад', 'Costume Ball': 'Бал-маскарад', 'Smile Festival': 'Фестиваль улыбок', 'Coffee Siesta': 'Тест Кофейная сиеста', 'Barbecue': 'Барбекю', 'Record Sale': 'Распродажа пластинок', 'Lively Dance': 'Зажигательные танцы', 'Live Music': 'Живая музыка', 'Morning Exercise': 'Гимнастика у бассейна', 'Rooftop Dinner': 'Ужин на крыше', 'Private Party': 'Закрытая вечеринка', 'Teatime': 'Чаепитие', 'Detective Convention': 'Слeт детективов', 'Croquet Cup': 'Турнир по крокету', 'Pretzelfest': 'Крендель-фест', 'Sunbathing': 'Солнечные ванны', 'Auction': 'Аукцион', 'Laughter Tournament': 'Чемпионат смеха', 'Romantic Dinner': 'Ужин для романтиков', 'Wedding Ceremony': 'Свадебная церемония', 'Vintage Night': 'Винтажная вечеринка', 'Holiday Party': 'Праздничная вечеринка', 'Excursion': 'Экскурсия', 'Harvest Festival': 'Праздник урожая', 'Amazing Crystal': 'Удивительный кристалл', 'Tiny Bonus Pack': 'Крошечный бонус-набор', 'Mini Bonus Pack': 'Минибонус-набор', 'Little Bonus Pack': 'Маленький бонус-набор', 'Small Bonus Pack': 'Малый бонус-набор', 'Normal Bonus Pack': 'Стандартный бонус-набор', 'Big Bonus Pack': 'Крупный бонус-набор', 'Large Bonus Pack': 'Крупный бонус-набор', 'Super Bonus Pack': 'Супербонус-набор', 'Extra Bonus Pack': 'Экстра бонус-набор', 'Giga Bonus Pack': 'Огромный бонус-набор', 'Treasure Sub': 'Подлодка с сокровищами', 'Big Treasure Sub': 'Большая подлодка с сокровищами', 'Mega Treasure Sub': 'Мегаподлодка с сокровищами', 'Super Treasure Sub': 'Суперподлодка с сокровищами', 'Extra Treasure Sub': 'Экстраподлодка с сокровищами', 'Giga Treasure Sub': 'Гигантская подлодка с сокровищами', 'Micro Bonus Kit': 'Микробонус-пакет', 'Little Bonus Kit': 'Малый бонус-пакет', 'Standard Bonus Kit': 'Базовый бонус-комплект', 'Big Bonus Kit': 'Большой бонус-пакет', 'Large Bonus Kit': 'Крупный бонус-пакет', 'Super Bonus Kit': 'Супер бонус-пакет', 'Extra Bonus Kit': 'Экстра бонус-пакет', 'Giga Bonus Kit': 'Огромный бонус-комплект', 'Giga Energy Booster': 'Огромный энергонабор', 'Great news': 'Отличная новость', 'Hooray': 'Ура', 'Egyptian Pyramid': 'Египетская пирамида', 'Eastern Ridge': 'Восточная гряда', 'Halloween': 'Хэллоуин', 'Happy New Year': 'С новым счастьем', 'Quantum Power Station': 'Квантовая электростанция', 'Mysterious Visitor': 'Загадочный гость', 'Ranking': 'Рейтинги', 'Wondershop': 'Лавка чудес', 'Speedboat': 'Гоночный катер', 'Gurgle': 'Бульк', 'Break': 'В отрыв', 'Michaelson Ridge': 'Гряда Майклсона', 'Ancient Magic': 'Древняя магия', 'Home Sweet Home': 'Дом, милый дом', 'Totem Magic': 'Магия тотемов', 'Compensation': 'Компенсация', 'test': 'test c очками турнира ДСП', 'Test': 'Снесите здание', 'Downtime': 'Тайм-аут', 'Reinforcement': 'Крепкие отношения', 'KABOOM': 'Бу-у-у-м', 'Second Opinion': 'Мыслительный процесс', 'Lone Wolf': 'Одинокий волк', 'Holiday Fun': 'Праздничные забавы', 'Departure': 'Отчаливаем', 'Special Deal': 'Особое предложение', 'Pay Day': 'Ваш чек', 'Promotion': 'Рекламная пауза', 'Sweet Life': 'Сладкая жизнь', 'Warm Welcome': 'Милости просим', 'Important Guest': 'Важный гость', 'Quantum Trap': 'Квантовая ловушка', 'Special Offer': 'Особое приглашение', 'Holiday tournament': 'Праздничный турнир', 'Surprise': 'Сюрпри-и-и-з', 'Countdown': 'Обратный отсчет', 'Entertainment Island': 'Остров развлечений', 'Special agent': 'Агент особого назначения', 'Naomi': 'Наоми', 'Pearl': 'Жемчужина', 'Bronze Key': 'Бронзовый ключ', 'Silver Key': 'Серебряный ключ', 'Coral': 'Коралл', 'Discount Coupon': 'Скидочный купон', 'Discount Certificate': 'Сертификат на скидку', 'Flower': 'Цветок', 'Feather': 'Перо', 'Dragon Fruit': 'Драконий фрукт', 'Ice Cube': 'Ледяной кубик', 'Rose': 'Роза', 'Pick': 'Кирка', 'Ice cream': 'Мороженое', 'Ancient Artifact': 'Древний артефакт', 'Leprechaun Hat': 'Шляпа лепрекона', 'Jasper': 'Яшма', 'Aquamarine': 'Аквамарин', 'Tablet': 'Скрижаль', 'Souvenir': 'Сувенир', 'Stone Block': 'Каменный блок', 'Flyer': 'Флаер', 'Pleasant Surprise': 'Приятный сюрприз', 'Megaphone': 'Мегафон', 'Stone Idol': 'Каменный идол', 'Kerosene Lamp': 'Керосиновая лампа', 'Dragon Fruit Juice': 'Сок Драконьего фрукта', 'Butterfly Net': 'Сачок', 'Uncle Sam Hat': 'Шляпа дяди Сэма', 'Firework': 'Фейерверк', 'Fuel': 'Топливо', 'Demarcation Tape': 'Лента', 'Sour Candy': 'Кислая конфетка', 'Cranberry Bunch': 'Гроздь клюквы', 'Pumpkin Pie': 'Тыквенный пирог', 'Snowball Crossbow': 'Арбалет', 'Snowball Thrower': 'Снегомет', 'Snowball Cannon': 'Снежная пушка', 'Snowminator': 'Снежный миниган', 'Gingerbread': 'Имбирный пряник', 'Fir Cone': 'Еловая шишка', 'Special Cap': 'Особая фишка', 'Lucky Chest': 'Сундук удачи', 'Waterthrower': 'Водомет', 'Water Machine Gun': 'Водяной автомат', 'Squirt Gun': 'Водяной пистолет', 'Water Slingshot': 'Водяная рогатка', 'Banana': 'Бананы', 'Banana Jam': 'Банановый джем', 'Banana Cake': 'Банановый торт', 'Champion Case': 'Кейс чемпиона', 'Participation Case': 'Кейс участника', 'Gear': '齿轮', 'Treasure Map': 'Карта сокровищ', 'Sturdy Shovel': 'Крепкая лопата', 'Incense': 'Благовония', 'Mystery Map': 'Загадочная карта Острова', 'Cactus': 'Кактус', 'Antique Chest': 'Старинный сундук', 'Tonic': 'Тоник', 'Pumpkin Lantern': 'Светильник-тыква', 'Holiday Present': 'Праздничный подарок', 'Gift Bag': 'Пакет с подарками', 'Paper Dragon': 'Бумажный дракон', 'Wooden Dragon': 'Деревянный дракон', 'Golden Dragon': 'Золотой дракон', 'Teddy Bear': 'Плюшевый мишка', 'Cute Teddy Bear': 'Милый мишка', 'Amorous Teddy Bear': 'Влюбленный мишка', 'Leprechaun Cap': 'Бейсболка лепрекона', 'Leprechaun Bowler': 'Котелок лепрекона', 'Chocolate Bunny': 'Шоколадный заяц', 'Wooden Bunny': 'Деревянный заяц', 'Toy Dumbbell': 'Игрушечная гантель', 'Road Equipment': 'Дорожное снаряжение', 'Lion Statuette': 'Статуэтка льва', 'Magnetic Dust': 'Магнитная пыль', 'Quantum Generator': 'Квантовый генератор', 'Control Panel': 'Пульт управления', 'Quantum Substance': 'Квантовое вещество', 'Powerful Dryer': 'Мощный фен', 'Space Chest': 'Космический сундук', 'Light Piggy Bank': 'Легкая копилка', 'Souvenir Plate': 'Сувенирная тарелочка', 'Lucky Star': 'Звезда на счастье', 'Candy Cane': 'Мятный леденец', 'Mistletoe Leaf': 'Веточка омелы', 'Mistletoe Crown': 'Венок из омелы', 'Fruit Ice': 'Фруктовая мороженка', 'Old Watch': 'Потертые часы', 'Sharp Watch': 'Точные часы', 'New Year Watch': 'Новогодние часы', 'Ice Coffret': 'Ледяной ларец', 'Chocolate Heart': 'Шоколадное сердечко', 'Candy': 'Конфетка', 'Anniversary Chest': 'Юбилейный сундук', 'Clover': 'Флакон удачи', 'Emerald Box': 'Изумрудный ларец', 'Tasty Fish': 'Вкусная рыбка', 'Cruise Boat': 'Круизный катер', 'Pearl Frame': 'Фоторамка \"Жемчужина\"', 'Service': 'Сервис', 'Elite': 'Элитные', 'Size': 'Размер', 'Entrance': 'Вход', 'Capacity': 'Вместимость', 'Luxury': 'Роскошь', 'Attractiveness': 'Привлекательность', 'Beach Season': 'Пляжный сезон', 'Beach Season II': 'Пляжный сезон II', 'Adventurer': 'Искатель приключений', 'Popular blogger': 'Популярный блогер', 'Brave Captain': 'Бравый капитан', 'Sidney Meyer': 'Сидни Мейер', 'Bob Crash': 'Боб Крэш', 'Peter Ocean': 'Питер Оушен', 'Jay': 'Джей', 'Jimmy Loneman': 'Джимми Лоунеман', 'Alien': 'Инопланетянин', 'Yukio Bakaitis': 'Юкио Бакайтис', 'Count Schmacula': 'Граф Кусакула', 'Snowman': 'Снеговик', 'Cho Gang': 'Чжо Ганг', 'Jin Lee': 'Джин Ли', 'Valentine': 'Валентин', 'Valentina': 'Валентина', 'Leo Change': 'Лео Чендж', 'Courier': 'Курьер', 'Alalaz': 'Алалаз', 'Shren': 'Шрен', 'John Frost': 'Джон Фрост', 'Elven queen': 'Королева эльфов', 'Junior Icicle': 'Малыш Зефирчик', 'Sir Popsicle': 'Сэр Пломбирчик', 'Mummy': 'Мумия', 'Mark Holiday': 'Марк Холидей', 'Fierce Leprechaun': 'Грозный лепрекончик', 'Harrison Hero': 'Харрисон Хиро', 'Cruise Yacht': 'Круизная яхта', 'Baby Turtle Neil': 'Черепашонок Нил', 'Spyglass': 'Подзорная труба', 'Race': 'Гонка', 'Cosmic Disco': 'Танцы инопланетян', 'Sea Adventure': 'Морское приключение', 'Galactic Confluence': 'Галактическое слияние', 'Solar Tornado': 'Солнечное торнадо', 'Long Journey': 'Долгая дорога', 'Captain Set': 'Капитанский набор', 'Secret': 'Секрет', 'Rob Malibu': 'Роб Малибу', 'Chapter': 'Глава', 'Sinister Crystal': 'Зловещий кристалл', 'Scientific Boom': 'Научный бум', 'Eureka Hotel': 'Отель \"Эврика\"', 'Atom Model': 'Модель атома', 'Saturn Hologram': 'Голограмма \"Сатурн\"', 'Ein Stein': 'Эйн Штейн', 'Purr Box': 'Мурр-бокс', 'Memory Stick': 'Флешка с данными', 'AI Chip': 'ИИ-чип', 'Cave Tour': 'Вояж по пещерам', 'Sea Tour': 'Вояж по морям', 'Sea Gift': 'Морской подарок', 'Scientific Tournament': 'Научный турнир', 'Black Panther': 'Черная пантера', 'Pirate Ship': 'Пиратский корабль', 'Roger Easterson': 'Роджер Пасхалкин', 'Demon': 'Демон', 'Boat Racer': 'Водный гонщик', 'Purrsome Party': 'Мурчательная вечеринка', 'Soft Paw Contest': 'Конкурс мягких лапок', 'Calm': 'Успокоить', 'Treasure Hunt': 'В погоне за сокровищами', 'Favorite Game': 'Любимая игра', 'Notable Contribution': 'Заметный вклад', 'Bonus': 'Бонус', 'Important news': 'Важные новости', 'Hurry': 'Спешите', 'Quest reward': 'Награда за задание', 'Battle Reward': 'Награда за бой', 'Battle reward': 'Награда за бой', 'Space Event': 'Космическая акция', 'Kaboom': 'Сейчас бабахнет', 'Craft': 'Создать', 'Skill Level': 'Уровень мастерства', 'Recipe': 'Рецепт', 'Maximum Level': 'Макс. уровень', 'Tropical Cake': 'Тропический торт', 'Gift Season': 'Сезон подарков', 'Paradise Island Museum': 'Музей Острова', 'Tropical Exhibition': 'Тропическая выставка', 'Jungle Tour': 'Экскурсия в джунгли', 'Museum Night': 'Ночь в музее', 'Message Pod': 'Капсула для потомков', 'Surprise Gift Box': 'Коробка-сюрприз', 'Super Bonus': 'Приятный бонус', 'Pumpkin Box': 'Тыква-бокс', 'Spooky Box': 'Жуткая шкатулка', 'Halloween Castle': 'Замок Хэллоуина', 'Ghost Limbo': 'Лимбо с призраками', 'Gloomy Castle': 'Мрачный замок', 'Pumpkin Monster': 'Тыквенный монстр', 'Private party': 'Это частная вечеринка', 'Twilight Chest': 'Сумеречный сундук', 'New mastery level': 'Новый уровень мастерства', 'Shmaug': 'Шмауг', 'Pet': 'Погладить', 'Harvest Restaurant': 'Ресторан \"Урожай\"', 'Festive Dinner': 'Праздничный ужин', 'Fresh Broccoli': 'Свежая брокколи', 'Common Goal': 'Общая цель', 'Glorious Victory': 'Славная победа', 'Superb': 'Супер', 'Portal': 'Портал', 'Sand': 'Песок', 'Wall': 'Стенка', 'Starfish': 'Морская звезда', 'Seahorse': 'Морской конек', 'Turtle': 'Черепашка', 'Fish': 'Рыбка', 'Shell': 'Ракушка', 'Jellyfish': 'Медузка', 'Crate': 'Ящик', 'Chain': 'Цепь', 'Ice': 'Лед', 'Shrimp': 'Креветка', 'Sea Urchin': 'Морской еж', 'Seaweed': 'Водоросли', 'Rainbow Lightning': 'Радужная молния', 'Barrel': 'Бочка', 'Mysterious Island': 'Загадочный остров', 'Hammer': 'Молот', 'Life': 'Жизнь', 'Booster': 'Бустер', 'Level reward': 'Награда за уровень', 'New tool': 'Новый инструмент', 'Jar': 'Банка', 'Change Language': 'Изменение языка', 'Restart': 'Перезагрузить', 'Magic Train': 'Волшебный поезд', 'North Pole': 'Северный полюс', 'Earie': 'Ушаня', 'Handmade Cookie': 'Крафтовая печенька', 'Snowball': 'Снежок', 'Snowball Conveyor': 'Конвейер снежков', 'Happy Childhood': 'Счастливое детство', 'Clockwork': 'Часовой механизм', 'Old Friend': 'Старый знакомый', 'Strong Spirit': 'Сильные духом', 'Launch': 'Запустить', 'Role Model': 'Пример для подражания', 'Scary Offer': 'Страшное предложение', 'Enlightenment Hotel': 'Отель \"Просветление\"', 'Meditative Disco': 'Медитативные танцы', 'Kung Fu Competition': 'Соревнования по кунг-фу', 'Welcome Gift': 'Счастливый подарок', 'Holiday Gift Bag': 'Праздничный пакет', 'Holiday Sack': 'Праздничный мешок', 'Lucky Knot': 'Узел удачи', 'Holiday Mood': 'Праздничное настроение', 'Elite Party': 'Элитная вечеринка', 'Flower Festival': 'Праздник цветов', 'Strawberry Cupcake': 'Клубничный кексик', 'Chocolate Ice Cream': 'Шоколадное мороженое', 'Love Candy': 'Любовные леденцы', 'Construction Chocolate': 'Строительный шоколад', 'Cute Panda': 'Милашка-панда', 'Great Entertainer': 'Магистр развлечений', 'Saint Patrick Hotel': 'Отель \"Сент-Патрикс\"', 'Romantic Gift': 'Романтический подарок', 'Chinese New Year': 'Китайский Новый год', 'Shao Tzu': 'Шао Цзы', 'Favorite Dessert': 'Любимый десерт', 'Generous Gift': 'Щедрый дар', 'Main Prize': 'Главный приз', 'Generous Dragon Hotel': 'Отель \"Щедрый дракон\"', 'Dance Fever': 'Танцы до упаду', 'Fun Party': 'Праздник куража', 'Grand Leprechaun Hotel': 'Отель \"Гранд лепрекон\"', 'Holiday Basket': 'Праздничная корзинка', 'Winterbell Fairy': 'Фея Винтербелл', 'Merry Barrel Hotel': 'Отель \"Бочонок веселья\"', 'Easter Basket': 'Пасхальная корзинка', 'Lola Easterson': 'Лола Пасхалкина', 'Holiday Surprise': 'Праздничный сюрприз', 'Spring Yard': 'Весенний дворик', 'Pleasant Conversation': 'Приятная беседа', 'Cozy Yard': 'Уютный дворик', 'Spring Set': 'Весенний набор', 'Information': 'Информация', 'Pirate Frigate': 'Пиратский фрегат', 'Pirate Party': 'Пиратская вечеринка', 'Pirate Yacht': 'Пиратская яхта', 'Piastre': 'Пиастр', 'Rocket Cracker': 'Ракета', 'Pilot Purrington': 'Пилот Мурчатель', 'Captain Pawson': 'Капитан Хвостолап', 'Puss Shuttle': 'Мяу-шаттл', 'Meow Station': 'Мяфк-станция', 'Bitey Case': 'Кусь-кейс', 'Scratchy Case': 'Цап-кейс', 'Independence Day': 'День независимости', 'Starship': 'Звездолет', 'Space Shuttle': 'Космический шаттл', 'Spacecraft': 'Космический корабль', 'Sunny Gallery': 'Солнечная галерея', 'Surprise Gift Bag': 'Пакет-сюрприз', 'Air Castle': 'Воздушный замок', 'Magic Gift Box': 'Магический сюрприз', 'Cotton Candy': 'Сладкая вата', 'Zombie': 'Зомби', 'Cool Hal': 'Крутой Хэл', 'Morticia Spell': 'Мартиша Спелл', 'Witch Mansion': 'Особняк ведьмы', 'Witch Hill': 'Ведьмин холм', 'Sinister Box': 'Зловещий бокс', 'Spooky Gift': 'Мрачный подарок', 'Auntie Pumpkin': 'Тетушка Пампкин', 'Uncle Hickory': 'Дядюшка Пекан', 'Thanksgiving': 'День благодарения', 'Autumn Estate': 'Осеннее поместье', 'Autumn Ranch': 'Осеннее ранчо', 'Sweet Pepper': 'Сладкий перец', 'Surprise Bag': 'Мешочек-сюрприз', 'New Year Present': 'Новогодний подарок', 'Lapland Park': 'Парк \"Лапландия\"', 'Hot Chocolate': 'Горячий шоколад', 'Timeless Square': 'Вневременная площадь', 'Lao Dao': 'Лао Дао', 'Feed': 'Покормить', 'Panda Bear Pagoda': 'Пагода \"Большая панда\"', 'Panda Bear Hotel': 'Отель \"Большая панда\"', 'Music Horoscope': 'Музыкальный гороскоп', 'Holiday Surprise Gift': 'Праздничный сюрприз', 'Panda Pouch': 'Мешочек панды', 'Soulful Present': 'Душевный подарок', 'Holiday Coupon': 'Праздничный купон', 'Heart': 'Ивентовый купон', 'Purr': 'Фр-р-р-р', 'Awww': 'Ми-ми-ми', 'Leprechaun King': 'Король лепреконов', 'Perfect Gift': 'Идеальный подарок', 'Heartfelt Gift': 'Подарок от чистого сердца', 'Princess Amour': 'Принцесса Любовь', 'Unicorn Palace': 'Дворец единорогов', 'Blissful Corner': 'Дивный уголок', 'Unicorn': 'Единорог', 'Rainbow Essence': 'Радужная эссенция', 'ICERN Press Secretary': 'Пресс-секретарь ОЦЕРН', 'Min': 'Мин', 'Leprechaun House': 'Домик лепрекона', 'Clovercoin': 'Клеверкойн', 'Lucky Tourist': 'Везучий турист', 'Patricia Forz': 'Патриция Форс', 'Rainbow Coffer': 'Радужный ларец', 'Fresh Water': 'Питьевая вода', 'Chocolate Latte': 'Шоколадный латте', 'Chocolate Bar': 'Плитка шоколада', 'Old Design': 'Старинный чертеж', 'Turtilliada Expert': 'Мастер Тортильяды', 'Synthpop Hall': 'Синти-поп Холл', 'Electro Party': 'Тектоник-пати', 'Charlie Chocolatte': 'Чарли Шоклатт', 'Olivia Apple': 'Оливия Эпл', 'Return': 'Вернуться', 'Plantation': 'Плантация', 'Save': 'Выгода', 'Bunny': 'Кролик', 'Bamboo': 'Бамбук', 'Panda Bear': 'Большая панда', 'Mia Fachwerk': 'Мия Фахверк', 'Andy Bloom': 'Энди Блюм', 'Spring Gift': 'Весенний подарок', 'Easter Gift': 'Пасхальный подарок', 'Fireworks': 'Петарды', 'Dynamite': 'Динамит', 'Magic Flower': 'Семицветик', 'Pineapple': 'Ананас', 'Pirate Treasure': 'Сокровища пиратов', 'Skateland Action Park': 'Экстрим-парк \"Скейтленд\"', 'New Trend': 'Новое увлечение', 'Skater Stamp': 'Марка скейтера', 'Tutorial': 'Обучение', 'Limit': 'Studio code', 'Candle': 'Свечка', 'Quartz': 'Хрусталь', 'Stone': 'Камень', 'Patch': 'Грядка', 'Vine': 'Лоза', 'Jade Vine': 'Нефритовая лоза', 'Seashell': 'Ракушка', 'Snowflake': 'Снежинка', 'Rope': 'Веревка', 'Coffer': 'Сундучок', 'Lightning': 'Молния', 'Titan Kettlebell': 'Гиря \"Титан\"', 'Micro Bonus Pack': 'Микро бонус-набор', 'Small Bonus Kit': 'Малый бонус-комплект', 'Happy Easter': 'С праздником Пасхи', 'Jam Day': 'День варенья', 'Draft Paper': 'Чертежная бумага', 'Caramel Paint': 'Карамельная краска', 'Anchor': 'Якорь', 'Flamingo Dingy': 'Древнее яйцо', 'Emerald Turtle': 'Изумрудная черепашка', 'Wait': 'Подождать', 'OK': 'Ок', 'Parrot Food': 'Корм для попугая', 'Water Totem': 'Водный тотем', 'Bridge': 'Мост', 'Turtilliada Magic': 'Магия \"Тортильяды\"', 'Cosmo Park': 'Космо-парк', 'Zero Gravity Ride': 'Аттракцион \"Невесомость\"', 'Play': 'Играть', 'Quasar Box': 'Квазар-бокс', 'Blazar Box': 'Блазар-бокс', 'ridge': 'bridge', 'Defeat': 'Поражение', 'Victory': 'Победа', 'Anna Turner': 'Анна Тернер', 'Rating': 'Рейтинг', 'Hot Dog': 'Хот-дог', 'Medkit': 'Медикаменты', 'Mosquito Repellent': 'Спрей от комаров', 'Shaman Mano': 'Шаман Мано', 'Birthday Gift': 'Подарок ко дню рождения', 'Ancient Egg': 'Древнее яйцо', 'Tom McKenzie': 'Том Маккензи', 'Ghost': 'Призрак', 'Ghost Residence': 'Обитель призраков', 'Professor Craze': 'Профессор Крейз', 'Twilight Gift': 'Сумрачный подарок', 'Search': 'Поиск', 'Buy': 'Купить', 'Marathon': 'Марафон', 'Astral Gift': 'Астральный подарок', 'Ghost Boom': 'Призрачный бум', 'Magnet': 'Магнит', 'Spring Holiday': 'Праздник весны', 'Backyard Picnic': 'Пикник во дворе', 'Unlock': 'Открыть', 'Winter Fun': 'Зимние забавы', 'Winter Joy': 'Зимняя забава', 'Easy Magic': 'Чудеса одним взмахом', 'Romantic Festival': 'Фестиваль романтики', 'Candlelight Dinner': 'Ужин при свечах', 'Nocturnal Palace': 'Чертог ночи', 'Mystery Box': 'Загадочная шкатулка', 'Antique Box': 'Антикварная шкатулка', 'Precious Gift': 'Ценный подарок', 'Wild Flower': 'Дикий цветок', 'Trade': 'Обменивайтесь', 'New Moon Offer': 'Предложение \"Новолуние\"', 'Romantic Offer': 'Предложение \"Романтик\"', 'Golem Bag': 'Сумка голема', 'Spring Adventure': 'Весеннее приключение', 'Entertainment': 'Развлечения', 'Hold event': 'Проводите событие', 'Turtilliada': 'Тортильяда', 'Workshop': 'Мастерская', 'Inner Harmony': 'В гармонии с собой', 'Welcome': 'Добро пожаловать', 'Claim': 'Забрать', 'Small Holiday Tree': 'Маленькая елочка', 'AAAA': 'А-А-А-А', 'Happy Halloween': 'Веселый Хэллоуин', 'New Year Spirit': 'Дух Нового года', 'Red Panda': 'Рыжая панда', 'Leopard': 'Леопард', 'Fennec': 'Фенек', 'Autumn Gift': 'Осенний подарок', 'Gratefulness Box': 'Коробка благодарности', 'Treasure Chest': 'Сундук с сокровищами', 'Danny Mattock': 'Дэнни Мо-Тыга', 'Kathy Melon': 'Кэтти Мелон', 'Antonio di Lettuce': 'Антонио де Латук', 'Elf': 'Эльф', 'Penguin': 'Пингвинчик', 'Snatchin': 'Снэтчин', 'Little Cupid': 'Купидончик', 'Clara Loft': 'Клара Лофт', 'Leprechaun': 'Лепрекон', 'Mother Earth': 'Матушка-земля', 'Liquid Ice': 'Жидкий лёд', 'Magic Sand': 'Волшебный песок', 'Priceless Gift': 'Бесценный подарок', 'Wonder Hammer': 'Сказочный молоточек', 'Happy Memory': 'Теплое воспоминание', 'Lunar Gingerbread': 'Лунный пряник', 'Air Essence': 'Эссенция воздуха', 'Max': 'Максимум', 'Captain Emilia': 'Капитан Эмилия', 'Sailor Jack Albatross': 'Матрос Джек Альбатрос', 'Scientist': 'Ученый', 'Inventor Ex': 'Изобретатель Икс', 'Inventor Wye': 'Изобретатель Игрек', 'Special Gift': 'Особый подарок', 'Farming Lot': 'Фермерский участок', 'Autumn Villa': 'Осенняя вилла', 'Snowflake Lab': 'Лаборатория снежинок', 'Snow Generator': 'Генератор снега', 'New Year Embassy': 'Новогоднее посольство', 'Gift Store': 'Магазинчик подарков', 'Gift Factory': 'Фабрика подарков', 'Ship Hull': 'Остов корабля', 'Red Dragon Djong': 'Джонка \"Красный дракон\"', 'Baby Phoenix': 'Малыш-феникс', 'Forest Portal': 'Лесной портал', 'Eco Hotel': 'Эко-отель', 'Sky Tower': 'Небесная башня', 'Flower Stall': 'Цветочная лавка', 'Bunny Glade': 'Кроличья опушка', 'Spring Basket': 'Весенняя корзинка', 'Forest Gift': 'Лесной подарок', 'Paper Pinwheel': 'Бумажная вертушка', 'Flower Shop': 'Магазин цветов', 'Pirate': 'Пират', 'Modular House': 'Модульный дом', 'Eco Summit': 'Эко-саммит', 'Blue Planet': 'Голубая планета', 'Professor Evergreen': 'Профессор Эвегрин', 'Research Drone': 'Научный дрон', 'Green Package': 'Зеленая посылка', 'Good News': 'Приятные новости', 'Sam Watchyerhead': 'Сэм-Береги-Голову', 'Stone golem': 'Каменный голем', 'Gift Market': 'Ярмарка подарков', 'Snowball Fight': 'Игра в снежки', 'Round Table': 'Круглый стол', 'Dragon Dance': 'Танец дракона', 'Forest Magic Lesson': 'Урок лесной магии', 'Bean Seminar': 'Бобовый семинар', 'Spring Sale': 'Весенняя распродажа', 'Flower Photoshoot': 'Цветочная фотосессия', 'Crunchy Hour': 'Хрум-час', 'Mark Postman': 'Марк Постамп', 'Captain Lei Wu': 'Капитан Люй Ву', 'William Strange': 'Вильям Стрэндж', 'Forest Keeper': 'Хранитель леса', 'Santa Claus': 'Санта-Клаус', 'Sage Qiu': 'Мудрец Чжоу', 'Cunning Hanna': 'Хитрая Ханна', 'Lily Valley': 'Лили Вэйли', 'Warehouse': 'Склад', 'New Stage': 'Новый этап', 'Sun Set': 'Солнечный набор', 'Quest List': 'Список заданий', 'past': 'прошлое', 'head': 'голова', 'statuette': 'статуэтка', 'reduce': 'персонал', 'shuttle': 'шаттл', 'bunch': 'букет', 'mistake': 'ошибка', 'area': 'восточный', 'tea': 'чай', 'tap': 'нажать', 'clean': 'это', 'museum': 'музей', 'fairy': 'винтербелла', 'cake': 'кусочек', 'winner': 'победитель', 'merry': 'весёлый', 'happen': 'случиться', 'mastery': 'мастерство', 'cozy': 'уютный', 'unioner': 'союз', 'jam': 'варение', 'architect': 'кастлинга', 'expand': 'расширить', 'float': 'замок', 'package': 'зелёный', 'cruise': 'лайнер', 'florist': 'флорист', 'remove': 'извлечь', 'activate': 'активировать', 'health': 'здоровье', 'design': 'чертёж', 'passion': 'страсть', 'meyer': 'мейер', 'lao': 'лао', 'friend': 'друг', 'chocolate': 'шоколадка', 'chance': 'шанс', 'water': 'вода', 'bear': 'мишка', 'yellow': 'жёлтый', 'journey': 'путешествие', 'celebration': 'праздник', 'bouquet': 'букет', 'effort': 'усилие', 'touch': 'наш', 'sinister': 'дуб', 'sunshine': 'солнечный', 'feeling': 'настроение', 'chameleon': 'хамелеон', 'builder': 'строитель', 'vi': 'vi', 'sailor': 'матрос', 'click': 'сундук', 'territory': 'территория', 'temple': 'храм', 'enlightenment': 'дом', 'hat': 'турист', 'moment': 'подождать', 'sign': 'вход', 'hill': 'ведьмин', 'offer': 'акция', 'task': 'задача', 'accept': 'принять', 'spooky': 'жуткий', 'send': 'отправить', 'robot': 'робот', 'combination': 'рядом', 'connect': 'facebook', 'surf': 'сёрфинг', 'abandon': 'забросить', 'flag': 'флаг', 'throw': 'вечеринка', 'restore': 'восстановить', 'grandpa': 'дедушка', 'success': 'успех', 'monkey': 'рия', 'believe': 'верить', 'traveler': 'экватор', 'rhee': 'рия', 'castle': 'улучшить', 'shine': 'всё', 'drop': 'получить', 'content': 'купить', 'check': 'посмотреть', 'hahaha': 'это', 'face': 'лицо', 'pack': 'paradise', 'swing': 'разгар', 'tourist': 'турист', 'video': 'видео', 'wow': 'это', 'message': 'сообщение', 'close': 'это', 'lamp': 'лампа', 'match': 'фишка', 'greet': 'поприветствовать', 'dark': 'это', 'competition': 'чемпион', 'attempt': 'попытка', 'butterfly': 'бабочка', 'collection': 'прибыль', 'wind': 'ветер', 'hearty': 'кафе', 'receive': 'получить', 'dwarf': 'найти', 'dragon': 'дракон', 'invitation': 'приглашение', 'great': 'отличный', 'gift': 'подарок', 'supply': 'запас', 'thing': 'всё', 'bring': 'принести', 'visit': 'посетить', 'salon': 'красота', 'forest': 'лесной', 'championship': 'чемпионат', 'deed': 'добрый', 'magic': 'магия', 'captain': 'капитан', 'open': 'открыть', 'jack': 'матрос', 'claus': 'рождественский', 'cub': 'джунгли', 'cupid': 'подарок', 'fan': 'яркий', 'brush': 'кисть', 'eek': 'паук', 'load': 'идти', 'sunset': 'гонка', 'golem': 'разрушить', 'sale': 'распродажа', 'house': 'дом', 'treat': 'угостить', 'cat': 'кот', 'write': 'дневник', 'rescue': 'остров', 'mean': 'это', 'press': 'кнопка', 'dao': 'дао', 'tell': 'это', 'coin': 'монета', 'happiness': 'счастие', 'plan': 'план', 'slice': 'кафе', 'dorin': 'дорин', 'fruit': 'фрукт', 'ha': 'это', 'aeronaut': 'аэронавт', 'basket': 'корзинка', 'access': 'палатка', 'ask': 'попросить', 'autumn': 'осень', 'cha': 'собирать', 'giraffe': 'знать', 'pizza': 'пицца', 'road': 'здание', 'minute': 'процесс', 'course': 'хотеть', 'finish': 'завершить', 'hour': 'час', 'turn': 'превратить', 'sidney': 'сидень', 'sabrina': 'сабрина', 'right': 'это', 'tool': 'инструмент', 'future': 'будущее', 'pro': 'битва', 'christma': 'рождественский', 'disco': 'танец', 'professor': 'крейза', 'case': 'кейс', 'turkey': 'это', 'remind': 'напоминать', 'accumulation': 'ускорить', 'ultrabonus': 'ультра', 'mood': 'настроение', 'explosion': 'просто', 'teddy': 'мишка', 'earth': 'земля', 'sun': 'солнце', 'lesson': 'урок', 'keeper': 'хранитель', 'sandy': 'пляжный', 'emerald': 'открыть', 'fit': 'подойти', 'shuffle': 'слышать', 'bavarian': 'гостиница', 'consumption': 'снизить', 'spring': 'весна', 'purchase': 'покупка', 'opponent': 'противник', 'recognize': 'узнать', 'coconut': 'кокосовый', 'group': 'общий', 'matter': 'дело', 'grow': 'мано', 'earn': 'получить', 'wrong': 'пойти', 'truck': 'мороженщик', 'light': 'огонь', 'athlete': 'спортсмен', 'wonder': 'интересно', 'ocean': 'океан', 'knot': 'удача', 'spend': 'тратить', 'independence': 'независимость', 'bitey': 'открыть', 'cosmo': 'космобокс', 'monster': 'монстр', 'dance': 'танец', 'miss': 'остров', 'dinner': 'ужин', 'paradise': 'paradise', 'building': 'здание', 'summon': 'позвать', 'hire': 'нанять', 'grand': 'гранд', 'mark': 'стоить', 'comfort': 'символ', 'nature': 'природа', 'egg': 'яйцо', 'sanctuary': 'аурум', 'love': 'любовь', 'fun': 'веселие', 'power': 'сила', 'fall': 'призрак', 'bag': 'сумка', 'ad': 'посмотреть', 'wish': 'пожелание', 'pot': 'золото', 'await': 'ждать', 'learn': 'узнать', 'embassy': 'посольство', 'science': 'наука', 'present': 'подарок', 'cut': 'лиана', 'goal': 'награда', 'cocktail': 'коктейль', 'blueprint': 'чертёж', 'say': 'говорить', 'totem': 'тотем', 'rocket': 'ракета', 'story': 'рассказать', 'pub': 'паб', 'animal': 'остров', 'ii': 'ii', 'star': 'здание', 'require': 'требоваться', 'look': 'искать', 'accumulate': 'накопить', 'burn': 'секунда', 'apple': 'яблоко', 'beach': 'битва', 'snow': 'полный', 'end': 'битва', 'toy': 'игрушка', 'trick': 'хитрость', 'patrick': 'святой', 'paw': 'лапка', 'wooo': 'прошлый', 'panda': 'рыжий', 'request': 'заявка', 'spirit': 'дух', 'black': 'чёрный', 'cup': 'кофе', 'micro': 'микро', 'red': 'рыжий', 'party': 'вечеринка', 'century': 'век', 'icon': 'нажать', 'sure': 'хотеть', 'list': 'игрок', 'attraction': 'прибыль', 'aurum': 'аурум', 'ally': 'союзник', 'diving': 'дайвер', 'joy': 'радость', 'feature': 'выбрать', 'witch': 'ведьма', 'know': 'знать', 'sub': 'подлодка', 'cancel': 'снос', 'business': 'дело', 'club': 'турклуб', 'catch': 'поймать', 'baby': 'малыш', 'convention': 'слёт', 'slot': 'ячейка', 'try': 'попробовать', 'feel': 'чувствовать', 'construct': 'строить', 'dream': 'сбываться', 'decoration': 'украшение', 'hourglass': 'часы', 'farmer': 'фермер', 'sea': 'приключение', 'mr': 'мистер', 'vampire': 'вампир', 'owner': 'владелец', 'poach': 'всмятку', 'room': 'здание', 'key': 'ключ', 'trouble': 'беда', 'income': 'событие', 'ring': 'кольцо', 'damage': 'урон', 'add': 'друг', 'antique': 'шкатулка', 'process': 'процесс', 'silver': 'серебряный', 'like': 'хотеть', 'word': 'слово', 'ride': 'прокатиться', 'collect': 'собрать', 'evening': 'вечер', 'cracker': 'ракета', 'parrot': 'попугай', 'round': 'розовый', 'yacht': 'яхта', 'mega': 'мег', 'clock': 'вечность', 'kitty': 'видеть', 'palace': 'дворец', 'lose': 'искать', 'lock': 'ключ', 'development': 'развитие', 'conveyor': 'конвейер', 'residence': 'обитель', 'kind': 'турист', 'train': 'поезд', 'connection': 'интернет', 'haha': 'это', 'gallery': 'улучшение', 'hologram': 'свобода', 'reach': 'уровень', 'way': 'путь', 'grape': 'виноград', 'bakery': 'кондитерский', 'medal': 'медаль', 'tom': 'маккензи', 'grain': 'зерно', 'reserve': 'ошибка', 'pay': 'заплатить', 'monument': 'статуя', 'middle': 'восточный', 'tropic': 'тропик', 'holiday': 'праздник', 'rock': 'дерево', 'facebook': 'facebook', 'ship': 'корабль', 'leaderboard': 'рейтинг', 'tower': 'стела', 'hit': 'решающий', 'year': 'год', 'device': 'фотография', 'creation': 'сила', 'symbol': 'символ', 'boat': 'катер', 'bottle': 'вода', 'box': 'шкатулка', 'market': 'ярмарка', 'log': 'отключить', 'suitcase': 'потерянный', 'amour': 'принцесса', 'maximum': 'максимальный', 'inn': 'гостиница', 'seeker': 'получить', 'phoenix': 'феникс', 'expert': 'мастер', 'field': 'поле', 'night': 'ночь', 'fortune': 'фортуна', 'paint': 'краска', 'coupon': 'купон', 'drink': 'пить', 'giant': 'морской', 'oak': 'дуб', 'experience': 'опыт', 'essence': 'эссенция', 'piggy': 'купить', 'guest': 'гость', 'contest': 'конкурс', 'fund': 'недостаточно', 'memory': 'память', 'inventor': 'изобретатель', 'aquarium': 'аквариум', 'smile': 'фестиваль', 'xiv': 'битва', 'dog': 'фургончик', 'meditation': 'медитация', 'badge': 'бейдж', 'air': 'воздух', 'eye': 'глаз', 'enemy': 'противник', 'farming': 'фермерский', 'perfect': 'идеально', 'laugh': 'смех', 'factory': 'улучшить', 'land': 'территория', 'team': 'команда', 'set': 'набор', 'harvest': 'праздник', 'bite': 'перекусить', 'st': 'святой', 'miracle': 'рождественский', 'result': 'результат', 'bar': 'панель', 'duel': 'дуэль', 'book': 'сказать', 'sack': 'подарок', 'detective': 'детектив', 'sam': 'обмен', 'paper': 'бумажный', 'easter': 'пасхальный', 'santa': 'сант', 'cloud': 'облако', 'solo': 'задание', 'glass': 'мочь', 'inspiration': 'улучшение', 'meet': 'встреча', 'panther': 'пантера', 'achievement': 'достижение', 'continue': 'продолжаться', 'mouse': 'заводной', 'hand': 'рука', 'produce': 'вырабатывать', 'tour': 'экскурсия', 'class': 'занятие', 'wave': 'волна', 'statue': 'статуя', 'splash': 'аттракцион', 'glory': 'слава', 'universe': 'вселенная', 'decorate': 'украсить', 'shoe': 'турист', 'cheer': 'всё', 'resource': 'ресурс', 'bandage': 'бинт', 'congratulation': 'награда', 'festival': 'спортивный', 'moon': 'луна', 'taste': 'вкус', 'dolphin': 'остров', 'renaissance': 'ренессанс', 'money': 'деньга', 'tab': 'раздел', 'plant': 'электростанция', 'operation': 'операция', 'boom': 'бум', 'recreation': 'парк', 'blow': 'взорвать', 'celebrate': 'отпраздновать', 'spell': 'заклинание', 'scare': 'прогнать', 'window': 'окно', 'choose': 'выбрать', 'toadstool': 'безопасный', 'item': 'предмет', 'queen': 'королева', 'winter': 'зимний', 'planner': 'час', 'battle': 'битва', 'piece': 'комбинация', 'hero': 'сокровище', 'member': 'союз', 'stuff': 'всё', 'champion': 'чемпион', 'arrive': 'терпение', 'hall': 'зал', 'attract': 'привлекать', 'map': 'карта', 'prepare': 'подготовиться', 'stamp': 'марка', 'create': 'союз', 'bundle': 'крошечный', 'picture': 'фотография', 'cream': 'мороженое', 'walk': 'остров', 'contain': 'предмет', 'mini': 'волна', 'hunter': 'кладоискатель', 'tree': 'дерево', 'school': 'школа', 'cook': 'кулинарный', 'tulip': 'тюльпан', 'smell': 'чай', 'charge': 'зарядить', 'bird': 'птица', 'ruin': 'разрушить', 'eat': 'съесть', 'quantum': 'электростанция', 'effect': 'эффект', 'pink': 'розовый', 'medium': 'средний', 'point': 'союз', 'station': 'электростанция', 'card': 'карта', 'spider': 'паук', 'requirement': 'персонал', 'royal': 'музей', 'want': 'хотеть', 'step': 'шаг', 'beauty': 'красота', 'eco': 'улучшить', 'vii': 'битва', 'lantern': 'фонарь', 'sell': 'продать', 'liberty': 'свобода', 'think': 'думать', 'unit': 'блок', 'pilgrim': 'пилигрим', 'challenge': 'хороший', 'real': 'настоящий', 'button': 'кнопка', 'diary': 'дневник', 'man': 'знать', 'breath': 'отель', 'park': 'улучшить', 'bouncy': 'надувной', 'cookie': 'печенька', 'cool': 'это', 'space': 'космический', 'vase': 'аурум', 'read': 'почитать', 'mile': 'гоночный', 'stock': 'накопить', 'adventure': 'морской', 'idea': 'идея', 'stick': 'флешка', 'participate': 'битва', 'drill': 'бур', 'fly': 'улететь', 'demolition': 'отменить', 'discount': 'скидка', 'pumpkin': 'тыквенный', 'travel': 'гоночный', 'work': 'работа', 'row': 'подряд', 'cap': 'фишка', 'talisman': 'ошибка', 'follow': 'достижение', 'letter': 'сант', 'project': 'проект', 'hear': 'слышать', 'ball': 'бал', 'john': 'джон', 'sport': 'спортивный', 'preparation': 'подготовка', 'forget': 'забыть', 'harmony': 'гармония', 'weapon': 'оружие', 'arrival': 'прибытие', 'honey': 'мёд', 'improve': 'привлекать', 'people': 'человек', 'friendship': 'дружелюбие', 'easterson': 'пасхалкин', 'increase': 'увеличить', 'deal': 'урон', 'exhibition': 'выставка', 'speed': 'ускорить', 'talk': 'пообщаться', 'cost': 'стоимость', 'sky': 'кристалл', 'mystery': 'загадочный', 'tasty': 'вкусный', 'planet': 'планета', 'leader': 'лидер', 'internet': 'интернет', 'ear': 'знать', 'cute': 'это', 'research': 'исследование', 'kettlebell': 'гиря', 'citadel': 'улучшить', 'opportunity': 'возможность', 'hold': 'провести', 'enjoy': 'остров', 'kit': 'paradise', 'bunche': 'гроздь', 'meow': 'заводной', 'hope': 'надеяться', 'gain': 'получить', 'lover': 'аллея', 'shark': 'акула', 'sculpture': 'скульптура', 'fountain': 'фонтан', 'strike': 'комбо', 'dinosaur': 'это', 'summer': 'призрак', 'green': 'зелёный', 'sphere': 'сила', 'start': 'начать', 'cart': 'тачка', 'pepper': 'сочный', 'worker': 'рабочий', 'center': 'центр', 'world': 'мир', 'coffee': 'кофе', 'live': 'жить', 'lot': 'участок', 'pier': 'пирс', 'manage': 'удаться', 'jungle': 'остров', 'birthday': 'рождение', 'super': 'супер', 'fame': 'рейтинг', 'shaman': 'шаман', 'archeologist': 'археолог', 'obtain': 'получить', 'cafe': 'кафе', 'battery': 'батарейка', 'delicious': 'вкусный', 'boutique': 'бутик', 'twilight': 'сундук', 'gold': 'золото', 'make': 'остров', 'crystal': 'кристалл', 'count': '…', 'excellent': 'отличный', 'frost': 'джон', 'record': 'распродажа', 'diner': 'закусочный', 'princess': 'принцесса', 'season': 'пляжный', 'event': 'событие', 'type': 'тип', 'enter': 'ввести', 'let': 'давать', 'restaurant': 'ресторан', 'photo': 'фото', 'strawberry': 'кексик', 'organize': 'организовать', 'bug': 'багз', 'guy': 'человек', 'care': 'забота', 'quest': 'задание', 'viii': 'битва', 'technician': 'роботехника', 'dessert': 'десерт', 'need': 'нужный', 'deluxe': 'отель', 'number': 'максимальный', 'stage': 'этап', 'hotel': 'отель', 'come': 'прийти', 'rainbow': 'радуга', 'action': 'действие', 'place': 'место'}\n"
     ]
    }
   ],
   "source": [
    "termbase_en_lower = [x.lower() for x in termbase]\n",
    "for x in unigrams:\n",
    "    if x not in termbase_en_lower:\n",
    "        termbase[x] = unigrams[x]\n",
    "print(termbase)         "
   ]
  },
  {
   "cell_type": "code",
   "execution_count": 22,
   "metadata": {},
   "outputs": [],
   "source": [
    "#поиск лучших соответствий по топ-3 ближайшим словам\n",
    "def options():\n",
    "    print(\"Какой термин вы ищете?\")\n",
    "    term = input()\n",
    "    with open('D:\\\\python\\\\CL\\\\alignment\\\\termbase_3_X.pkl', 'rb') as f:\n",
    "        unigrams3 = pickle.load(f)\n",
    "    print(unigrams3[term])"
   ]
  },
  {
   "cell_type": "code",
   "execution_count": 169,
   "metadata": {
    "scrolled": false
   },
   "outputs": [
    {
     "name": "stdout",
     "output_type": "stream",
     "text": [
      "Какой термин вы ищете?\n",
      "unlock\n",
      "['открыть', 'достижение', 'получить']\n"
     ]
    }
   ],
   "source": [
    "options()"
   ]
  },
  {
   "cell_type": "code",
   "execution_count": 47,
   "metadata": {},
   "outputs": [
    {
     "data": {
      "text/plain": [
       "2427"
      ]
     },
     "execution_count": 47,
     "metadata": {},
     "output_type": "execute_result"
    }
   ],
   "source": [
    "#проверим сколько у нас совпадений со сделанной вручную базой\n",
    "df_tb = pd.read_csv('PI2TB.csv', sep=',')\n",
    "df_tb = df_tb.English.drop_duplicates()\n",
    "list_tb = df_tb.tolist()\n",
    "list_tb_clean = [x.lower().strip() for x in list_tb]\n",
    "len(list_tb_clean)"
   ]
  },
  {
   "cell_type": "code",
   "execution_count": 52,
   "metadata": {},
   "outputs": [
    {
     "name": "stdout",
     "output_type": "stream",
     "text": [
      "701 ['construction', 'business', 'loading', 'video ad', 'treasure chest', 'water supply', 'snowball supply', 'cancel', 'fuel supply', 'accessory slot', 'demolish', 'stranger', 'electricity', 'energy', 'friendship level', 'crystal', 'staff', 'tourist', 'capacity', 'entertainment', 'bank', 'bonus', 'chapter', 'upgrade', 'journal', 'balance', 'generosity', 'luck', 'ranking', 'shop', 'difficulty', 'sunshine center', 'souvenir store', 'cabin', 'red pitcher cafe', 'gurgle attraction', 'splash attraction', 'bungalow', 'water slide', 'clown water slide', 'circus', 'phoenix hotel', 'irish pub', 'pranzo pizzeria', 'perfume store', 'windmill', 'pier', 'deluxe hotel', 'aroma coffee house', 'solar power plant', 'bavarian inn', 'mini hotel', 'mansion', 'dolphinarium', 'beach anticafe', 'recreation park', 'leafy gazebo', 'generator', 'aeronaut cafe', 'villa', 'renaissance hotel', 'chest', 'island hotel', 'wild west attraction', 'ice cream truck', 'cupid hotel', 'leprechaun hill hotel', 'golden barrel pub', 'pyramid', 'saint patrick hotel', 'recreation area', 'easter bunny', 'amphitheater', 'tree cafe', 'planetarium', 'observatory', 'crystal bank', 'ancient temple', 'donut cafe', 'yummy bakery', 'ancient tree', 'toy store', 'galactic embassy', 'alien monument', 'galaxy hotel', 'vintage hotel', 'chateau sentein', 'atlantis villa', 'twilight rift', 'sinister oak', 'pilgrim hotel', 'pumpkinley bakery', 'happy santa hotel', 'elf workshop', 'snow globe museum', 'small holiday tree', 'snow castle', 'holiday tree', 'royal navy museum', 'oceanarium', 'fairytale castle', 'green lamp park', 'red dragon hotel', 'easter miracle hotel', 'pineapple café', 'escher hotel', 'jolly roger', 'astral wanderer hotel', 'alien park', 'atlant hotel', 'wave hotel', 'paradise island museum', 'surprise basket', 'bouncy castle', 'birthday cake', 'mystical rift', 'shady oak', 'twilight manor', 'welcome hotel', 'north pole hotel', 'magical gift center', 'happy little tree', 'chinese lantern', 'magic box', 'shanghai restaurant', 'inspiration gallery', 'baby cupid', 'radiant passion hotel', 'solaris station', 'grand leprechaun hotel', 'friendship park', 'solitude park', 'flower basket', 'happy easter decoration', 'quantum power station', 'titan kettlebell', 'interplanetary embassy', 'infinity hotel', 'galactic neighbor', 'salon senorita', 'grand cake hotel', 'gift basket', 'banana mama dessert', 'eureka hotel', 'spooky pumpkin', 'midnight hotel', 'autumn hotel', 'elven hotel', 'sky chariot', 'ice citadel', 'jingle karaoke', 'good boy', 'winter residence', 'citadel foundation', 'leprechaun hill', 'mysterious hill', 'easter diner', 'cruise boat', 'cruise yacht', 'atom model', 'saturn hologram', 'meow station', 'puss shuttle', 'tropical cake', 'message pod', 'halloween castle', 'gloomy castle', 'pumpkin monster', 'harvest restaurant', 'egyptian pyramid', 'pirate ship', 'repair', 'download', 'participation case', 'score', 'warehouse', 'profit', 'treasure sub', 'great entertainer', 'black friday', 'common goal', 'community', 'individual goal', 'unioner', 'friend', 'gift', 'item', 'open', 'key', 'union leader', 'level', 'sky crystal', 'everyday treasure', 'medal', 'legend', 'task', 'master', 'amateur', 'ufo', 'naomi', 'feature bar', 'news', 'profile', 'combo', 'combo strike', 'daily bonus', 'random battle', 'union battle', 'sandy store', 'winter store', 'scientific tournament', 'rate', 'luxury', 'wealth', 'bronze key', 'butterfly net', 'silver key', 'uncle sam hat', 'coral', 'fuel', 'demarcation tape', 'sour candy', 'spooky box', 'cranberry bunch', 'pumpkin pie', 'snowball crossbow', 'snowball thrower', 'snowball cannon', 'snowminator', 'gingerbread', 'holiday present', 'fir cone', 'champion case', 'romantic gift', 'lucky chest', 'discount certificate', 'holiday basket', 'water machine gun', 'squirt gun', 'water slingshot', 'banana jam', 'banana cake', 'flower', 'feather', 'starfish', 'dragon fruit', 'gear', 'tasty fish', 'ice cube', 'birthday gift', 'treasure map', 'sturdy shovel', 'incense', 'antique chest', 'mystery map', 'rose', 'pumpkin lantern', 'snowflake', 'gift bag', 'paper dragon', 'wooden dragon', 'golden dragon', 'teddy bear', 'cute teddy bear', 'amorous teddy bear', 'leprechaun cap', 'leprechaun bowler', 'pick', 'chocolate bunny', 'wooden bunny', 'ice cream', 'toy dumbbell', 'road equipment', 'ancient artifact', 'lion statuette', 'quantum trap', 'magnetic dust', 'leprechaun hat', 'quantum generator', 'control panel', 'quantum substance', 'powerful dryer', 'space chest', 'light piggy bank', 'souvenir plate', 'jasper', 'aquamarine', 'lucky star', 'tablet', 'autumn gift', 'souvenir', 'candy cane', 'mistletoe leaf', 'mistletoe crown', 'stone block', 'fruit ice', 'old watch', 'sharp watch', 'new year watch', 'surprise bag', 'ice coffret', 'chocolate heart', 'pearl', 'anniversary chest', 'emerald box', 'spyglass', 'flyer', 'megaphone', 'sea gift', 'ai chip', 'purr box', 'bitey case', 'scratchy case', 'surprise gift bag', 'surprise gift box', 'twilight chest', 'fresh broccoli', 'magnet', 'pleasant surprise', 'stone idol', 'kerosene lamp', 'dragon fruit juice', 'build', 'road', 'demolish road', 'screenshot', 'shaman', 'pearl frame', 'service', 'elite', 'attractiveness', 'special offer', 'spring sale', 'star rating', 'easter', 'talisman', 'sinister crystal', 'amazing crystal', 'union store', 'union', 'invitation', 'unique offer', 'elite statuette', 'vine', 'color', 'emblem', 'frame', 'union type', 'hotel', 'restaurant', 'building', 'snatchin', 'earie', 'dorin', 'ghost', 'chinese new year', 'decoration', 'love candy', 'badge', 'chocolate ice cream', 'flower festival', 'workshop', 'merry barrel hotel', 'pirate frigate', 'sea adventure', 'tournament', 'turtilliada', 'rocket cracker', 'pilot purrington', 'captain pawson', 'cat', 'quest', 'resource', 'planet', 'independence day', 'castle', 'architect', 'sinister box', 'pumpkin', 'accessory', 'witch', 'gift', 'morticia spell', 'santa claus', 'lapland park', 'penguin', 'park', 'snowball', 'music horoscope', 'unicorn', 'grandpa', 'leprechaun king', 'perfect gift', 'heartfelt gift', 'princess amour', 'rainbow essence', 'clovercoin', 'waterthrower', 'rainbow', 'clover', 'leprechaun', 'electro party', 'stamp', 'synthpop hall', 'timeless square', 'panda bear hotel', 'unicorn palace', 'wondershop', 'plantation', 'bamboo', 'panda', 'bunny', 'sweet pepper', 'captain emilia', 'sailor', 'baby turtle neil', 'set', 'pirate party', 'sailor jack albatross', 'update', 'easter gift', 'dynamite', 'firework', 'magic flower', 'andy bloom', 'mia fachwerk', 'spring gift', 'spring set', 'red panda', 'scientific boom', 'bundle', 'pack', 'medium', 'middle', 'super', 'mega', 'grand', 'great', 'giant', 'offer', 'skater stamp', 'skateland action park', 'kettlebell', 'island', 'turtle', 'event', 'hearty', 'anna turner', 'crystal', 'tonic', 'adventure', 'spring yard', 'hot dog', 'tom', 'tom mckenzie', 'mano', 'bridge', 'heart', 'parrot', 'mosquito repellent', 'medkit', 'craft', 'water totem', 'cosmo park', 'zero gravity ride', 'blazar box', 'sidney meyer', 'quasar box', 'holiday tournament', 'emerald turtle', 'eye', 'reward', 'special cap', 'duel', 'clara loft', 'egg', 'ancient egg', 'sidney', 'special gift', 'paradise island', 'birthday', 'resort', 'pumpkin box', 'ghost residence', 'item', 'opponent', 'halloween', 'twilight gift', 'sam watchyerhead', 'astral gift', 'professor craze', 'speedboat', 'happy halloween', 'tourist', 'facebook', 'live music', 'screenshot', 'progress', 'store', 'rhee', 'jay', 'device', 'warehouse', 'battle', 'danny mattock', 'kathy melon', 'antonio di lettuce', 'badge', 'harvest festival', 'autumn villa', 'farming lot', 'farmer', 'contest', 'sunny gallery', 'gift factory', 'gift store', 'mark postman', 'magic sand', 'north pole', 'gift market', 'festival', 'party', 'liquid ice', 'magic sand', 'snatchin', 'new year embassy', 'round table', 'wonder hammer', 'priceless gift', 'snowball conveyor', 'snowflake lab', 'new year spirit', 'collection', 'leprechaun', 'croquet cup', 'record sale', 'masquerade', 'honey', 'thanksgiving', 'area', 'mystery box', 'antique box', 'little cupid', 'nocturnal palace', 'william strange', 'romantic festival', 'quest', 'member', 'prize', 'friend', 'chest', 'player', 'group', 'share', 'request', 'join', 'public', 'leader', 'rating', 'sage qiu', 'captain lei wu', 'cunning hanna', 'red dragon djong', 'baby phoenix', 'ship', 'lunar gingerbread', 'lunar gingerbread', 'ship hull', 'phoenix', 'talk', 'banish', 'collect', 'complete', 'feed', 'pet', 'receive', 'candlelight dinner', 'territory', 'leopard', 'party', 'coin', 'detective', 'temple', 'john frost', 'snowball fight', 'aurum', 'detective convention', 'brush', 'courier', 'yukio bakaitis', 'red pitcher cafe', 'rob malibu', 'builder', 'organize', 'quantum trap', 'sphere', 'min', 'temple', 'smile festival', 'worker', 'hold', 'teatime', 'pretzelfest', 'forest keeper', 'stone golem', 'air essence', 'golem bag', 'forest portal', 'spring adventure', 'sky tower', 'bean seminar', 'tap', 'click', 'level', 'achievement', 'speed', 'achievement', 'point', 'unlock', 'eco hotel', 'earn', 'scientist', 'shop', 'golem', 'forest magic lesson', 'owner', 'john', 'holiday sack', 'spooky gift', 'magic gift box', 'panda pouch', 'tropical exhibition', 'festive dinner', 'enlightenment hotel', 'meditative disco', 'spacecraft', 'jam day', 'generous dragon hotel', 'magic train', 'cozy yard', 'space shuttle', 'air castle', 'witch hill', 'witch mansion', 'autumn estate', 'autumn ranch', 'panda bear pagoda', 'blissful corner', 'leprechaun house', 'tulip', 'caramel paint', 'cute panda', 'tap', 'flower stall', 'lily valley', 'paper pinwheel', 'spring basket', 'forest gift', 'flower shop', 'bunny glade', 'time', 'keeper', 'shell', 'energy', 'task', 'marathon', 'slot', 'seahorse', 'jellyfish', 'rainbow lightning', 'totem', 'piastre', 'championship', 'wonder catalog', 'cabin', 'black panther', 'fountain', 'boat', 'bank', 'statuette', 'eastern ridge', 'paradise', 'process', 'flower photoshoot', 'star rating', 'staff', 'snow', 'fuel', 'water', 'tab', 'recipe', 'friendship', 'friendship level', 'remove', 'combination', 'phoenix', 'beach', 'halloween', 'vampire', 'faq', 'experience']\n"
     ]
    }
   ],
   "source": [
    "our_tb_clean = [x.lower().strip() for x in list(termbase.keys())]\n",
    "common = [x for x in list_tb_clean if x in our_tb_clean]\n",
    "print(len(common), common)"
   ]
  },
  {
   "cell_type": "code",
   "execution_count": 16,
   "metadata": {},
   "outputs": [],
   "source": [
    "termbase_df.to_csv(\"termbase1.csv\", encoding = \"utf-8\")"
   ]
  }
 ],
 "metadata": {
  "kernelspec": {
   "display_name": "Python 3",
   "language": "python",
   "name": "python3"
  },
  "language_info": {
   "codemirror_mode": {
    "name": "ipython",
    "version": 3
   },
   "file_extension": ".py",
   "mimetype": "text/x-python",
   "name": "python",
   "nbconvert_exporter": "python",
   "pygments_lexer": "ipython3",
   "version": "3.9.0"
  }
 },
 "nbformat": 4,
 "nbformat_minor": 4
}
