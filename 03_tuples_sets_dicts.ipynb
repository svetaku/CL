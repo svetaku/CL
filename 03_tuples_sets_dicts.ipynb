{
  "nbformat": 4,
  "nbformat_minor": 0,
  "metadata": {
    "colab": {
      "name": "03_tuples_sets_dicts",
      "provenance": [],
      "collapsed_sections": [
        "YPY75dCcrW7f",
        "LKlVNlBfjJHx",
        "zDDJ_qsdqvk-"
      ]
    },
    "kernelspec": {
      "display_name": "Python 3",
      "language": "python",
      "name": "python3"
    },
    "language_info": {
      "codemirror_mode": {
        "name": "ipython",
        "version": 3
      },
      "file_extension": ".py",
      "mimetype": "text/x-python",
      "name": "python",
      "nbconvert_exporter": "python",
      "pygments_lexer": "ipython3",
      "version": "3.8.2"
    }
  },
  "cells": [
    {
      "cell_type": "markdown",
      "metadata": {
        "id": "fKK1NqdSabRi"
      },
      "source": [
        "*Сегодня мы поговорим о новых типах данных: кортежах, множествах и словарях*"
      ]
    },
    {
      "cell_type": "markdown",
      "metadata": {
        "id": "YPY75dCcrW7f"
      },
      "source": [
        "##**Кортеж (tuple)**\n",
        "\n",
        "это неизменяемый список.\n",
        "\n",
        "Зачем нужны кортежи, если есть списки?\n",
        "\n",
        "    1. Защита данных. Кортеж защищен от изменений, как намеренных (что плохо), так и случайных (что хорошо).\n",
        "    2. Меньший размер. Вам нужно меньше памяти, чтобы хранить данные"
      ]
    },
    {
      "cell_type": "code",
      "metadata": {
        "id": "XgCyWbsYr-JO",
        "colab": {
          "base_uri": "https://localhost:8080/"
        },
        "outputId": "b57d82f6-8bd6-4184-d79b-81c293f8b207"
      },
      "source": [
        "# сравним размеры\n",
        "\n",
        "a = (1, 2, 3, 4, 5, 6) # кортеж\n",
        "b = [1, 2, 3, 4, 5, 6] # лист/список\n",
        "\n",
        "print(\"\\nSize of the tuple: \",a.__sizeof__(),\"\\nsize of the list: \",b.__sizeof__()) \n",
        "\n",
        "# если вы не понимаете, что происходит в этой ячейке, не переживайте: метод .__sizeof__() пока можно воспринимать как асбтракцию\n"
      ],
      "execution_count": null,
      "outputs": [
        {
          "output_type": "stream",
          "text": [
            "\n",
            "Size of the tuple:  72 \n",
            "size of the list:  88\n"
          ],
          "name": "stdout"
        }
      ]
    },
    {
      "cell_type": "markdown",
      "metadata": {
        "id": "kwkjBl0T12UV"
      },
      "source": [
        "Как работать с кортежами? Примерно так же, как и со списками. Давайте создадим кортеж: \n",
        "\n",
        "    1. С помощью встроенной функции tuple()\n",
        "\n"
      ]
    },
    {
      "cell_type": "code",
      "metadata": {
        "id": "kriHPlVcspMc",
        "colab": {
          "base_uri": "https://localhost:8080/"
        },
        "outputId": "13e5c6e8-5dc8-463a-d780-4b1ae22ea143"
      },
      "source": [
        "a = tuple() \n",
        "print(a, \"\\n\",type(a))"
      ],
      "execution_count": null,
      "outputs": [
        {
          "output_type": "stream",
          "text": [
            "() \n",
            " <class 'tuple'>\n"
          ],
          "name": "stdout"
        }
      ]
    },
    {
      "cell_type": "markdown",
      "metadata": {
        "id": "Z1Jd5U1M7PT1"
      },
      "source": [
        "    2. С помощью литерала кортежа ()"
      ]
    },
    {
      "cell_type": "code",
      "metadata": {
        "id": "yLIrwtKd7P30",
        "colab": {
          "base_uri": "https://localhost:8080/"
        },
        "outputId": "cf9e7b3f-7dc2-4fdc-f0b5-01fddbbb1556"
      },
      "source": [
        "b = ()\n",
        "print(b, \"\\n\",type(b))\n"
      ],
      "execution_count": null,
      "outputs": [
        {
          "output_type": "stream",
          "text": [
            "() \n",
            " <class 'tuple'>\n"
          ],
          "name": "stdout"
        }
      ]
    },
    {
      "cell_type": "markdown",
      "metadata": {
        "id": "yDSTSFZz2ARR"
      },
      "source": [
        "Создаем кортеж из одного элемента:"
      ]
    },
    {
      "cell_type": "code",
      "metadata": {
        "id": "WJOgLwE22Nm_",
        "colab": {
          "base_uri": "https://localhost:8080/"
        },
        "outputId": "7e7a22d9-32cd-4f90-f7d4-acb0d6fd4dd0"
      },
      "source": [
        "a = ('sljbglb ;k')\n",
        "print(a, \"\\n\",type(a))\n",
        "# проверим его тип "
      ],
      "execution_count": null,
      "outputs": [
        {
          "output_type": "stream",
          "text": [
            "sljbglb ;k \n",
            " <class 'str'>\n"
          ],
          "name": "stdout"
        }
      ]
    },
    {
      "cell_type": "markdown",
      "metadata": {
        "id": "zLdrLOn87nW-"
      },
      "source": [
        "\n",
        "Получилась строка :(  \n",
        "    \n",
        "А как получить кортеж?\n",
        "\n"
      ]
    },
    {
      "cell_type": "code",
      "metadata": {
        "id": "KsCCXu7L73Ic",
        "colab": {
          "base_uri": "https://localhost:8080/"
        },
        "outputId": "053710c7-330d-4150-f5dd-de5b86ee0322"
      },
      "source": [
        "a = ('sljbglb ;k', ) # все дело в запятой! \n",
        "\n",
        "print(a, \"\\n\",type(a))\n",
        "# проверим тип "
      ],
      "execution_count": null,
      "outputs": [
        {
          "output_type": "stream",
          "text": [
            "('sljbglb ;k',) \n",
            " <class 'tuple'>\n"
          ],
          "name": "stdout"
        }
      ]
    },
    {
      "cell_type": "markdown",
      "metadata": {
        "id": "oAtBJPku8Lnv"
      },
      "source": [
        "    3. и еще один способ задать кортеж:"
      ]
    },
    {
      "cell_type": "code",
      "metadata": {
        "id": "aq-kuGVJ8LHf",
        "colab": {
          "base_uri": "https://localhost:8080/"
        },
        "outputId": "8bee18b5-a796-4d6c-d9a9-31f611a6301d"
      },
      "source": [
        "a = 's',\n",
        "a"
      ],
      "execution_count": null,
      "outputs": [
        {
          "output_type": "execute_result",
          "data": {
            "text/plain": [
              "('s',)"
            ]
          },
          "metadata": {
            "tags": []
          },
          "execution_count": 6
        }
      ]
    },
    {
      "cell_type": "markdown",
      "metadata": {
        "id": "cZxrlN068hK3"
      },
      "source": [
        "создать кортеж из итерируемого объекта можно с помощью функции tuple()"
      ]
    },
    {
      "cell_type": "code",
      "metadata": {
        "id": "styHyGPj8YXC",
        "colab": {
          "base_uri": "https://localhost:8080/"
        },
        "outputId": "eceef338-13a4-4311-983f-88f73174a273"
      },
      "source": [
        "a = tuple('hello')\n",
        "a"
      ],
      "execution_count": null,
      "outputs": [
        {
          "output_type": "execute_result",
          "data": {
            "text/plain": [
              "('h', 'e', 'l', 'l', 'o')"
            ]
          },
          "metadata": {
            "tags": []
          },
          "execution_count": 7
        }
      ]
    },
    {
      "cell_type": "markdown",
      "metadata": {
        "id": "csvhTL2Y8uxw"
      },
      "source": [
        "###Операции с кортежами\n",
        "\n",
        "кортежам доступны все операции над списками, не изменяющие список: сложение, умножение на число, методы index() и count()), можно работать с индексами и так далее."
      ]
    },
    {
      "cell_type": "markdown",
      "metadata": {
        "id": "LKlVNlBfjJHx"
      },
      "source": [
        "##**Множество (set)**\n",
        "\n",
        "это тоже \"контейнер\" для данных, но в отличие от листа(списка), он содержит уникальные, не повторяющиеся элементы.\n",
        "\n",
        "Давайте создадим множество:\n",
        "\n",
        "    1. с помощью функуии set()\n",
        "\n"
      ]
    },
    {
      "cell_type": "code",
      "metadata": {
        "id": "BaShf-dHlOtZ",
        "colab": {
          "base_uri": "https://localhost:8080/"
        },
        "outputId": "e54d7347-2187-4e84-c31d-89de77c05226"
      },
      "source": [
        "x = set(\"heLlo\")\n",
        "z = list(x)\n",
        "print(z)\n",
        "\n",
        "print(set([1,2,3]))"
      ],
      "execution_count": null,
      "outputs": [
        {
          "output_type": "stream",
          "text": [
            "['l', 'h', 'L', 'e', 'o']\n",
            "{1, 2, 3}\n"
          ],
          "name": "stdout"
        }
      ]
    },
    {
      "cell_type": "code",
      "metadata": {
        "id": "_EopXMulaUrO",
        "colab": {
          "base_uri": "https://localhost:8080/"
        },
        "outputId": "c8838740-7572-422c-c629-9c750a854179"
      },
      "source": [
        "fruits = [\"apples\",\"peaches\",\"cherries\",\"pears\",\"oranges\",\"persimmons\"] # задали список, сохранили в переменную\n",
        "#  проверим его тип:\n",
        "print(type(fruits)) # list\n",
        "# давайте изменим тип на set с помощью функции set()\n",
        "\n",
        "fruits = set(fruits) #применили функцию, пересохранили переменную\n",
        "\n",
        "#проверим ее тип еще раз \n",
        "print(type(fruits)) # set \n",
        "\n",
        "type(fruits)\n"
      ],
      "execution_count": null,
      "outputs": [
        {
          "output_type": "stream",
          "text": [
            "<class 'list'>\n",
            "<class 'set'>\n"
          ],
          "name": "stdout"
        },
        {
          "output_type": "execute_result",
          "data": {
            "text/plain": [
              "set"
            ]
          },
          "metadata": {
            "tags": []
          },
          "execution_count": 22
        }
      ]
    },
    {
      "cell_type": "markdown",
      "metadata": {
        "id": "Iq05WnEfmTFK"
      },
      "source": [
        "    2. с помощью литерала {} "
      ]
    },
    {
      "cell_type": "code",
      "metadata": {
        "id": "p81krk1FlIDE",
        "colab": {
          "base_uri": "https://localhost:8080/"
        },
        "outputId": "bffe6d7f-6ce1-4d10-c046-42dc2406f45f"
      },
      "source": [
        "new_set = {2,5.9,\"apples\", False}  # создали переменную, сложили в нее некоторые объекты\n",
        "# можем складывать в множество объекты разных типов: числовые, строковые, логические\n",
        "\n",
        "# давайте проверим, что new_set действительно множество\n",
        "print(type(new_set))\n"
      ],
      "execution_count": null,
      "outputs": [
        {
          "output_type": "stream",
          "text": [
            "<class 'set'>\n"
          ],
          "name": "stdout"
        }
      ]
    },
    {
      "cell_type": "markdown",
      "metadata": {
        "id": "ydhwxVHInUMi"
      },
      "source": [
        "    NB! обратите внимание, что в отличие от листа, множество нельзя задать пустым литералом и что-то в него добавлять"
      ]
    },
    {
      "cell_type": "code",
      "metadata": {
        "id": "oLz-iV-1muUf",
        "colab": {
          "base_uri": "https://localhost:8080/",
          "height": 52
        },
        "outputId": "d53fa605-cf94-497a-c1da-623b4a58acb5"
      },
      "source": [
        "another_set = {} # создали пустое....\n",
        "\n",
        "# ....множество? Давайте проверим тип созданной переменной \n",
        "\n",
        "print(type(another_set)) \n",
        "\n",
        "\"\"\" это не множество, это словарь! (о них мы поговорим позже). \n",
        "Давайте пока запомним главное: множества не задаются пустыми литералами \"\"\" "
      ],
      "execution_count": null,
      "outputs": [
        {
          "output_type": "stream",
          "text": [
            "<class 'dict'>\n"
          ],
          "name": "stdout"
        },
        {
          "output_type": "execute_result",
          "data": {
            "application/vnd.google.colaboratory.intrinsic+json": {
              "type": "string"
            },
            "text/plain": [
              "' это не множество, это словарь! (о них мы поговорим позже). \\nДавайте пока запомним главное: множества не задаются пустыми литералами '"
            ]
          },
          "metadata": {
            "tags": []
          },
          "execution_count": 11
        }
      ]
    },
    {
      "cell_type": "markdown",
      "metadata": {
        "id": "y4CRSI6nolqC"
      },
      "source": [
        "Множества удобно использовать для удаления повторяющихся элементов:"
      ]
    },
    {
      "cell_type": "code",
      "metadata": {
        "id": "1NhqLbvingJ0",
        "colab": {
          "base_uri": "https://localhost:8080/"
        },
        "outputId": "576e2f11-1b08-4d7a-b993-157c74eb59ce"
      },
      "source": [
        "cars = [\"BMW\",\"Toyota\",\"Bentley\",\"Jeep\",\"Jeep\"]\n",
        "cars = set(cars)\n",
        "cars"
      ],
      "execution_count": null,
      "outputs": [
        {
          "output_type": "execute_result",
          "data": {
            "text/plain": [
              "{'BMW', 'Bentley', 'Jeep', 'Toyota'}"
            ]
          },
          "metadata": {
            "tags": []
          },
          "execution_count": 12
        }
      ]
    },
    {
      "cell_type": "markdown",
      "metadata": {
        "id": "lv9JQUBkplRh"
      },
      "source": [
        "операции со множествами"
      ]
    },
    {
      "cell_type": "code",
      "metadata": {
        "id": "rz7uZycLpVDQ",
        "colab": {
          "base_uri": "https://localhost:8080/"
        },
        "outputId": "fa548a61-ccf0-4fec-96a5-7b0706e8175b"
      },
      "source": [
        "#число элементов в множестве (размер множества).\n",
        "len(cars) "
      ],
      "execution_count": null,
      "outputs": [
        {
          "output_type": "execute_result",
          "data": {
            "text/plain": [
              "4"
            ]
          },
          "metadata": {
            "tags": []
          },
          "execution_count": 13
        }
      ]
    },
    {
      "cell_type": "code",
      "metadata": {
        "id": "Y6fK44Icpw9F",
        "colab": {
          "base_uri": "https://localhost:8080/"
        },
        "outputId": "c84b5461-1b54-4c5c-9eea-efa472f80942"
      },
      "source": [
        "# x in s - принадлежит ли x множеству s. Возвращает True/False\n",
        "\n",
        "\"Kia\" in cars\n",
        "# \"Jeep\" in cars"
      ],
      "execution_count": null,
      "outputs": [
        {
          "output_type": "execute_result",
          "data": {
            "text/plain": [
              "False"
            ]
          },
          "metadata": {
            "tags": []
          },
          "execution_count": 14
        }
      ]
    },
    {
      "cell_type": "markdown",
      "metadata": {
        "id": "uG4DH-lYqdbb"
      },
      "source": [
        "И операции, изменяющие множество:"
      ]
    },
    {
      "cell_type": "code",
      "metadata": {
        "id": "KgU_LV5BA-Us",
        "colab": {
          "base_uri": "https://localhost:8080/"
        },
        "outputId": "92405550-5751-4b8d-fe35-f147a1de6ed0"
      },
      "source": [
        "#добавляем элемент в множество\n",
        "#elem = \n",
        "cars.add(\"VolskWagen\")\n",
        "cars "
      ],
      "execution_count": null,
      "outputs": [
        {
          "output_type": "execute_result",
          "data": {
            "text/plain": [
              "{'BMW', 'Bentley', 'Jeep', 'Toyota', 'VolskWagen'}"
            ]
          },
          "metadata": {
            "tags": []
          },
          "execution_count": 15
        }
      ]
    },
    {
      "cell_type": "code",
      "metadata": {
        "id": "Huof99PqqGor",
        "colab": {
          "base_uri": "https://localhost:8080/"
        },
        "outputId": "346b430f-7348-48a2-b58a-fcf5aefb3aa5"
      },
      "source": [
        "# добавляем множество во множество\n",
        "french_cars = {\"Peugeot\", \"Citroën\", \"Renault\"}\n",
        "cars.update(french_cars)\n",
        "cars"
      ],
      "execution_count": null,
      "outputs": [
        {
          "output_type": "execute_result",
          "data": {
            "text/plain": [
              "{'BMW',\n",
              " 'Bentley',\n",
              " 'Citroën',\n",
              " 'Jeep',\n",
              " 'Peugeot',\n",
              " 'Renault',\n",
              " 'Toyota',\n",
              " 'VolskWagen'}"
            ]
          },
          "metadata": {
            "tags": []
          },
          "execution_count": 16
        }
      ]
    },
    {
      "cell_type": "code",
      "metadata": {
        "id": "T85OTjscCEOo",
        "colab": {
          "base_uri": "https://localhost:8080/"
        },
        "outputId": "c0d7cb4b-29a1-4c25-dca6-a2df8b11fd38"
      },
      "source": [
        "# удаляем элемент из множества. \n",
        "cars.remove(\"Jeep\")\n",
        "cars"
      ],
      "execution_count": null,
      "outputs": [
        {
          "output_type": "execute_result",
          "data": {
            "text/plain": [
              "{'BMW', 'Bentley', 'Citroën', 'Peugeot', 'Renault', 'Toyota', 'VolskWagen'}"
            ]
          },
          "metadata": {
            "tags": []
          },
          "execution_count": 17
        }
      ]
    },
    {
      "cell_type": "code",
      "metadata": {
        "id": "Q1-ymgelCR7C",
        "colab": {
          "base_uri": "https://localhost:8080/",
          "height": 163
        },
        "outputId": "24660a37-05cb-4698-90cb-4924a42d95a8"
      },
      "source": [
        "# KeyError, если такого элемента не существует.\n",
        "cars.remove(\"Lamborgini\")"
      ],
      "execution_count": null,
      "outputs": [
        {
          "output_type": "error",
          "ename": "KeyError",
          "evalue": "ignored",
          "traceback": [
            "\u001b[0;31m---------------------------------------------------------------------------\u001b[0m",
            "\u001b[0;31mKeyError\u001b[0m                                  Traceback (most recent call last)",
            "\u001b[0;32m<ipython-input-143-4e59839bee15>\u001b[0m in \u001b[0;36m<module>\u001b[0;34m()\u001b[0m\n\u001b[0;32m----> 1\u001b[0;31m \u001b[0mcars\u001b[0m\u001b[0;34m.\u001b[0m\u001b[0mremove\u001b[0m\u001b[0;34m(\u001b[0m\u001b[0;34m\"Lamborgini\"\u001b[0m\u001b[0;34m)\u001b[0m\u001b[0;34m\u001b[0m\u001b[0;34m\u001b[0m\u001b[0m\n\u001b[0m",
            "\u001b[0;31mKeyError\u001b[0m: 'Lamborgini'"
          ]
        }
      ]
    },
    {
      "cell_type": "code",
      "metadata": {
        "id": "3myR0EyVCYhc"
      },
      "source": [
        "cars.discard(\"Lamborgini\") # удаляет элемент, если он находится в множестве.\n",
        "# Если элемента нет, не поднимает ошибку"
      ],
      "execution_count": null,
      "outputs": []
    },
    {
      "cell_type": "code",
      "metadata": {
        "id": "MtMXFJd7C6PB",
        "colab": {
          "base_uri": "https://localhost:8080/",
          "height": 52
        },
        "outputId": "285c153b-2bcb-4e78-ac61-d356eec329db"
      },
      "source": [
        "# удаляет первый элемент\n",
        "print(cars)\n",
        "cars.pop()\n",
        "\n",
        "# запустите несколько раз, посмотрите на результат"
      ],
      "execution_count": null,
      "outputs": [
        {
          "output_type": "stream",
          "text": [
            "{'Bentley', 'BMW', 'Peugeot', 'Citroën', 'Toyota', 'Renault'}\n"
          ],
          "name": "stdout"
        },
        {
          "output_type": "execute_result",
          "data": {
            "application/vnd.google.colaboratory.intrinsic+json": {
              "type": "string"
            },
            "text/plain": [
              "'Bentley'"
            ]
          },
          "metadata": {
            "tags": []
          },
          "execution_count": 20
        }
      ]
    },
    {
      "cell_type": "code",
      "metadata": {
        "id": "9D-k4CWQDJBi",
        "colab": {
          "base_uri": "https://localhost:8080/",
          "height": 34
        },
        "outputId": "01f12316-fbfb-40a1-c329-e7a069373efe"
      },
      "source": [
        "# очищаем множество\n",
        "\n",
        "cars.clear()\n",
        "cars"
      ],
      "execution_count": null,
      "outputs": [
        {
          "output_type": "execute_result",
          "data": {
            "text/plain": [
              "set()"
            ]
          },
          "metadata": {
            "tags": []
          },
          "execution_count": 155
        }
      ]
    },
    {
      "cell_type": "markdown",
      "metadata": {
        "id": "xqvSy9Hyqr0Q"
      },
      "source": [
        "математические операции со множествами"
      ]
    },
    {
      "cell_type": "code",
      "metadata": {
        "id": "phO-apGeDa_7",
        "colab": {
          "base_uri": "https://localhost:8080/"
        },
        "outputId": "4971f156-43c9-41e3-b002-e7e336f47cdf"
      },
      "source": [
        "fruits # возьмем наше множество фруктов"
      ],
      "execution_count": null,
      "outputs": [
        {
          "output_type": "execute_result",
          "data": {
            "text/plain": [
              "{'apples', 'cherries', 'oranges', 'peaches', 'pears', 'persimmons'}"
            ]
          },
          "metadata": {
            "tags": []
          },
          "execution_count": 21
        }
      ]
    },
    {
      "cell_type": "code",
      "metadata": {
        "id": "lm7L0evHqbVQ",
        "colab": {
          "base_uri": "https://localhost:8080/"
        },
        "outputId": "baaf943e-2ce0-4600-fbb2-888affa9e67d"
      },
      "source": [
        "berries = {\"strawberry\", \"red currant\"}\n",
        "fruits.isdisjoint(berries) # True, если множества  не имеют общих элементов."
      ],
      "execution_count": null,
      "outputs": [
        {
          "output_type": "execute_result",
          "data": {
            "text/plain": [
              "True"
            ]
          },
          "metadata": {
            "tags": []
          },
          "execution_count": 23
        }
      ]
    },
    {
      "cell_type": "code",
      "metadata": {
        "id": "Xvl3ribkEAZH",
        "colab": {
          "base_uri": "https://localhost:8080/"
        },
        "outputId": "412a3695-378a-4ce5-988e-0bc7082ce065"
      },
      "source": [
        "fruits == berries\n",
        " # True если все элементы set принадлежат other,\n",
        " # все элементы other принадлежат set."
      ],
      "execution_count": null,
      "outputs": [
        {
          "output_type": "execute_result",
          "data": {
            "text/plain": [
              "False"
            ]
          },
          "metadata": {
            "tags": []
          },
          "execution_count": 24
        }
      ]
    },
    {
      "cell_type": "code",
      "metadata": {
        "id": "ELuzu41lEORu",
        "colab": {
          "base_uri": "https://localhost:8080/"
        },
        "outputId": "29832be9-8eaa-4ea4-955f-0aa6d708485b"
      },
      "source": [
        "#berries.issubset(fruits) # является ли подмножеством\n",
        "french_cars  <= cars\n",
        "# fruits <= berries # True если все элементы berries принадлежат fruits."
      ],
      "execution_count": null,
      "outputs": [
        {
          "output_type": "execute_result",
          "data": {
            "text/plain": [
              "True"
            ]
          },
          "metadata": {
            "tags": []
          },
          "execution_count": 26
        }
      ]
    },
    {
      "cell_type": "code",
      "metadata": {
        "id": "Nwd7FzFPEsD1",
        "colab": {
          "base_uri": "https://localhost:8080/"
        },
        "outputId": "d3c57d10-3bc3-427b-a047-764b5689c5b3"
      },
      "source": [
        "#fruits.issuperset(berries) # аналогично, но в обратную сторону\n",
        "# berries >= fruits\n",
        "cars >= french_cars"
      ],
      "execution_count": null,
      "outputs": [
        {
          "output_type": "execute_result",
          "data": {
            "text/plain": [
              "True"
            ]
          },
          "metadata": {
            "tags": []
          },
          "execution_count": 28
        }
      ]
    },
    {
      "cell_type": "code",
      "metadata": {
        "id": "K2rxv2lnFD3z",
        "colab": {
          "base_uri": "https://localhost:8080/"
        },
        "outputId": "90590276-2fd0-4333-f712-a72c80997f6f"
      },
      "source": [
        "# fruits.union(berries) # объединение нескольких множеств \n",
        "fruits | berries"
      ],
      "execution_count": null,
      "outputs": [
        {
          "output_type": "execute_result",
          "data": {
            "text/plain": [
              "{'apples',\n",
              " 'cherries',\n",
              " 'oranges',\n",
              " 'peaches',\n",
              " 'pears',\n",
              " 'persimmons',\n",
              " 'red currant',\n",
              " 'strawberry'}"
            ]
          },
          "metadata": {
            "tags": []
          },
          "execution_count": 29
        }
      ]
    },
    {
      "cell_type": "code",
      "metadata": {
        "id": "fXN6VpSoFVQb",
        "colab": {
          "base_uri": "https://localhost:8080/"
        },
        "outputId": "0dff5131-2029-479e-f451-916cdaf1ee95"
      },
      "source": [
        "#  пересечение множеств \n",
        " # пустое, у них нет общих элементов\n",
        "\n",
        "# давайте добавим арбуз \n",
        "\n",
        "fruits.add(\"watermelon\")\n",
        "berries.add(\"watermelon\")\n",
        "\n",
        "fruits.intersection(berries)\n",
        "\n",
        "# fruits & berries\n"
      ],
      "execution_count": null,
      "outputs": [
        {
          "output_type": "execute_result",
          "data": {
            "text/plain": [
              "{'watermelon'}"
            ]
          },
          "metadata": {
            "tags": []
          },
          "execution_count": 30
        }
      ]
    },
    {
      "cell_type": "markdown",
      "metadata": {
        "id": "zDDJ_qsdqvk-"
      },
      "source": [
        "### еще один вид множества - frozenset\n",
        "\n",
        "    set изменяемый, frozenset - нет"
      ]
    },
    {
      "cell_type": "code",
      "metadata": {
        "id": "1RHX7pXrq-42",
        "colab": {
          "base_uri": "https://localhost:8080/"
        },
        "outputId": "7439c737-678f-4538-d74b-4683b99f7605"
      },
      "source": [
        "a = set(\"random\")\n",
        "b = frozenset('Random')\n",
        "a == b # давайте сравним множества"
      ],
      "execution_count": null,
      "outputs": [
        {
          "output_type": "execute_result",
          "data": {
            "text/plain": [
              "False"
            ]
          },
          "metadata": {
            "tags": []
          },
          "execution_count": 31
        }
      ]
    },
    {
      "cell_type": "code",
      "metadata": {
        "id": "yipvU3j8G44r",
        "colab": {
          "base_uri": "https://localhost:8080/"
        },
        "outputId": "9d011be2-2646-4530-d0bc-69e0e0241b73"
      },
      "source": [
        "a.add(1) #добавим элемент в первое множество\n",
        "a"
      ],
      "execution_count": null,
      "outputs": [
        {
          "output_type": "execute_result",
          "data": {
            "text/plain": [
              "{1, 'a', 'd', 'm', 'n', 'o', 'r'}"
            ]
          },
          "metadata": {
            "tags": []
          },
          "execution_count": 32
        }
      ]
    },
    {
      "cell_type": "code",
      "metadata": {
        "id": "fvu33GL8HR7z",
        "colab": {
          "base_uri": "https://localhost:8080/",
          "height": 180
        },
        "outputId": "d8ca4fb5-7540-43c9-dc50-9cabd310344e"
      },
      "source": [
        "b.add(2)\n",
        "# мы не можем добавлять в frozenset"
      ],
      "execution_count": null,
      "outputs": [
        {
          "output_type": "error",
          "ename": "AttributeError",
          "evalue": "ignored",
          "traceback": [
            "\u001b[0;31m---------------------------------------------------------------------------\u001b[0m",
            "\u001b[0;31mAttributeError\u001b[0m                            Traceback (most recent call last)",
            "\u001b[0;32m<ipython-input-33-4ce5d07a229d>\u001b[0m in \u001b[0;36m<module>\u001b[0;34m()\u001b[0m\n\u001b[0;32m----> 1\u001b[0;31m \u001b[0mb\u001b[0m\u001b[0;34m.\u001b[0m\u001b[0madd\u001b[0m\u001b[0;34m(\u001b[0m\u001b[0;36m2\u001b[0m\u001b[0;34m)\u001b[0m\u001b[0;34m\u001b[0m\u001b[0;34m\u001b[0m\u001b[0m\n\u001b[0m\u001b[1;32m      2\u001b[0m \u001b[0;31m# мы не можем добавлять в frozenset\u001b[0m\u001b[0;34m\u001b[0m\u001b[0;34m\u001b[0m\u001b[0;34m\u001b[0m\u001b[0m\n",
            "\u001b[0;31mAttributeError\u001b[0m: 'frozenset' object has no attribute 'add'"
          ]
        }
      ]
    },
    {
      "cell_type": "markdown",
      "metadata": {
        "id": "tlHuy58XrIXg"
      },
      "source": [
        "##**Словарь (dict)**\n",
        "\n",
        "коллекции произвольных объектов, записанные в виде *ключ : значение*\n",
        "(ключи уникальные, значения могут повторяться)\n",
        "\n",
        "( словари =ассоциативные массивы = хеш-таблицы)\n",
        "\n",
        "\n",
        "Давайте создадим словарь:\n",
        "\n",
        "    1. С помощью литерала:\n",
        "\n"
      ]
    },
    {
      "cell_type": "code",
      "metadata": {
        "id": "v7zkTUDf2aas",
        "colab": {
          "base_uri": "https://localhost:8080/"
        },
        "outputId": "ffa59fd0-650e-4456-9c24-2ba767518562"
      },
      "source": [
        "d = {}\n",
        "d"
      ],
      "execution_count": null,
      "outputs": [
        {
          "output_type": "execute_result",
          "data": {
            "text/plain": [
              "{}"
            ]
          },
          "metadata": {
            "tags": []
          },
          "execution_count": 34
        }
      ]
    },
    {
      "cell_type": "code",
      "metadata": {
        "id": "FWEpd9fTMCb_",
        "colab": {
          "base_uri": "https://localhost:8080/"
        },
        "outputId": "432570ea-3021-4508-9238-8ef192bc4cb1"
      },
      "source": [
        "d = {'Jane': \"London\", 'Olga': \"Moscow\"} \n",
        "# Jane, Olga - это ключи, London, Moscow - значения\n",
        "d"
      ],
      "execution_count": null,
      "outputs": [
        {
          "output_type": "execute_result",
          "data": {
            "text/plain": [
              "{'Jane': 'London', 'Olga': 'Moscow'}"
            ]
          },
          "metadata": {
            "tags": []
          },
          "execution_count": 35
        }
      ]
    },
    {
      "cell_type": "markdown",
      "metadata": {
        "id": "zD0WunDYNCgK"
      },
      "source": [
        "    2.  с помощью функции dict()"
      ]
    },
    {
      "cell_type": "code",
      "metadata": {
        "id": "OegQIs_HM9PH",
        "colab": {
          "base_uri": "https://localhost:8080/"
        },
        "outputId": "a350f9f7-6bb8-4dbc-f71d-1f1f1043989b"
      },
      "source": [
        "d = dict(short='dict', long='dictionary')\n",
        "d"
      ],
      "execution_count": null,
      "outputs": [
        {
          "output_type": "execute_result",
          "data": {
            "text/plain": [
              "{'long': 'dictionary', 'short': 'dict'}"
            ]
          },
          "metadata": {
            "tags": []
          },
          "execution_count": 36
        }
      ]
    },
    {
      "cell_type": "markdown",
      "metadata": {
        "id": "EKOrrZLqN1J7"
      },
      "source": [
        "    3. с помощью генераторов словарей (почти как генераторы списков)\n",
        "\n"
      ]
    },
    {
      "cell_type": "code",
      "metadata": {
        "id": "GBmRj0fxN9ls",
        "colab": {
          "base_uri": "https://localhost:8080/"
        },
        "outputId": "f5998e54-d287-418a-9c4b-9cb8ec3f034a"
      },
      "source": [
        "d = {a: a ** 2 for a in range(7)}\n",
        "d\n"
      ],
      "execution_count": null,
      "outputs": [
        {
          "output_type": "execute_result",
          "data": {
            "text/plain": [
              "{0: 0, 1: 1, 2: 4, 3: 9, 4: 16, 5: 25, 6: 36}"
            ]
          },
          "metadata": {
            "tags": []
          },
          "execution_count": 37
        }
      ]
    },
    {
      "cell_type": "markdown",
      "metadata": {
        "id": "8dZ0JjiBNSJD"
      },
      "source": [
        "##с помощью метода fromkeys:\n"
      ]
    },
    {
      "cell_type": "code",
      "metadata": {
        "id": "VFCqm0fQNNdF",
        "colab": {
          "base_uri": "https://localhost:8080/"
        },
        "outputId": "6055d1b6-45a9-451e-fddf-2c4e20f3b47b"
      },
      "source": [
        "d = dict.fromkeys(['a', 'b'])\n",
        "d"
      ],
      "execution_count": null,
      "outputs": [
        {
          "output_type": "execute_result",
          "data": {
            "text/plain": [
              "{'a': None, 'b': None}"
            ]
          },
          "metadata": {
            "tags": []
          },
          "execution_count": 38
        }
      ]
    },
    {
      "cell_type": "code",
      "metadata": {
        "id": "SJEYT0FnOQ17",
        "colab": {
          "base_uri": "https://localhost:8080/"
        },
        "outputId": "65fca73e-7194-4104-87fd-4d0bdf7a78b4"
      },
      "source": [
        "d = dict.fromkeys(['a', 'b'], 100)\n",
        "d"
      ],
      "execution_count": null,
      "outputs": [
        {
          "output_type": "execute_result",
          "data": {
            "text/plain": [
              "{'a': 100, 'b': 100}"
            ]
          },
          "metadata": {
            "tags": []
          },
          "execution_count": 39
        }
      ]
    },
    {
      "cell_type": "markdown",
      "metadata": {
        "id": "q3pHPiUEN-o4"
      },
      "source": [
        "###Теперь попробуем добавить записей в словарь и извлечь значения ключей\n",
        "\n",
        "извлекается синтаксисом: название_переменной_словаря[ключ]"
      ]
    },
    {
      "cell_type": "code",
      "metadata": {
        "id": "T-ie4DV8Or3-",
        "colab": {
          "base_uri": "https://localhost:8080/"
        },
        "outputId": "ab74a384-844a-4c88-8c1c-d57c00f45edd"
      },
      "source": [
        "d = {1: 2, 2: 4, 3: 9}\n",
        "d[1] # достаем значение по ключу 1"
      ],
      "execution_count": null,
      "outputs": [
        {
          "output_type": "execute_result",
          "data": {
            "text/plain": [
              "2"
            ]
          },
          "metadata": {
            "tags": []
          },
          "execution_count": 41
        }
      ]
    },
    {
      "cell_type": "code",
      "metadata": {
        "id": "OBQcdKctOw5y",
        "colab": {
          "base_uri": "https://localhost:8080/"
        },
        "outputId": "c376905b-6c04-474a-9c3a-928468c8dfb7"
      },
      "source": [
        "d[3] = 4 ** 2 # добавляем пару, где ключ =4, а значение = 4**2\n",
        "d # посмотрим на весь словарь"
      ],
      "execution_count": null,
      "outputs": [
        {
          "output_type": "execute_result",
          "data": {
            "text/plain": [
              "{1: 2, 2: 4, 3: 16}"
            ]
          },
          "metadata": {
            "tags": []
          },
          "execution_count": 42
        }
      ]
    },
    {
      "cell_type": "code",
      "metadata": {
        "id": "QFhtKbAk2RyR"
      },
      "source": [
        "d = {}"
      ],
      "execution_count": null,
      "outputs": []
    },
    {
      "cell_type": "code",
      "metadata": {
        "id": "ejjlgfgGPFkh",
        "colab": {
          "base_uri": "https://localhost:8080/",
          "height": 163
        },
        "outputId": "051c0379-57ca-47f3-9877-88266d064ffc"
      },
      "source": [
        "# попробуем достать ключ, которого нет\n",
        "d[5]"
      ],
      "execution_count": null,
      "outputs": [
        {
          "output_type": "error",
          "ename": "KeyError",
          "evalue": "ignored",
          "traceback": [
            "\u001b[0;31m---------------------------------------------------------------------------\u001b[0m",
            "\u001b[0;31mKeyError\u001b[0m                                  Traceback (most recent call last)",
            "\u001b[0;32m<ipython-input-180-a47182b4f775>\u001b[0m in \u001b[0;36m<module>\u001b[0;34m()\u001b[0m\n\u001b[0;32m----> 1\u001b[0;31m \u001b[0md\u001b[0m\u001b[0;34m[\u001b[0m\u001b[0;36m5\u001b[0m\u001b[0;34m]\u001b[0m\u001b[0;34m\u001b[0m\u001b[0;34m\u001b[0m\u001b[0m\n\u001b[0m",
            "\u001b[0;31mKeyError\u001b[0m: 5"
          ]
        }
      ]
    },
    {
      "cell_type": "markdown",
      "metadata": {
        "id": "IIBoVsIkNA-4"
      },
      "source": [
        "**Итог:** присвоение по новому ключу расширяет словарь, присвоение по существующему ключу перезаписывает его, а попытка извлечения несуществующего ключа порождает исключение."
      ]
    },
    {
      "cell_type": "markdown",
      "metadata": {
        "id": "ZTR6wZxTMWiI"
      },
      "source": [
        "###методы словарей"
      ]
    },
    {
      "cell_type": "code",
      "metadata": {
        "id": "nMJsPhroSpzh"
      },
      "source": [
        "d = {'Jane': \"London\", 'Olga': \"Moscow\",\"Paul\":\"Paris\",\"Ivan\":\"Minsk\",\"Anne\":\"Copenhagen\"}"
      ],
      "execution_count": null,
      "outputs": []
    },
    {
      "cell_type": "code",
      "metadata": {
        "id": "GZhU7aHmQHxo",
        "colab": {
          "base_uri": "https://localhost:8080/"
        },
        "outputId": "62924038-1647-40ab-d3b8-7f7cb4df6feb"
      },
      "source": [
        "d.values() # возвращает значения в словаре"
      ],
      "execution_count": null,
      "outputs": [
        {
          "output_type": "execute_result",
          "data": {
            "text/plain": [
              "dict_values(['London', 'Moscow', 'Paris', 'Minsk', 'Copenhagen'])"
            ]
          },
          "metadata": {
            "tags": []
          },
          "execution_count": 48
        }
      ]
    },
    {
      "cell_type": "code",
      "metadata": {
        "id": "J-qIp2K0QXAJ",
        "colab": {
          "base_uri": "https://localhost:8080/"
        },
        "outputId": "615a28f5-d73b-4c6d-9c17-49d0232ae291"
      },
      "source": [
        "d.keys() # возвращает ключи в словаре"
      ],
      "execution_count": null,
      "outputs": [
        {
          "output_type": "execute_result",
          "data": {
            "text/plain": [
              "dict_keys(['Jane', 'Olga', 'Paul', 'Ivan', 'Anne'])"
            ]
          },
          "metadata": {
            "tags": []
          },
          "execution_count": 49
        }
      ]
    },
    {
      "cell_type": "code",
      "metadata": {
        "id": "lOiQ2FSJQeo2",
        "colab": {
          "base_uri": "https://localhost:8080/"
        },
        "outputId": "43ce2499-fb61-41de-c212-73547c4e8502"
      },
      "source": [
        "d.items() # возвращает пары (ключ, значение)"
      ],
      "execution_count": null,
      "outputs": [
        {
          "output_type": "execute_result",
          "data": {
            "text/plain": [
              "dict_items([('Jane', 'London'), ('Olga', 'Moscow'), ('Paul', 'Paris'), ('Ivan', 'Minsk'), ('Anne', 'Copenhagen')])"
            ]
          },
          "metadata": {
            "tags": []
          },
          "execution_count": 50
        }
      ]
    },
    {
      "cell_type": "code",
      "metadata": {
        "id": "WiY3C4j1Qmr6",
        "colab": {
          "base_uri": "https://localhost:8080/"
        },
        "outputId": "55392be8-8fdf-4759-8a3a-2e8c42dc34e7"
      },
      "source": [
        "new_dict = {\"Alexander\":\"Bonn\", \"Julia\":\"Madrid\"}\n",
        "d.update(new_dict) # обновляет словарь, добавляя пары (ключ, значение) из other. Существующие ключи перезаписываются. Возвращает None (не новый словарь!)\n",
        "d"
      ],
      "execution_count": null,
      "outputs": [
        {
          "output_type": "execute_result",
          "data": {
            "text/plain": [
              "{'Alexander': 'Bonn',\n",
              " 'Anne': 'Copenhagen',\n",
              " 'Ivan': 'Minsk',\n",
              " 'Jane': 'London',\n",
              " 'Julia': 'Madrid',\n",
              " 'Olga': 'Moscow',\n",
              " 'Paul': 'Paris'}"
            ]
          },
          "metadata": {
            "tags": []
          },
          "execution_count": 52
        }
      ]
    },
    {
      "cell_type": "code",
      "metadata": {
        "id": "HyWNwlktQ2W7",
        "colab": {
          "base_uri": "https://localhost:8080/"
        },
        "outputId": "0f61d57c-dd93-48e2-e295-40745f4ed8b8"
      },
      "source": [
        "d.pop(\"Julia\") # удаляет ключ и возвращает значение. Если ключа нет, возвращает default (по умолчанию бросает исключение).\n",
        "d"
      ],
      "execution_count": null,
      "outputs": [
        {
          "output_type": "execute_result",
          "data": {
            "text/plain": [
              "{'Alexander': 'Bonn',\n",
              " 'Anne': 'Copenhagen',\n",
              " 'Ivan': 'Minsk',\n",
              " 'Jane': 'London',\n",
              " 'Olga': 'Moscow',\n",
              " 'Paul': 'Paris'}"
            ]
          },
          "metadata": {
            "tags": []
          },
          "execution_count": 53
        }
      ]
    },
    {
      "cell_type": "code",
      "metadata": {
        "id": "CAdxOh82R04X",
        "colab": {
          "base_uri": "https://localhost:8080/"
        },
        "outputId": "143a79e4-05c2-41da-ee90-6f6fe5e05712"
      },
      "source": [
        "d.popitem() # удаляет и возвращает пару (ключ, значение)"
      ],
      "execution_count": null,
      "outputs": [
        {
          "output_type": "execute_result",
          "data": {
            "text/plain": [
              "('Alexander', 'Bonn')"
            ]
          },
          "metadata": {
            "tags": []
          },
          "execution_count": 54
        }
      ]
    },
    {
      "cell_type": "code",
      "metadata": {
        "id": "QytfsewlSNWQ",
        "colab": {
          "base_uri": "https://localhost:8080/",
          "height": 35
        },
        "outputId": "951b97c8-1af0-4995-c226-90d327ded8a5"
      },
      "source": [
        "d.get(\"Jane\") #выдает значение по ключу, ключ в скобках"
      ],
      "execution_count": null,
      "outputs": [
        {
          "output_type": "execute_result",
          "data": {
            "application/vnd.google.colaboratory.intrinsic+json": {
              "type": "string"
            },
            "text/plain": [
              "'London'"
            ]
          },
          "metadata": {
            "tags": []
          },
          "execution_count": 55
        }
      ]
    },
    {
      "cell_type": "code",
      "metadata": {
        "id": "ycZAODtf5RK3",
        "colab": {
          "base_uri": "https://localhost:8080/"
        },
        "outputId": "bcc49e71-348b-4c92-a21b-7d4d8612b432"
      },
      "source": [
        "! python3"
      ],
      "execution_count": null,
      "outputs": [
        {
          "output_type": "stream",
          "text": [
            "Python 3.6.9 (default, Oct  8 2020, 12:12:24) \n",
            "[GCC 8.4.0] on linux\n",
            "Type \"help\", \"copyright\", \"credits\" or \"license\" for more information.\n",
            ">>> \n",
            "KeyboardInterrupt\n",
            ">>> \n",
            "KeyboardInterrupt\n",
            ">>> \n",
            "KeyboardInterrupt\n",
            ">>> ^C\n"
          ],
          "name": "stdout"
        }
      ]
    },
    {
      "cell_type": "code",
      "metadata": {
        "id": "9m-epn1EMXDl",
        "colab": {
          "base_uri": "https://localhost:8080/"
        },
        "outputId": "1be8d3a9-43d1-4a03-bb78-7fe1e64a60e8"
      },
      "source": [
        "d.clear() # очищает словарь\n",
        "d"
      ],
      "execution_count": null,
      "outputs": [
        {
          "output_type": "execute_result",
          "data": {
            "text/plain": [
              "{}"
            ]
          },
          "metadata": {
            "tags": []
          },
          "execution_count": 57
        }
      ]
    },
    {
      "cell_type": "markdown",
      "metadata": {
        "id": "1euc6k4zMf7z"
      },
      "source": [
        "**C кортежами, списками, словарями и множествами можно использовать циклы for и while**"
      ]
    },
    {
      "cell_type": "markdown",
      "metadata": {
        "id": "Sl2iWnGs23DL"
      },
      "source": [
        "###classwork\n",
        "\n",
        "\n",
        "Определяем лучшего писателя отзывов. \n",
        "У вас есть четрые отзыва на фильм С.Кубрика \"Сияние\". Вам нужно определить, кто из авторов отзывов обладает наиболее развитым лексиконом ( таковым считаем самый длинный набор неповторяющихся слов в пределах одного отзыва). \n",
        "    для определения вам нужно: \n",
        "\n",
        "    1. Предобработать строку (см методы строк), сведя все к нижнему регистру, убрать пунктуацию.\n",
        "\n",
        "    2. Превратить строку в список \n",
        "    3. определить уникальные элементы в списке (надо что-то сделать со списком)\n",
        "    4. определить размер уникальных слов в пределах автора\n",
        "    5. определить наилучшего\n",
        "\n"
      ]
    },
    {
      "cell_type": "code",
      "metadata": {
        "id": "oUrn5ETheoAg",
        "colab": {
          "base_uri": "https://localhost:8080/"
        },
        "outputId": "a0c53000-7a99-4881-e323-cb9ade08e85d"
      },
      "source": [
        "everybody = [paul, kate, jane, nick]\n",
        "names = [\"Paul\", \"Kate\", \"Jane\", \"Nick\"]\n",
        "list_len = []                 #создаем пустой список, где будут лежать количества уникальных слов у каждого автора\n",
        "punctuation = \"!@#$%^&*()_+<>?:.,;\\\\\\\"\\'\\n\"\n",
        "d = {}                        # создаем пустой словарь\n",
        "ind = 0\n",
        "for person in everybody:      #предобрабатываем строку\n",
        "    person = person.lower()\n",
        "    for c in person:\n",
        "        if c in punctuation:\n",
        "          person = person.replace(c, \"\")\n",
        "    print(person)             #выводим что получилось\n",
        "    list_person = person.split()    #создаем список из отдельных слов у каждого человека\n",
        "    set_person = set(list_person)   #преобразуем в множество, т.е. удаляем повторяющиеся элементы\n",
        "    len_person = len(set_person)    #определяем количество уникальных слов\n",
        "    print(len_person)\n",
        "    list_len.append(len_person)     #добавляем в список количество уникальных слов\n",
        "    d_new = {len_person: names[ind]}    \n",
        "    d.update(d_new)                       #добавляем в словарь пару ключ (кол-во слов) + значение (имя)\n",
        "    ind += 1\n",
        "\n",
        "print(d)                    #выводим получившийся словарь\n",
        "list_len.sort()                  #сортируем список количества слов по возрастанию\n",
        "winner = d.get(list_len[-1])      #забираем из словаря значение-имя, соответствующее ключу последнему в списке количества слов, т.е. самому большому\n",
        "print(\"The winner is\",winner)\n"
      ],
      "execution_count": null,
      "outputs": [
        {
          "output_type": "stream",
          "text": [
            "when this film first came out in 1980 i remember going to see it on opening night this movie just scared the life out of me which is what still happens every timei rent the video for a re-watchi have seen the shining at least six or seven times and i stillbelieve it to be simultaneously and paradoxically one of the most frightening and yet funniestfilms ive ever seen frightening because of the extraordinarily effective use of long shotsto create feelings of isolation convex lens shots to enhance surrealism and meticulously scoredmusic to bring tension levels to virtually unbearable levels and funny because of jacknicholsons outrageous and in many cases ad-libbed onscreen antics it never ceases to amaze mehow the shining is actually two films in one both a comedy and a horror flick ghostly apparitions of a strikingly menacing nature haunt much of the first half of the film whichgradually evolve into ever more serious physical threats as time progresses be that as it maythere is surprisingly little violence given the apparent intensity but that is little comfort for the feint of heart as much of the terror is more implied than manifest the shining is a trulyfrightening movie that works symbolically on many levels but is basically  about human shortcomings and the way they can be exploited by unconscious forces combined with weaknessof will this film scares the most just by using suggestion to turn your own imagination againstyou the shining is a brilliant cinematic masterpiece the likes of which have never been seenbefore or since highly highly recommended\n",
            "166\n",
            "what can i say about the scariest movie i have ever seen that has not already been said by others morearticulate than yours truly do not view this film expecting to see a screen version of the stephen king novelrather this is a stanley kubrick film and to fully appreciate it one should judge it within the context ofkubricks entire body of work as a serious filmmaker thematically the shining relates most closely to 2001a space odyssey though flourishes of paths of glory a clockwork orange and barry lyndon do manage tofigure prominently in the films overall technique in a nutshell no pun intended jack nicholson and shellyduvall co-star with oregons timberline lodge - enlisted to portray the exterior of the overlook hotel - in astory that appears on the surface to be about ghosts and insanity but deals with issues of child abuse immortality and duality what the film might lack initially in terms of coherence is more than made up for intechnique garrett brown the male voice in those old molson golden commercials inventor of the steadicamchases young danny lloyd through hotel corridors and an amazing snow maze providing magic-carpet-ride fluidityto scenes that ten years earlier would have been impossible to accomplish if the film starts off too slowremember who the director is this man likes to take his time and the results are well worth it incredibleaerial shots of the overlook hotel horrific diane arbus-inspired twins staring directly at us portentous room 237and its treasure trove of terrible secrets elevators that gush rivers of blood in slow-motion jack torrancesimmortality found via the hotel akin to david bowmans journey through the space gate and some of the best useof pre-existing music ever assembled for a motion picture\n",
            "206\n",
            "chilling majestic piece of cinematic fright this film combines all the great elementsof an intellectual thriller with the grand vision of a director who has the instinctual capacity to pace amoody horror flick within the realm of his filmmaking genius that includes an eye for the original shot an ice-cold soundtrack and an overall sense of dehumanization this movie cuts through all the typical horrormovies like a red-poker through a human eye as it allows the viewer to not only feel the violence and psychosis ofits protagonist but appreciate the seed from which the derangement stems one of the scariest things for peopleto face is the unknown and this film presents its plotting with just that thought in mind the setting is perfectin a desolate winter hideaway the quietness of the moment is a character in itself as the fermenting aggressorin jack torrances mind wallows in this idle time and breeds the devils new playground i always felt like thepresence of evil was dormant in all of our minds with only the circumstances of the moment and the reasons giventherein needed to wake its violent ass and pounce over its unsuspecting victims this film is a perfect example of this very thought\n",
            "130\n",
            "i was never a big fan of horror movies they usually try cheap tricks to scare their audiences like loudnoises and creepy children they usually lack originality and contain overacting galore the only horror movie ilike was stir of echoes with kevin bacon it was well-acted and had a great story but it has been joined andmaybe even surpassed by stanley kubricks the shining quite possibly the scariest movie ever the movie followsa writer jack nicholson and his family who agree to watch over a hotel while it is closed for the winterthere were rumors of the place being haunted and the last resident went crazy and murdered his family but jack isconvinced it will be ok and he can use the quiet to overcome his writers block after months of solitude andsilence however jack becomes a grumpy and later violent is it cabin fever or is there something in the hotelthat is driving him mad one of the creepiest parts about the movie is the feeling of isolation that kubrick makesthe hotel is very silent and the rooms are huge yet always empty it is also eerily calm when jacks sonis riding his bike through the barren hallways jack nicholsons performance is also one of his very best scaringthe hell out of me and making me sure to get out once in awhile my favorite scene is when he is talking to a ghostfrom inside a walk-in refrigerator the shining is tops for horror movies in my opinion beating the snot outof crap like the ring and the blair witch project it may be a oldie but is definitely a goodie\n",
            "175\n",
            "{166: 'Paul', 206: 'Kate', 130: 'Jane', 175: 'Nick'}\n",
            "The winner is Kate\n"
          ],
          "name": "stdout"
        }
      ]
    },
    {
      "cell_type": "code",
      "metadata": {
        "id": "j5Nv1se228QQ"
      },
      "source": [
        "paul = \"\"\"When this film first came out in 1980, I remember going to see it on opening night. \n",
        "This movie just scared the life out of me, which is what still happens every time\n",
        "I rent the video for a re-watch.I have seen The Shining at least six or seven times, and I still\n",
        "believe it to be simultaneously and paradoxically one of the most frightening and yet funniest\n",
        "films I've ever seen. Frightening because of the extraordinarily effective use of long shots\n",
        "to create feelings of isolation, convex lens shots to enhance surrealism, and meticulously scored\n",
        "music to bring tension levels to virtually unbearable levels. And \\\"funny\\\" because of Jack\n",
        "Nicholson's outrageous and in many cases ad-libbed onscreen antics. It never ceases to amaze me\n",
        "how The Shining is actually two films in one, both a comedy AND a horror flick. Ghostly \n",
        "apparitions of a strikingly menacing nature haunt much of the first half of the film, which\n",
        "gradually evolve into ever more serious physical threats as time progresses. Be that as it may,\n",
        "there is surprisingly little violence given the apparent intensity, but that is little comfort \n",
        "for the feint of heart as much of the terror is more implied than manifest. The Shining is a truly\n",
        "frightening movie that works symbolically on many levels, but is basically  about human \n",
        "shortcomings and the way they can be exploited by unconscious forces combined with weakness\n",
        "of will. This film scares the most just by using suggestion to turn your own imagination against\n",
        "you. The Shining is a brilliant cinematic masterpiece, the likes of which have never been seen\n",
        "before or since. Highly, highly recommended.\"\"\"\n",
        "\n",
        "jane = \"\"\"Chilling, majestic piece of cinematic fright, this film combines all the great elements\n",
        "of an intellectual thriller, with the grand vision of a director who has the instinctual capacity to pace a\n",
        "moody horror flick within the realm of his filmmaking genius that includes an eye for the original shot, \n",
        "an ice-cold soundtrack and an overall sense of dehumanization. This movie cuts through all the typical horror\n",
        "movies like a red-poker through a human eye, as it allows the viewer to not only feel the violence and psychosis of\n",
        "its protagonist, but appreciate the seed from which the derangement stems. One of the scariest things for people\n",
        "to face is the unknown and this film presents its plotting with just that thought in mind. The setting is perfect,\n",
        "in a desolate winter hideaway. The quietness of the moment is a character in itself, as the fermenting aggressor\n",
        "in Jack Torrance's mind wallows in this idle time, and breeds the devil's new playground. I always felt like the\n",
        "presence of evil was dormant in all of our minds, with only the circumstances of the moment, and the reasons given\n",
        "therein, needed to wake its violent ass and pounce over its unsuspecting victims. This film is a perfect example \n",
        "of this very thought.\"\"\"\n",
        "\n",
        "kate = \"\"\"What can I say about the scariest movie I have ever seen that has not already been said by others more\n",
        "articulate than yours truly? Do not view this film expecting to see a screen version of the Stephen King novel.\n",
        "Rather, this is a Stanley Kubrick film, and to fully appreciate it one should judge it within the context of\n",
        "Kubrick's entire body of work as a serious filmmaker. Thematically, THE SHINING relates most closely to 2001:\n",
        "A SPACE ODYSSEY, though flourishes of PATHS OF GLORY, A CLOCKWORK ORANGE and BARRY LYNDON do manage to\n",
        "figure prominently in the film's overall technique. In a nutshell (no pun intended), Jack Nicholson and Shelly\n",
        "Duvall co-star with Oregon's Timberline Lodge - enlisted to portray the exterior of the Overlook Hotel - in a\n",
        "story that appears on the surface to be about ghosts and insanity, but deals with issues of child abuse, \n",
        "immortality and duality. What the film might lack initially in terms of coherence is more than made up for in\n",
        "technique. Garrett Brown (the male voice in those old Molson Golden commercials), inventor of the Steadicam,\n",
        "chases young Danny Lloyd through hotel corridors and an amazing snow maze, providing magic-carpet-ride fluidity\n",
        "to scenes that ten years earlier would have been impossible to accomplish. If the film starts off too slow,\n",
        "remember who the director is. This man likes to take his time, and the results are well worth it: incredible\n",
        "aerial shots of the Overlook Hotel; horrific Diane Arbus-inspired twins staring directly at us; portentous room 237\n",
        "and its treasure trove of terrible secrets; elevators that gush rivers of blood in slow-motion; Jack Torrance's\n",
        "immortality found via the hotel (akin to David Bowman's journey through the Space Gate); and some of the best use\n",
        "of pre-existing music ever assembled for a motion picture.\"\"\"\n",
        "\n",
        "\n",
        "nick = \"\"\"I was never a big fan of horror movies. They usually try cheap tricks to scare their audiences like loud\n",
        "noises and creepy children. They usually lack originality and contain overacting galore. The only horror movie i\n",
        "like was Stir of Echoes with Kevin Bacon. It was well-acted, and had a great story. But it has been joined and\n",
        "maybe even surpassed by Stanley Kubrick's The Shining, quite possibly the scariest movie ever. The movie follows\n",
        "a writer (Jack Nicholson) and his family who agree to watch over a hotel while it is closed for the winter.\n",
        "There were rumors of the place being haunted and the last resident went crazy and murdered his family. But Jack is\n",
        "convinced it will be OK and he can use the quiet to overcome his writer's block. After months of solitude and\n",
        "silence however, Jack becomes a grumpy and later violent. Is it cabin fever or is there something in the hotel\n",
        "that is driving him mad? One of the creepiest parts about the movie is the feeling of isolation that Kubrick makes.\n",
        "The hotel is very silent, and the rooms are huge, yet always empty. It is also eerily calm when Jack's son\n",
        "is riding his bike through the barren hallways. Jack Nicholson's performance is also one of his very best, scaring\n",
        "the hell out of me and making me sure to get out once in awhile. My favorite scene is when he is talking to a ghost\n",
        "from inside a walk-in refrigerator. The Shining is tops for horror movies in my opinion, beating the snot out\n",
        "of crap like the Ring and The Blair Witch Project. It may be a oldie, but is definitely a goodie.\"\"\""
      ],
      "execution_count": null,
      "outputs": []
    },
    {
      "cell_type": "markdown",
      "metadata": {
        "id": "hAgT52fP26V2"
      },
      "source": [
        "##homework"
      ]
    },
    {
      "cell_type": "markdown",
      "metadata": {
        "id": "cUiYXrAi3MMe"
      },
      "source": [
        "с помощью словаря создайте простой транслитератор: нужно, чтобы программа принимала с клавиатуры (у нас есть специальный оператор ввода с клавиатуры) слова, записанные кириллицей, и печатала результат латиницей. \n",
        "\n",
        "Пример: *собака >> sobaka*"
      ]
    },
    {
      "cell_type": "code",
      "metadata": {
        "id": "rMLAHbTHUmqz",
        "colab": {
          "base_uri": "https://localhost:8080/"
        },
        "outputId": "01fe0151-f670-408c-9f3a-d6df32fdc320"
      },
      "source": [
        "translit = {\n",
        "            \"а\": 'a', \"б\": 'b', \"в\": 'v', \"г\": 'g', \"д\": 'd', \"е\": 'e', \"ё\": 'yo', \n",
        "            \"ж\": 'zh', \"з\": 'z', \"и\": 'i', \"й\": 'y', \"к\": 'k', \"л\": 'l', \"м\": 'm', \n",
        "            \"н\": 'n', \"о\": 'o', \"п\": 'p', \"р\": 'r', \"с\": 's', \"т\": 't', \"у\": 'u', \n",
        "            \"ф\": 'f', \"х\": 'h', \"ц\": 'ts', \"ч\": 'ch', \"ш\": 'sh', \"щ\": 'shch', \"ь\": '\\'',\n",
        "            \"ы\": 'y', \"ъ\": '\\'', \"э\": 'e', \"ю\": 'yu', \"я\": 'ya',\n",
        "            \"А\": 'A', \"Б\": 'B', \"В\": 'V', \"Г\": 'G', \"Д\": 'D', \"Е\": 'E', \"Ё\": 'Yo', \n",
        "            \"Ж\": 'Zh', \"З\": 'Z', \"И\": 'I', \"Й\": 'Y', \"К\": 'K', \"Л\": 'L', \"М\": 'M', \n",
        "            \"Н\": 'N', \"О\": 'O', \"П\": 'P', \"Р\": 'R', \"С\": 'S', \"Т\": 'T', \"У\": 'U', \n",
        "            \"Ф\": 'F', \"Х\": 'H', \"Ц\": 'Ts', \"Ч\": 'Ch', \"Ш\": 'Sh', \"Щ\": 'Shch', \"Ь\": '\\'',\n",
        "            \"Ы\": 'Y', \"Ъ\": '\\'', \"Э\": 'E', \"Ю\": 'Yu', \"Я\": 'Ya'\n",
        "            }\n",
        "result = []\n",
        "punctuation = \"!@#$%^&*()_+<>?:.,;\\\\\\\"\\'\\n \"\n",
        "text = input(\"Напишите что-то кириллицей \")\n",
        "for x in text:\n",
        "    if x not in punctuation:          #проверяем, знак ли пунктуации перед нами\n",
        "        x = translit.get(x)           #если нет, то присваиваем букве ее транслитерированный аналог из словаря\n",
        "    result.append(x)                  #добавляем элемент (букву или знак пунктуации) в конечный список\n",
        "ind = 0\n",
        "for r in result:\n",
        "    print(result[ind], end='')       #выводим список по одному элементу без пробелов\n",
        "    ind += 1\n"
      ],
      "execution_count": null,
      "outputs": [
        {
          "output_type": "stream",
          "text": [
            "Напишите что-то кириллицей О, горе мне, непутёвой!\n",
            "O, gore mne, neputyovoy!"
          ],
          "name": "stdout"
        }
      ]
    },
    {
      "cell_type": "code",
      "metadata": {
        "id": "PFMHYwCTYMJs"
      },
      "source": [
        ""
      ],
      "execution_count": null,
      "outputs": []
    }
  ]
}