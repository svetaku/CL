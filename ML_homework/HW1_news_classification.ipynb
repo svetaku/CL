{
  "nbformat": 4,
  "nbformat_minor": 0,
  "metadata": {
    "kernelspec": {
      "display_name": "Python 3",
      "language": "python",
      "name": "python3"
    },
    "language_info": {
      "codemirror_mode": {
        "name": "ipython",
        "version": 3
      },
      "file_extension": ".py",
      "mimetype": "text/x-python",
      "name": "python",
      "nbconvert_exporter": "python",
      "pygments_lexer": "ipython3",
      "version": "3.9.0"
    },
    "colab": {
      "name": "HW1-news_classification.ipynb",
      "provenance": [],
      "collapsed_sections": [],
      "toc_visible": true
    }
  },
  "cells": [
    {
      "cell_type": "markdown",
      "metadata": {
        "id": "n9AJ1KyuiNE6"
      },
      "source": [
        "В этом дз необходимо обучить модели для классификации. Cегодня попробуем отличать настоящие новости от фейковых\n",
        "\n"
      ]
    },
    {
      "cell_type": "code",
      "metadata": {
        "id": "zUpTEudsiNFH"
      },
      "source": [
        "# ячейка импортов\n",
        "\n",
        "import numpy as np\n",
        "import pandas as pd\n",
        "\n",
        "# импорт моделей\n",
        "from sklearn import feature_extraction, model_selection, naive_bayes, metrics, svm\n",
        "from sklearn.tree import DecisionTreeClassifier\n",
        "from sklearn.ensemble import RandomForestClassifier, GradientBoostingClassifier\n",
        "\n",
        "from sklearn.metrics import classification_report # табличка с метриками\n",
        "\n",
        "import matplotlib.pyplot as plt\n",
        "from collections import Counter\n",
        "\n",
        "# import warnings\n",
        "# warnings.filterwarnings(\"ignore\")\n",
        "%matplotlib inline \n"
      ],
      "execution_count": null,
      "outputs": []
    },
    {
      "cell_type": "code",
      "metadata": {
        "colab": {
          "base_uri": "https://localhost:8080/",
          "height": 180
        },
        "id": "MjtqWFq46ZxY",
        "outputId": "af3a31fc-c672-415a-c371-1d4d08f9afec"
      },
      "source": [
        "import sklearn\n",
        "version(sklearn)"
      ],
      "execution_count": 4,
      "outputs": [
        {
          "output_type": "error",
          "ename": "NameError",
          "evalue": "ignored",
          "traceback": [
            "\u001b[0;31m---------------------------------------------------------------------------\u001b[0m",
            "\u001b[0;31mNameError\u001b[0m                                 Traceback (most recent call last)",
            "\u001b[0;32m<ipython-input-4-9947ed3c7d29>\u001b[0m in \u001b[0;36m<module>\u001b[0;34m()\u001b[0m\n\u001b[1;32m      1\u001b[0m \u001b[0;32mimport\u001b[0m \u001b[0msklearn\u001b[0m\u001b[0;34m\u001b[0m\u001b[0;34m\u001b[0m\u001b[0m\n\u001b[0;32m----> 2\u001b[0;31m \u001b[0mversion\u001b[0m\u001b[0;34m(\u001b[0m\u001b[0msklearn\u001b[0m\u001b[0;34m)\u001b[0m\u001b[0;34m\u001b[0m\u001b[0;34m\u001b[0m\u001b[0m\n\u001b[0m",
            "\u001b[0;31mNameError\u001b[0m: name 'version' is not defined"
          ]
        }
      ]
    },
    {
      "cell_type": "markdown",
      "metadata": {
        "id": "WCP71MohiNFJ"
      },
      "source": [
        "# Exploratory Data Analysis (EDA)\n",
        "\n"
      ]
    },
    {
      "cell_type": "code",
      "metadata": {
        "id": "EReYZga1iNFK",
        "colab": {
          "base_uri": "https://localhost:8080/"
        },
        "outputId": "4364d6c6-a3e4-48d1-8762-8aadf1cec18b"
      },
      "source": [
        "! unzip \"news_fake-n-true.csv.zip\""
      ],
      "execution_count": null,
      "outputs": [
        {
          "output_type": "stream",
          "text": [
            "Archive:  news_fake-n-true.csv.zip\n",
            "  inflating: news_fake-n-true.csv    \n",
            "  inflating: __MACOSX/._news_fake-n-true.csv  \n"
          ],
          "name": "stdout"
        }
      ]
    },
    {
      "cell_type": "code",
      "metadata": {
        "colab": {
          "base_uri": "https://localhost:8080/",
          "height": 173
        },
        "id": "kQWzRvuviNFM",
        "outputId": "f1e57a81-1b26-4c4a-c1f3-e694ad7f996b"
      },
      "source": [
        "data = pd.read_csv(\"news_fake-n-true.csv\")\n",
        "data.head(4)"
      ],
      "execution_count": null,
      "outputs": [
        {
          "output_type": "execute_result",
          "data": {
            "text/html": [
              "<div>\n",
              "<style scoped>\n",
              "    .dataframe tbody tr th:only-of-type {\n",
              "        vertical-align: middle;\n",
              "    }\n",
              "\n",
              "    .dataframe tbody tr th {\n",
              "        vertical-align: top;\n",
              "    }\n",
              "\n",
              "    .dataframe thead th {\n",
              "        text-align: right;\n",
              "    }\n",
              "</style>\n",
              "<table border=\"1\" class=\"dataframe\">\n",
              "  <thead>\n",
              "    <tr style=\"text-align: right;\">\n",
              "      <th></th>\n",
              "      <th>Unnamed: 0</th>\n",
              "      <th>title</th>\n",
              "      <th>text</th>\n",
              "      <th>subject</th>\n",
              "      <th>date</th>\n",
              "      <th>label</th>\n",
              "    </tr>\n",
              "  </thead>\n",
              "  <tbody>\n",
              "    <tr>\n",
              "      <th>0</th>\n",
              "      <td>0</td>\n",
              "      <td>ADVISORY: Story on Kushner visiting Iraq withd...</td>\n",
              "      <td>(Reuters) - The story “Trump son-in-law Jared ...</td>\n",
              "      <td>politicsNews</td>\n",
              "      <td>April 3, 2017</td>\n",
              "      <td>1</td>\n",
              "    </tr>\n",
              "    <tr>\n",
              "      <th>1</th>\n",
              "      <td>1</td>\n",
              "      <td>Kasich campaign denies report of Romney endors...</td>\n",
              "      <td>WASHINGTON (Reuters) - Republican presidential...</td>\n",
              "      <td>politicsNews</td>\n",
              "      <td>March 14, 2016</td>\n",
              "      <td>1</td>\n",
              "    </tr>\n",
              "    <tr>\n",
              "      <th>2</th>\n",
              "      <td>2</td>\n",
              "      <td>WATCH: Colbert Devises Perfect Advertisement ...</td>\n",
              "      <td>If America is going to end the day Donald Trum...</td>\n",
              "      <td>News</td>\n",
              "      <td>May 20, 2016</td>\n",
              "      <td>0</td>\n",
              "    </tr>\n",
              "    <tr>\n",
              "      <th>3</th>\n",
              "      <td>3</td>\n",
              "      <td>Trump says hopes for Cuban 'freedom' after Cas...</td>\n",
              "      <td>WEST PALM BEACH, Fla. (Reuters) - U.S. Preside...</td>\n",
              "      <td>politicsNews</td>\n",
              "      <td>November 26, 2016</td>\n",
              "      <td>1</td>\n",
              "    </tr>\n",
              "  </tbody>\n",
              "</table>\n",
              "</div>"
            ],
            "text/plain": [
              "   Unnamed: 0  ... label\n",
              "0           0  ...     1\n",
              "1           1  ...     1\n",
              "2           2  ...     0\n",
              "3           3  ...     1\n",
              "\n",
              "[4 rows x 6 columns]"
            ]
          },
          "metadata": {
            "tags": []
          },
          "execution_count": 4
        }
      ]
    },
    {
      "cell_type": "markdown",
      "metadata": {
        "id": "h0AOQo08iNFN"
      },
      "source": [
        "**колонка label отвечает за тип новости: настоящие имеют лейбл 1,  фейковые новости -- с лейблом 0** "
      ]
    },
    {
      "cell_type": "code",
      "metadata": {
        "colab": {
          "base_uri": "https://localhost:8080/",
          "height": 419
        },
        "id": "0BT-4C3hiNFN",
        "outputId": "5ceaf87f-4faf-4962-9e80-d4ab35c1cb7c"
      },
      "source": [
        "# создадим новый датафрейм из старого\n",
        "\n",
        "data_clean = data.drop(['Unnamed: 0','title','subject','date'], axis=1)\n",
        "\n",
        "display(data_clean)"
      ],
      "execution_count": null,
      "outputs": [
        {
          "output_type": "display_data",
          "data": {
            "text/html": [
              "<div>\n",
              "<style scoped>\n",
              "    .dataframe tbody tr th:only-of-type {\n",
              "        vertical-align: middle;\n",
              "    }\n",
              "\n",
              "    .dataframe tbody tr th {\n",
              "        vertical-align: top;\n",
              "    }\n",
              "\n",
              "    .dataframe thead th {\n",
              "        text-align: right;\n",
              "    }\n",
              "</style>\n",
              "<table border=\"1\" class=\"dataframe\">\n",
              "  <thead>\n",
              "    <tr style=\"text-align: right;\">\n",
              "      <th></th>\n",
              "      <th>text</th>\n",
              "      <th>label</th>\n",
              "    </tr>\n",
              "  </thead>\n",
              "  <tbody>\n",
              "    <tr>\n",
              "      <th>0</th>\n",
              "      <td>(Reuters) - The story “Trump son-in-law Jared ...</td>\n",
              "      <td>1</td>\n",
              "    </tr>\n",
              "    <tr>\n",
              "      <th>1</th>\n",
              "      <td>WASHINGTON (Reuters) - Republican presidential...</td>\n",
              "      <td>1</td>\n",
              "    </tr>\n",
              "    <tr>\n",
              "      <th>2</th>\n",
              "      <td>If America is going to end the day Donald Trum...</td>\n",
              "      <td>0</td>\n",
              "    </tr>\n",
              "    <tr>\n",
              "      <th>3</th>\n",
              "      <td>WEST PALM BEACH, Fla. (Reuters) - U.S. Preside...</td>\n",
              "      <td>1</td>\n",
              "    </tr>\n",
              "    <tr>\n",
              "      <th>4</th>\n",
              "      <td>Well, it seems that despite the efforts of not...</td>\n",
              "      <td>0</td>\n",
              "    </tr>\n",
              "    <tr>\n",
              "      <th>...</th>\n",
              "      <td>...</td>\n",
              "      <td>...</td>\n",
              "    </tr>\n",
              "    <tr>\n",
              "      <th>44893</th>\n",
              "      <td>Donald Trump s economic proposals would be dis...</td>\n",
              "      <td>0</td>\n",
              "    </tr>\n",
              "    <tr>\n",
              "      <th>44894</th>\n",
              "      <td>INDIANAPOLIS (Reuters) - President Donald Trum...</td>\n",
              "      <td>1</td>\n",
              "    </tr>\n",
              "    <tr>\n",
              "      <th>44895</th>\n",
              "      <td>During a private meeting of the most senior Re...</td>\n",
              "      <td>0</td>\n",
              "    </tr>\n",
              "    <tr>\n",
              "      <th>44896</th>\n",
              "      <td>AMMAN (Reuters) - Sabih al-Masri, Jordan s mos...</td>\n",
              "      <td>1</td>\n",
              "    </tr>\n",
              "    <tr>\n",
              "      <th>44897</th>\n",
              "      <td>BEIRUT (Reuters) - Lebanese President Michel A...</td>\n",
              "      <td>1</td>\n",
              "    </tr>\n",
              "  </tbody>\n",
              "</table>\n",
              "<p>44898 rows × 2 columns</p>\n",
              "</div>"
            ],
            "text/plain": [
              "                                                    text  label\n",
              "0      (Reuters) - The story “Trump son-in-law Jared ...      1\n",
              "1      WASHINGTON (Reuters) - Republican presidential...      1\n",
              "2      If America is going to end the day Donald Trum...      0\n",
              "3      WEST PALM BEACH, Fla. (Reuters) - U.S. Preside...      1\n",
              "4      Well, it seems that despite the efforts of not...      0\n",
              "...                                                  ...    ...\n",
              "44893  Donald Trump s economic proposals would be dis...      0\n",
              "44894  INDIANAPOLIS (Reuters) - President Donald Trum...      1\n",
              "44895  During a private meeting of the most senior Re...      0\n",
              "44896  AMMAN (Reuters) - Sabih al-Masri, Jordan s mos...      1\n",
              "44897  BEIRUT (Reuters) - Lebanese President Michel A...      1\n",
              "\n",
              "[44898 rows x 2 columns]"
            ]
          },
          "metadata": {
            "tags": []
          }
        }
      ]
    },
    {
      "cell_type": "markdown",
      "metadata": {
        "id": "RVM_7kI_iNFO"
      },
      "source": [
        "распределение настоящих и фейковых новостей примерно равное"
      ]
    },
    {
      "cell_type": "code",
      "metadata": {
        "id": "DYXRszSMiNFQ",
        "colab": {
          "base_uri": "https://localhost:8080/",
          "height": 264
        },
        "outputId": "adebbe3a-1d7e-49a8-a00b-b0c768a8164b"
      },
      "source": [
        "classes =pd.value_counts(data_clean[\"label\"])\n",
        "\n",
        "classes.plot(kind = 'pie',  autopct='%0.f%%') \n",
        "plt.title(\"Classes distribution\")\n",
        "plt.ylabel('')\n",
        "\n",
        "plt.show()"
      ],
      "execution_count": null,
      "outputs": [
        {
          "output_type": "display_data",
          "data": {
            "image/png": "[encoded data removed]",
            "text/plain": [
              "<Figure size 432x288 with 1 Axes>"
            ]
          },
          "metadata": {
            "tags": []
          }
        }
      ]
    },
    {
      "cell_type": "markdown",
      "metadata": {
        "id": "YQsMgY7oiNFR"
      },
      "source": [
        "**давайте попробуем предсказать:** окажется ли текст настоящей новостью или фейковой\n",
        "\n",
        "- Векторизуйте тексты\n",
        "- Разделите данные на обучающую и тестовую выборку\n",
        "\n",
        "Попробуйте обучить разные модели для классификации на данных\n",
        "1. Naive Bayes\n",
        "2. SVM \n",
        "3. Decision Trees\n",
        "4. Random Forest\n",
        "5. Boosting\n",
        "\n",
        "Для каждой модели посмотрите на метрики с помощью функции [classification report](https://scikit-learn.org/stable/modules/generated/sklearn.metrics.classification_report.html).\n",
        "\n",
        "Какая/какие модель/ли справляются с задачей наиболее эффективно?"
      ]
    },
    {
      "cell_type": "markdown",
      "metadata": {
        "id": "DMdEESFGiNFR"
      },
      "source": [
        "# 1. Naive Bayes"
      ]
    },
    {
      "cell_type": "code",
      "metadata": {
        "id": "m6adfED2iNFS"
      },
      "source": [
        "from sklearn.feature_extraction.text import CountVectorizer"
      ],
      "execution_count": null,
      "outputs": []
    },
    {
      "cell_type": "code",
      "metadata": {
        "id": "gSm0JowAiNFS"
      },
      "source": [
        "f = feature_extraction.text.CountVectorizer(stop_words = 'english')\n",
        "vectorizer = CountVectorizer()\n",
        "X = vectorizer.fit_transform(data_clean[\"text\"])"
      ],
      "execution_count": null,
      "outputs": []
    },
    {
      "cell_type": "code",
      "metadata": {
        "colab": {
          "base_uri": "https://localhost:8080/"
        },
        "id": "5NGS-bBQiNFT",
        "outputId": "54cc4fb4-21d9-46c6-adfd-62366fa39619"
      },
      "source": [
        "X_train, X_test, y_train, y_test = model_selection.train_test_split(X, data['label'], \n",
        "                                                                    test_size=0.2, random_state=50)\n",
        "\n",
        "print(X_train.shape, X_test.shape)"
      ],
      "execution_count": null,
      "outputs": [
        {
          "output_type": "stream",
          "text": [
            "(35918, 122002) (8980, 122002)\n"
          ],
          "name": "stdout"
        }
      ]
    },
    {
      "cell_type": "code",
      "metadata": {
        "id": "keTb4neAiNFT"
      },
      "source": [
        "list_alpha = np.arange(1/100000, 40, 0.11) \n",
        "\n",
        "score_train = np.zeros(len(list_alpha))\n",
        "score_test = np.zeros(len(list_alpha))\n",
        "recall_test = np.zeros(len(list_alpha))\n",
        "precision_test= np.zeros(len(list_alpha))\n",
        "count = 0"
      ],
      "execution_count": null,
      "outputs": []
    },
    {
      "cell_type": "code",
      "metadata": {
        "id": "SUj5WjxRiNFU"
      },
      "source": [
        "for alpha in list_alpha: \n",
        "    bayes = naive_bayes.MultinomialNB(alpha=alpha) \n",
        "    bayes.fit(X_train, y_train) \n",
        "    \n",
        "    score_train[count] = bayes.score(X_train, y_train)    \n",
        "    score_test[count]= bayes.score(X_test, y_test)    \n",
        "    recall_test[count] = metrics.recall_score(y_test, bayes.predict(X_test))\n",
        "    precision_test[count] = metrics.precision_score(y_test, bayes.predict(X_test))\n",
        "    \n",
        "    count = count + 1 "
      ],
      "execution_count": null,
      "outputs": []
    },
    {
      "cell_type": "code",
      "metadata": {
        "id": "geD5Sb6riNFU",
        "colab": {
          "base_uri": "https://localhost:8080/",
          "height": 376
        },
        "outputId": "08c6d922-0fef-4473-a033-88c2730f92ae"
      },
      "source": [
        "matrix = np.matrix(np.c_[list_alpha, score_train, score_test, recall_test, precision_test])\n",
        "models = pd.DataFrame(data = matrix, columns = \n",
        "             ['alpha', 'Train Accuracy', 'Test Accuracy', 'Test Recall', 'Test Precision'])\n",
        "\n",
        "\n",
        "display(models.head(10))\n",
        "display(matrix.shape)"
      ],
      "execution_count": null,
      "outputs": [
        {
          "output_type": "display_data",
          "data": {
            "text/html": [
              "<div>\n",
              "<style scoped>\n",
              "    .dataframe tbody tr th:only-of-type {\n",
              "        vertical-align: middle;\n",
              "    }\n",
              "\n",
              "    .dataframe tbody tr th {\n",
              "        vertical-align: top;\n",
              "    }\n",
              "\n",
              "    .dataframe thead th {\n",
              "        text-align: right;\n",
              "    }\n",
              "</style>\n",
              "<table border=\"1\" class=\"dataframe\">\n",
              "  <thead>\n",
              "    <tr style=\"text-align: right;\">\n",
              "      <th></th>\n",
              "      <th>alpha</th>\n",
              "      <th>Train Accuracy</th>\n",
              "      <th>Test Accuracy</th>\n",
              "      <th>Test Recall</th>\n",
              "      <th>Test Precision</th>\n",
              "    </tr>\n",
              "  </thead>\n",
              "  <tbody>\n",
              "    <tr>\n",
              "      <th>0</th>\n",
              "      <td>0.00001</td>\n",
              "      <td>0.978896</td>\n",
              "      <td>0.964811</td>\n",
              "      <td>0.956593</td>\n",
              "      <td>0.968869</td>\n",
              "    </tr>\n",
              "    <tr>\n",
              "      <th>1</th>\n",
              "      <td>0.11001</td>\n",
              "      <td>0.966034</td>\n",
              "      <td>0.961024</td>\n",
              "      <td>0.958705</td>\n",
              "      <td>0.959155</td>\n",
              "    </tr>\n",
              "    <tr>\n",
              "      <th>2</th>\n",
              "      <td>0.22001</td>\n",
              "      <td>0.964447</td>\n",
              "      <td>0.960022</td>\n",
              "      <td>0.958470</td>\n",
              "      <td>0.957347</td>\n",
              "    </tr>\n",
              "    <tr>\n",
              "      <th>3</th>\n",
              "      <td>0.33001</td>\n",
              "      <td>0.963389</td>\n",
              "      <td>0.959243</td>\n",
              "      <td>0.958236</td>\n",
              "      <td>0.955993</td>\n",
              "    </tr>\n",
              "    <tr>\n",
              "      <th>4</th>\n",
              "      <td>0.44001</td>\n",
              "      <td>0.962498</td>\n",
              "      <td>0.958686</td>\n",
              "      <td>0.958001</td>\n",
              "      <td>0.955088</td>\n",
              "    </tr>\n",
              "    <tr>\n",
              "      <th>5</th>\n",
              "      <td>0.55001</td>\n",
              "      <td>0.961885</td>\n",
              "      <td>0.958575</td>\n",
              "      <td>0.958001</td>\n",
              "      <td>0.954864</td>\n",
              "    </tr>\n",
              "    <tr>\n",
              "      <th>6</th>\n",
              "      <td>0.66001</td>\n",
              "      <td>0.961468</td>\n",
              "      <td>0.958352</td>\n",
              "      <td>0.958001</td>\n",
              "      <td>0.954418</td>\n",
              "    </tr>\n",
              "    <tr>\n",
              "      <th>7</th>\n",
              "      <td>0.77001</td>\n",
              "      <td>0.961078</td>\n",
              "      <td>0.958129</td>\n",
              "      <td>0.957766</td>\n",
              "      <td>0.954184</td>\n",
              "    </tr>\n",
              "    <tr>\n",
              "      <th>8</th>\n",
              "      <td>0.88001</td>\n",
              "      <td>0.960605</td>\n",
              "      <td>0.957906</td>\n",
              "      <td>0.957297</td>\n",
              "      <td>0.954163</td>\n",
              "    </tr>\n",
              "    <tr>\n",
              "      <th>9</th>\n",
              "      <td>0.99001</td>\n",
              "      <td>0.960131</td>\n",
              "      <td>0.957572</td>\n",
              "      <td>0.957062</td>\n",
              "      <td>0.953706</td>\n",
              "    </tr>\n",
              "  </tbody>\n",
              "</table>\n",
              "</div>"
            ],
            "text/plain": [
              "     alpha  Train Accuracy  Test Accuracy  Test Recall  Test Precision\n",
              "0  0.00001        0.978896       0.964811     0.956593        0.968869\n",
              "1  0.11001        0.966034       0.961024     0.958705        0.959155\n",
              "2  0.22001        0.964447       0.960022     0.958470        0.957347\n",
              "3  0.33001        0.963389       0.959243     0.958236        0.955993\n",
              "4  0.44001        0.962498       0.958686     0.958001        0.955088\n",
              "5  0.55001        0.961885       0.958575     0.958001        0.954864\n",
              "6  0.66001        0.961468       0.958352     0.958001        0.954418\n",
              "7  0.77001        0.961078       0.958129     0.957766        0.954184\n",
              "8  0.88001        0.960605       0.957906     0.957297        0.954163\n",
              "9  0.99001        0.960131       0.957572     0.957062        0.953706"
            ]
          },
          "metadata": {
            "tags": []
          }
        },
        {
          "output_type": "display_data",
          "data": {
            "text/plain": [
              "(364, 5)"
            ]
          },
          "metadata": {
            "tags": []
          }
        }
      ]
    },
    {
      "cell_type": "code",
      "metadata": {
        "scrolled": true,
        "id": "861QF-nGiNFV",
        "colab": {
          "base_uri": "https://localhost:8080/",
          "height": 119
        },
        "outputId": "bfb2c4ad-9a1c-40d2-d4cc-ae589d69fb1d"
      },
      "source": [
        "best_index = models['Test Accuracy'].idxmax()  #при максимальном accuracy самые большие остальные метрики\n",
        "best_index\n",
        "\n",
        "display(models.iloc[best_index])"
      ],
      "execution_count": null,
      "outputs": [
        {
          "output_type": "display_data",
          "data": {
            "text/plain": [
              "alpha             0.000010\n",
              "Train Accuracy    0.978896\n",
              "Test Accuracy     0.964811\n",
              "Test Recall       0.956593\n",
              "Test Precision    0.968869\n",
              "Name: 0, dtype: float64"
            ]
          },
          "metadata": {
            "tags": []
          }
        }
      ]
    },
    {
      "cell_type": "code",
      "metadata": {
        "id": "Q0trLUqoiNFV"
      },
      "source": [
        "bayes_accuracy = models.iloc[best_index][\"Test Accuracy\"]\n",
        "bayes_recall = models.iloc[best_index][\"Test Recall\"]\n",
        "bayes_precision = models.iloc[best_index][\"Test Precision\"]"
      ],
      "execution_count": null,
      "outputs": []
    },
    {
      "cell_type": "markdown",
      "metadata": {
        "id": "4GewnXy7iNFV"
      },
      "source": [
        "# 2. SVM"
      ]
    },
    {
      "cell_type": "code",
      "metadata": {
        "colab": {
          "base_uri": "https://localhost:8080/",
          "height": 419
        },
        "id": "2_kAn31K3ysP",
        "outputId": "eb822b7e-886c-4b26-e8d5-791645e6e06b"
      },
      "source": [
        "data_small = data_clean.iloc[:10000]   #уменьшаем размер корпуса\n",
        "\n",
        "display(data_small)"
      ],
      "execution_count": null,
      "outputs": [
        {
          "output_type": "display_data",
          "data": {
            "text/html": [
              "<div>\n",
              "<style scoped>\n",
              "    .dataframe tbody tr th:only-of-type {\n",
              "        vertical-align: middle;\n",
              "    }\n",
              "\n",
              "    .dataframe tbody tr th {\n",
              "        vertical-align: top;\n",
              "    }\n",
              "\n",
              "    .dataframe thead th {\n",
              "        text-align: right;\n",
              "    }\n",
              "</style>\n",
              "<table border=\"1\" class=\"dataframe\">\n",
              "  <thead>\n",
              "    <tr style=\"text-align: right;\">\n",
              "      <th></th>\n",
              "      <th>text</th>\n",
              "      <th>label</th>\n",
              "    </tr>\n",
              "  </thead>\n",
              "  <tbody>\n",
              "    <tr>\n",
              "      <th>0</th>\n",
              "      <td>(Reuters) - The story “Trump son-in-law Jared ...</td>\n",
              "      <td>1</td>\n",
              "    </tr>\n",
              "    <tr>\n",
              "      <th>1</th>\n",
              "      <td>WASHINGTON (Reuters) - Republican presidential...</td>\n",
              "      <td>1</td>\n",
              "    </tr>\n",
              "    <tr>\n",
              "      <th>2</th>\n",
              "      <td>If America is going to end the day Donald Trum...</td>\n",
              "      <td>0</td>\n",
              "    </tr>\n",
              "    <tr>\n",
              "      <th>3</th>\n",
              "      <td>WEST PALM BEACH, Fla. (Reuters) - U.S. Preside...</td>\n",
              "      <td>1</td>\n",
              "    </tr>\n",
              "    <tr>\n",
              "      <th>4</th>\n",
              "      <td>Well, it seems that despite the efforts of not...</td>\n",
              "      <td>0</td>\n",
              "    </tr>\n",
              "    <tr>\n",
              "      <th>...</th>\n",
              "      <td>...</td>\n",
              "      <td>...</td>\n",
              "    </tr>\n",
              "    <tr>\n",
              "      <th>9995</th>\n",
              "      <td>BRAS LIA (Reuters) - Brazilian police raided t...</td>\n",
              "      <td>1</td>\n",
              "    </tr>\n",
              "    <tr>\n",
              "      <th>9996</th>\n",
              "      <td>The game plan for Republicans isn t exactly di...</td>\n",
              "      <td>0</td>\n",
              "    </tr>\n",
              "    <tr>\n",
              "      <th>9997</th>\n",
              "      <td>By now, everyone knows that the Jared Kushner ...</td>\n",
              "      <td>0</td>\n",
              "    </tr>\n",
              "    <tr>\n",
              "      <th>9998</th>\n",
              "      <td>OSLO (Reuters) - Ex-Bosnian Serb general Rakto...</td>\n",
              "      <td>1</td>\n",
              "    </tr>\n",
              "    <tr>\n",
              "      <th>9999</th>\n",
              "      <td>BEIJING (Reuters) - China aims to pass a natio...</td>\n",
              "      <td>1</td>\n",
              "    </tr>\n",
              "  </tbody>\n",
              "</table>\n",
              "<p>10000 rows × 2 columns</p>\n",
              "</div>"
            ],
            "text/plain": [
              "                                                   text  label\n",
              "0     (Reuters) - The story “Trump son-in-law Jared ...      1\n",
              "1     WASHINGTON (Reuters) - Republican presidential...      1\n",
              "2     If America is going to end the day Donald Trum...      0\n",
              "3     WEST PALM BEACH, Fla. (Reuters) - U.S. Preside...      1\n",
              "4     Well, it seems that despite the efforts of not...      0\n",
              "...                                                 ...    ...\n",
              "9995  BRAS LIA (Reuters) - Brazilian police raided t...      1\n",
              "9996  The game plan for Republicans isn t exactly di...      0\n",
              "9997  By now, everyone knows that the Jared Kushner ...      0\n",
              "9998  OSLO (Reuters) - Ex-Bosnian Serb general Rakto...      1\n",
              "9999  BEIJING (Reuters) - China aims to pass a natio...      1\n",
              "\n",
              "[10000 rows x 2 columns]"
            ]
          },
          "metadata": {
            "tags": []
          }
        }
      ]
    },
    {
      "cell_type": "code",
      "metadata": {
        "id": "ImH299aY4M0i"
      },
      "source": [
        "from sklearn.feature_extraction.text import CountVectorizer"
      ],
      "execution_count": null,
      "outputs": []
    },
    {
      "cell_type": "code",
      "metadata": {
        "id": "UxhZ3Lxb4OB5"
      },
      "source": [
        "f = feature_extraction.text.CountVectorizer(stop_words = 'english')\n",
        "vectorizer = CountVectorizer()\n",
        "X = vectorizer.fit_transform(data_small[\"text\"])"
      ],
      "execution_count": null,
      "outputs": []
    },
    {
      "cell_type": "code",
      "metadata": {
        "colab": {
          "base_uri": "https://localhost:8080/"
        },
        "id": "5nl2Ny_d4ZaL",
        "outputId": "1321c082-431a-42c1-fb29-17c8bc79921a"
      },
      "source": [
        "X_train, X_test, y_train, y_test = model_selection.train_test_split(X, data_small['label'], \n",
        "                                                                    test_size=0.2, random_state=50)\n",
        "\n",
        "print(X_train.shape, X_test.shape)"
      ],
      "execution_count": null,
      "outputs": [
        {
          "output_type": "stream",
          "text": [
            "(8000, 63897) (2000, 63897)\n"
          ],
          "name": "stdout"
        }
      ]
    },
    {
      "cell_type": "code",
      "metadata": {
        "id": "n7Qz2NbFiNFW"
      },
      "source": [
        "list_C = np.arange(500, 4500, 500) \n",
        "score_train = np.zeros(len(list_C))\n",
        "score_test = np.zeros(len(list_C))\n",
        "recall_test = np.zeros(len(list_C))\n",
        "precision_test= np.zeros(len(list_C))\n",
        "count = 0\n",
        "for C in list_C:\n",
        "    svc = svm.SVC(C=C)\n",
        "    svc.fit(X_train, y_train)\n",
        "    score_train[count] = svc.score(X_train, y_train)\n",
        "    score_test[count]= svc.score(X_test, y_test)\n",
        "    recall_test[count] = metrics.recall_score(y_test, svc.predict(X_test))\n",
        "    precision_test[count] = metrics.precision_score(y_test, svc.predict(X_test))\n",
        "    count = count + 1 "
      ],
      "execution_count": null,
      "outputs": []
    },
    {
      "cell_type": "code",
      "metadata": {
        "colab": {
          "base_uri": "https://localhost:8080/",
          "height": 297
        },
        "id": "HI61ekz08Egu",
        "outputId": "342045c8-2b97-4591-bb7c-083c88072060"
      },
      "source": [
        "matrix = np.matrix(np.c_[list_C, score_train, score_test, recall_test, precision_test])\n",
        "models = pd.DataFrame(data = matrix, columns = \n",
        "             ['C', 'Train Accuracy', 'Test Accuracy', 'Test Recall', 'Test Precision'])\n",
        "models.head(n=10)"
      ],
      "execution_count": null,
      "outputs": [
        {
          "output_type": "execute_result",
          "data": {
            "text/html": [
              "<div>\n",
              "<style scoped>\n",
              "    .dataframe tbody tr th:only-of-type {\n",
              "        vertical-align: middle;\n",
              "    }\n",
              "\n",
              "    .dataframe tbody tr th {\n",
              "        vertical-align: top;\n",
              "    }\n",
              "\n",
              "    .dataframe thead th {\n",
              "        text-align: right;\n",
              "    }\n",
              "</style>\n",
              "<table border=\"1\" class=\"dataframe\">\n",
              "  <thead>\n",
              "    <tr style=\"text-align: right;\">\n",
              "      <th></th>\n",
              "      <th>C</th>\n",
              "      <th>Train Accuracy</th>\n",
              "      <th>Test Accuracy</th>\n",
              "      <th>Test Recall</th>\n",
              "      <th>Test Precision</th>\n",
              "    </tr>\n",
              "  </thead>\n",
              "  <tbody>\n",
              "    <tr>\n",
              "      <th>0</th>\n",
              "      <td>500.0</td>\n",
              "      <td>0.999875</td>\n",
              "      <td>0.9925</td>\n",
              "      <td>0.988494</td>\n",
              "      <td>0.995785</td>\n",
              "    </tr>\n",
              "    <tr>\n",
              "      <th>1</th>\n",
              "      <td>1000.0</td>\n",
              "      <td>0.999875</td>\n",
              "      <td>0.9925</td>\n",
              "      <td>0.988494</td>\n",
              "      <td>0.995785</td>\n",
              "    </tr>\n",
              "    <tr>\n",
              "      <th>2</th>\n",
              "      <td>1500.0</td>\n",
              "      <td>0.999875</td>\n",
              "      <td>0.9925</td>\n",
              "      <td>0.988494</td>\n",
              "      <td>0.995785</td>\n",
              "    </tr>\n",
              "    <tr>\n",
              "      <th>3</th>\n",
              "      <td>2000.0</td>\n",
              "      <td>0.999875</td>\n",
              "      <td>0.9925</td>\n",
              "      <td>0.988494</td>\n",
              "      <td>0.995785</td>\n",
              "    </tr>\n",
              "    <tr>\n",
              "      <th>4</th>\n",
              "      <td>2500.0</td>\n",
              "      <td>0.999875</td>\n",
              "      <td>0.9925</td>\n",
              "      <td>0.988494</td>\n",
              "      <td>0.995785</td>\n",
              "    </tr>\n",
              "    <tr>\n",
              "      <th>5</th>\n",
              "      <td>3000.0</td>\n",
              "      <td>0.999875</td>\n",
              "      <td>0.9925</td>\n",
              "      <td>0.988494</td>\n",
              "      <td>0.995785</td>\n",
              "    </tr>\n",
              "    <tr>\n",
              "      <th>6</th>\n",
              "      <td>3500.0</td>\n",
              "      <td>0.999875</td>\n",
              "      <td>0.9925</td>\n",
              "      <td>0.988494</td>\n",
              "      <td>0.995785</td>\n",
              "    </tr>\n",
              "    <tr>\n",
              "      <th>7</th>\n",
              "      <td>4000.0</td>\n",
              "      <td>0.999875</td>\n",
              "      <td>0.9925</td>\n",
              "      <td>0.988494</td>\n",
              "      <td>0.995785</td>\n",
              "    </tr>\n",
              "  </tbody>\n",
              "</table>\n",
              "</div>"
            ],
            "text/plain": [
              "        C  Train Accuracy  Test Accuracy  Test Recall  Test Precision\n",
              "0   500.0        0.999875         0.9925     0.988494        0.995785\n",
              "1  1000.0        0.999875         0.9925     0.988494        0.995785\n",
              "2  1500.0        0.999875         0.9925     0.988494        0.995785\n",
              "3  2000.0        0.999875         0.9925     0.988494        0.995785\n",
              "4  2500.0        0.999875         0.9925     0.988494        0.995785\n",
              "5  3000.0        0.999875         0.9925     0.988494        0.995785\n",
              "6  3500.0        0.999875         0.9925     0.988494        0.995785\n",
              "7  4000.0        0.999875         0.9925     0.988494        0.995785"
            ]
          },
          "metadata": {
            "tags": []
          },
          "execution_count": 20
        }
      ]
    },
    {
      "cell_type": "code",
      "metadata": {
        "colab": {
          "base_uri": "https://localhost:8080/",
          "height": 119
        },
        "id": "O8NSWDfK8Ut6",
        "outputId": "ce9a3174-f823-46e3-d7f5-2ed2addd0ca4"
      },
      "source": [
        "best_index = models['Test Precision'].idxmax() # метрики одинаковые при всех C\n",
        "best_index\n",
        "\n",
        "display(models.iloc[best_index])"
      ],
      "execution_count": null,
      "outputs": [
        {
          "output_type": "display_data",
          "data": {
            "text/plain": [
              "C                 500.000000\n",
              "Train Accuracy      0.999875\n",
              "Test Accuracy       0.992500\n",
              "Test Recall         0.988494\n",
              "Test Precision      0.995785\n",
              "Name: 0, dtype: float64"
            ]
          },
          "metadata": {
            "tags": []
          }
        }
      ]
    },
    {
      "cell_type": "code",
      "metadata": {
        "id": "Mar4PK5e_tW6"
      },
      "source": [
        "svm_accuracy = models.iloc[best_index][\"Test Accuracy\"]\n",
        "svm_recall = models.iloc[best_index][\"Test Recall\"]\n",
        "svm_precision = models.iloc[best_index][\"Test Precision\"]"
      ],
      "execution_count": null,
      "outputs": []
    },
    {
      "cell_type": "markdown",
      "metadata": {
        "id": "PobiHPESCG4J"
      },
      "source": [
        "# 3. Decision Tree"
      ]
    },
    {
      "cell_type": "code",
      "metadata": {
        "id": "DVWKzb1HCTBM"
      },
      "source": [
        "tree_clf = DecisionTreeClassifier()"
      ],
      "execution_count": null,
      "outputs": []
    },
    {
      "cell_type": "code",
      "metadata": {
        "colab": {
          "base_uri": "https://localhost:8080/"
        },
        "id": "KQnigw5LCuaJ",
        "outputId": "29690d2c-1e45-4cdd-92e1-b595e546392d"
      },
      "source": [
        "tree_clf.fit(X_train, y_train)"
      ],
      "execution_count": null,
      "outputs": [
        {
          "output_type": "execute_result",
          "data": {
            "text/plain": [
              "DecisionTreeClassifier(ccp_alpha=0.0, class_weight=None, criterion='gini',\n",
              "                       max_depth=None, max_features=None, max_leaf_nodes=None,\n",
              "                       min_impurity_decrease=0.0, min_impurity_split=None,\n",
              "                       min_samples_leaf=1, min_samples_split=2,\n",
              "                       min_weight_fraction_leaf=0.0, presort='deprecated',\n",
              "                       random_state=None, splitter='best')"
            ]
          },
          "metadata": {
            "tags": []
          },
          "execution_count": 24
        }
      ]
    },
    {
      "cell_type": "code",
      "metadata": {
        "id": "9SvLiuMGDEGS"
      },
      "source": [
        "tree_y_pred = tree_clf.predict(X_test)"
      ],
      "execution_count": null,
      "outputs": []
    },
    {
      "cell_type": "code",
      "metadata": {
        "colab": {
          "base_uri": "https://localhost:8080/"
        },
        "id": "KbU1N0XTDM0Q",
        "outputId": "815dcd18-c535-4e46-ffec-3a86cbc4bc8e"
      },
      "source": [
        "DT_recall = metrics.recall_score(y_test, tree_y_pred)\n",
        "DT_precision = metrics.precision_score(y_test, tree_y_pred)\n",
        "DT_accuracy = metrics.accuracy_score(y_test, tree_y_pred)\n",
        "\n",
        "print(DT_accuracy, DT_recall, DT_precision)"
      ],
      "execution_count": null,
      "outputs": [
        {
          "output_type": "stream",
          "text": [
            "0.9925 0.9895397489539749 0.9947423764458465\n"
          ],
          "name": "stdout"
        }
      ]
    },
    {
      "cell_type": "markdown",
      "metadata": {
        "id": "KPEGqznBFCre"
      },
      "source": [
        "# 4. Random Forest"
      ]
    },
    {
      "cell_type": "code",
      "metadata": {
        "id": "rybxilA5FAmm"
      },
      "source": [
        "forest = RandomForestClassifier(n_estimators=1000, verbose=1)"
      ],
      "execution_count": null,
      "outputs": []
    },
    {
      "cell_type": "code",
      "metadata": {
        "colab": {
          "base_uri": "https://localhost:8080/"
        },
        "id": "lFtidu6_Exe7",
        "outputId": "874de416-6bd8-4e1b-ce51-ffab774199b7"
      },
      "source": [
        "forest.fit(X_train, y_train)\n",
        "forest_y_pred = forest.predict(X_test)  "
      ],
      "execution_count": null,
      "outputs": [
        {
          "output_type": "stream",
          "text": [
            "[Parallel(n_jobs=1)]: Using backend SequentialBackend with 1 concurrent workers.\n",
            "[Parallel(n_jobs=1)]: Done 1000 out of 1000 | elapsed:  2.0min finished\n",
            "[Parallel(n_jobs=1)]: Using backend SequentialBackend with 1 concurrent workers.\n",
            "[Parallel(n_jobs=1)]: Done 1000 out of 1000 | elapsed:    2.0s finished\n"
          ],
          "name": "stderr"
        }
      ]
    },
    {
      "cell_type": "code",
      "metadata": {
        "colab": {
          "base_uri": "https://localhost:8080/"
        },
        "id": "Z0Z3bTOHFUWs",
        "outputId": "d40aa468-4bd2-471d-8aac-8780c5b7178b"
      },
      "source": [
        "RF_recall = metrics.recall_score(y_test, forest_y_pred)\n",
        "RF_precision = metrics.precision_score(y_test, forest_y_pred)\n",
        "RF_accuracy = metrics.accuracy_score(y_test, forest_y_pred)\n",
        "\n",
        "print(RF_accuracy, RF_recall, RF_precision)"
      ],
      "execution_count": null,
      "outputs": [
        {
          "output_type": "stream",
          "text": [
            "0.9835 0.9790794979079498 0.9863013698630136\n"
          ],
          "name": "stdout"
        }
      ]
    },
    {
      "cell_type": "code",
      "metadata": {
        "colab": {
          "base_uri": "https://localhost:8080/",
          "height": 173
        },
        "id": "vruFMHvESj-p",
        "outputId": "86f701ac-1255-4510-f762-bf8fe8aaa98f"
      },
      "source": [
        "results = {\"NB\": [bayes_accuracy, bayes_recall, bayes_precision],\n",
        "           \"SVM\": [svm_accuracy, svm_recall, svm_precision],\n",
        "           \"DT\": [DT_accuracy, DT_recall, DT_precision],\n",
        "           \"RF\": [RF_accuracy, RF_recall, RF_precision]}\n",
        "df = pd.DataFrame.from_dict(results, orient='index', columns = [\"Accuracy\", \"Recall\", \"Precision\"])\n",
        "df"
      ],
      "execution_count": null,
      "outputs": [
        {
          "output_type": "execute_result",
          "data": {
            "text/html": [
              "<div>\n",
              "<style scoped>\n",
              "    .dataframe tbody tr th:only-of-type {\n",
              "        vertical-align: middle;\n",
              "    }\n",
              "\n",
              "    .dataframe tbody tr th {\n",
              "        vertical-align: top;\n",
              "    }\n",
              "\n",
              "    .dataframe thead th {\n",
              "        text-align: right;\n",
              "    }\n",
              "</style>\n",
              "<table border=\"1\" class=\"dataframe\">\n",
              "  <thead>\n",
              "    <tr style=\"text-align: right;\">\n",
              "      <th></th>\n",
              "      <th>Accuracy</th>\n",
              "      <th>Recall</th>\n",
              "      <th>Precision</th>\n",
              "    </tr>\n",
              "  </thead>\n",
              "  <tbody>\n",
              "    <tr>\n",
              "      <th>NB</th>\n",
              "      <td>0.964811</td>\n",
              "      <td>0.956593</td>\n",
              "      <td>0.968869</td>\n",
              "    </tr>\n",
              "    <tr>\n",
              "      <th>SVM</th>\n",
              "      <td>0.992500</td>\n",
              "      <td>0.988494</td>\n",
              "      <td>0.995785</td>\n",
              "    </tr>\n",
              "    <tr>\n",
              "      <th>DT</th>\n",
              "      <td>0.992500</td>\n",
              "      <td>0.989540</td>\n",
              "      <td>0.994742</td>\n",
              "    </tr>\n",
              "    <tr>\n",
              "      <th>RF</th>\n",
              "      <td>0.983500</td>\n",
              "      <td>0.979079</td>\n",
              "      <td>0.986301</td>\n",
              "    </tr>\n",
              "  </tbody>\n",
              "</table>\n",
              "</div>"
            ],
            "text/plain": [
              "     Accuracy    Recall  Precision\n",
              "NB   0.964811  0.956593   0.968869\n",
              "SVM  0.992500  0.988494   0.995785\n",
              "DT   0.992500  0.989540   0.994742\n",
              "RF   0.983500  0.979079   0.986301"
            ]
          },
          "metadata": {
            "tags": []
          },
          "execution_count": 34
        }
      ]
    }
  ]
}